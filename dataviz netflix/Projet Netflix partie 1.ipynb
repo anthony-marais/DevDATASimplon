{
 "metadata": {
  "language_info": {
   "codemirror_mode": {
    "name": "ipython",
    "version": 3
   },
   "file_extension": ".py",
   "mimetype": "text/x-python",
   "name": "python",
   "nbconvert_exporter": "python",
   "pygments_lexer": "ipython3",
   "version": "3.8.3-final"
  },
  "orig_nbformat": 2,
  "kernelspec": {
   "name": "python3",
   "display_name": "Python 3"
  }
 },
 "nbformat": 4,
 "nbformat_minor": 2,
 "cells": [
  {
   "cell_type": "code",
   "execution_count": 1,
   "metadata": {
    "tags": []
   },
   "outputs": [
    {
     "output_type": "stream",
     "name": "stdout",
     "text": "partie 1 netflix\n"
    }
   ],
   "source": [
    "print(\"partie 1 netflix\")"
   ]
  },
  {
   "cell_type": "code",
   "execution_count": 2,
   "metadata": {},
   "outputs": [
    {
     "output_type": "execute_result",
     "data": {
      "text/plain": "             type                                    title  \\\nshow_id                                                      \n81145628    Movie  Norm of the North: King Sized Adventure   \n80117401    Movie               Jandino: Whatever it Takes   \n70234439  TV Show                       Transformers Prime   \n80058654  TV Show         Transformers: Robots in Disguise   \n80125979    Movie                             #realityhigh   \n\n                          director  \\\nshow_id                              \n81145628  Richard Finn, Tim Maltby   \n80117401                       NaN   \n70234439                       NaN   \n80058654                       NaN   \n80125979          Fernando Lebrija   \n\n                                                       cast  \\\nshow_id                                                       \n81145628  Alan Marriott, Andrew Toth, Brian Dobson, Cole...   \n80117401                                   Jandino Asporaat   \n70234439  Peter Cullen, Sumalee Montano, Frank Welker, J...   \n80058654  Will Friedle, Darren Criss, Constance Zimmer, ...   \n80125979  Nesta Cooper, Kate Walsh, John Michael Higgins...   \n\n                                           country         date_added  \\\nshow_id                                                                 \n81145628  United States, India, South Korea, China  September 9, 2019   \n80117401                            United Kingdom  September 9, 2016   \n70234439                             United States  September 8, 2018   \n80058654                             United States  September 8, 2018   \n80125979                             United States  September 8, 2017   \n\n          release_year    rating  duration  \\\nshow_id                                      \n81145628          2019     TV-PG    90 min   \n80117401          2016     TV-MA    94 min   \n70234439          2013  TV-Y7-FV  1 Season   \n80058654          2016     TV-Y7  1 Season   \n80125979          2017     TV-14    99 min   \n\n                                   listed_in  \\\nshow_id                                        \n81145628  Children & Family Movies, Comedies   \n80117401                     Stand-Up Comedy   \n70234439                            Kids' TV   \n80058654                            Kids' TV   \n80125979                            Comedies   \n\n                                                description  \nshow_id                                                      \n81145628  Before planning an awesome wedding for his gra...  \n80117401  Jandino Asporaat riffs on the challenges of ra...  \n70234439  With the help of three human allies, the Autob...  \n80058654  When a prison ship crash unleashes hundreds of...  \n80125979  When nerdy high schooler Dani finally attracts...  ",
      "text/html": "<div>\n<style scoped>\n    .dataframe tbody tr th:only-of-type {\n        vertical-align: middle;\n    }\n\n    .dataframe tbody tr th {\n        vertical-align: top;\n    }\n\n    .dataframe thead th {\n        text-align: right;\n    }\n</style>\n<table border=\"1\" class=\"dataframe\">\n  <thead>\n    <tr style=\"text-align: right;\">\n      <th></th>\n      <th>type</th>\n      <th>title</th>\n      <th>director</th>\n      <th>cast</th>\n      <th>country</th>\n      <th>date_added</th>\n      <th>release_year</th>\n      <th>rating</th>\n      <th>duration</th>\n      <th>listed_in</th>\n      <th>description</th>\n    </tr>\n    <tr>\n      <th>show_id</th>\n      <th></th>\n      <th></th>\n      <th></th>\n      <th></th>\n      <th></th>\n      <th></th>\n      <th></th>\n      <th></th>\n      <th></th>\n      <th></th>\n      <th></th>\n    </tr>\n  </thead>\n  <tbody>\n    <tr>\n      <th>81145628</th>\n      <td>Movie</td>\n      <td>Norm of the North: King Sized Adventure</td>\n      <td>Richard Finn, Tim Maltby</td>\n      <td>Alan Marriott, Andrew Toth, Brian Dobson, Cole...</td>\n      <td>United States, India, South Korea, China</td>\n      <td>September 9, 2019</td>\n      <td>2019</td>\n      <td>TV-PG</td>\n      <td>90 min</td>\n      <td>Children &amp; Family Movies, Comedies</td>\n      <td>Before planning an awesome wedding for his gra...</td>\n    </tr>\n    <tr>\n      <th>80117401</th>\n      <td>Movie</td>\n      <td>Jandino: Whatever it Takes</td>\n      <td>NaN</td>\n      <td>Jandino Asporaat</td>\n      <td>United Kingdom</td>\n      <td>September 9, 2016</td>\n      <td>2016</td>\n      <td>TV-MA</td>\n      <td>94 min</td>\n      <td>Stand-Up Comedy</td>\n      <td>Jandino Asporaat riffs on the challenges of ra...</td>\n    </tr>\n    <tr>\n      <th>70234439</th>\n      <td>TV Show</td>\n      <td>Transformers Prime</td>\n      <td>NaN</td>\n      <td>Peter Cullen, Sumalee Montano, Frank Welker, J...</td>\n      <td>United States</td>\n      <td>September 8, 2018</td>\n      <td>2013</td>\n      <td>TV-Y7-FV</td>\n      <td>1 Season</td>\n      <td>Kids' TV</td>\n      <td>With the help of three human allies, the Autob...</td>\n    </tr>\n    <tr>\n      <th>80058654</th>\n      <td>TV Show</td>\n      <td>Transformers: Robots in Disguise</td>\n      <td>NaN</td>\n      <td>Will Friedle, Darren Criss, Constance Zimmer, ...</td>\n      <td>United States</td>\n      <td>September 8, 2018</td>\n      <td>2016</td>\n      <td>TV-Y7</td>\n      <td>1 Season</td>\n      <td>Kids' TV</td>\n      <td>When a prison ship crash unleashes hundreds of...</td>\n    </tr>\n    <tr>\n      <th>80125979</th>\n      <td>Movie</td>\n      <td>#realityhigh</td>\n      <td>Fernando Lebrija</td>\n      <td>Nesta Cooper, Kate Walsh, John Michael Higgins...</td>\n      <td>United States</td>\n      <td>September 8, 2017</td>\n      <td>2017</td>\n      <td>TV-14</td>\n      <td>99 min</td>\n      <td>Comedies</td>\n      <td>When nerdy high schooler Dani finally attracts...</td>\n    </tr>\n  </tbody>\n</table>\n</div>"
     },
     "metadata": {},
     "execution_count": 2
    }
   ],
   "source": [
    "# Import de la librairie pandas avec l'allias pd\n",
    "\n",
    "import pandas as pd\n",
    "\n",
    "# 1. Lire le fichier\n",
    "# importation des données du fichier csv\n",
    "\n",
    "data = pd.read_csv(\"///home/virus//Mon-Depot//dossier .py//dataviz netflix//netflix_titles.csv\",index_col=0)\n",
    "\n",
    "data.head()"
   ]
  },
  {
   "cell_type": "code",
   "execution_count": 3,
   "metadata": {
    "tags": []
   },
   "outputs": [
    {
     "output_type": "stream",
     "name": "stdout",
     "text": "6234\n11\n"
    }
   ],
   "source": [
    "# 2. Afficher les dimensions du dataframe\n",
    "data.shape\n",
    "print(data.shape[0]) # lignes\n",
    "print(data.shape[1]) # colonne"
   ]
  },
  {
   "cell_type": "code",
   "execution_count": 5,
   "metadata": {},
   "outputs": [
    {
     "output_type": "execute_result",
     "data": {
      "text/plain": "           type                                    title  \\\nshow_id                                                    \n81145628  Movie  Norm of the North: King Sized Adventure   \n80117401  Movie               Jandino: Whatever it Takes   \n80125979  Movie                             #realityhigh   \n70304989  Movie                                 Automata   \n80164077  Movie       Fabrizio Copano: Solo pienso en mi   \n\n                                 director  \\\nshow_id                                     \n81145628         Richard Finn, Tim Maltby   \n80117401                              NaN   \n80125979                 Fernando Lebrija   \n70304989                      Gabe Ibáñez   \n80164077  Rodrigo Toro, Francisco Schultz   \n\n                                                       cast  \\\nshow_id                                                       \n81145628  Alan Marriott, Andrew Toth, Brian Dobson, Cole...   \n80117401                                   Jandino Asporaat   \n80125979  Nesta Cooper, Kate Walsh, John Michael Higgins...   \n70304989  Antonio Banderas, Dylan McDermott, Melanie Gri...   \n80164077                                    Fabrizio Copano   \n\n                                           country         date_added  \\\nshow_id                                                                 \n81145628  United States, India, South Korea, China  September 9, 2019   \n80117401                            United Kingdom  September 9, 2016   \n80125979                             United States  September 8, 2017   \n70304989    Bulgaria, United States, Spain, Canada  September 8, 2017   \n80164077                                     Chile  September 8, 2017   \n\n          release_year rating duration  \\\nshow_id                                  \n81145628          2019  TV-PG   90 min   \n80117401          2016  TV-MA   94 min   \n80125979          2017  TV-14   99 min   \n70304989          2014      R  110 min   \n80164077          2017  TV-MA   60 min   \n\n                                                  listed_in  \\\nshow_id                                                       \n81145628                 Children & Family Movies, Comedies   \n80117401                                    Stand-Up Comedy   \n80125979                                           Comedies   \n70304989  International Movies, Sci-Fi & Fantasy, Thrillers   \n80164077                                    Stand-Up Comedy   \n\n                                                description  \nshow_id                                                      \n81145628  Before planning an awesome wedding for his gra...  \n80117401  Jandino Asporaat riffs on the challenges of ra...  \n80125979  When nerdy high schooler Dani finally attracts...  \n70304989  In a dystopian future, an insurance adjuster f...  \n80164077  Fabrizio Copano takes audience participation t...  ",
      "text/html": "<div>\n<style scoped>\n    .dataframe tbody tr th:only-of-type {\n        vertical-align: middle;\n    }\n\n    .dataframe tbody tr th {\n        vertical-align: top;\n    }\n\n    .dataframe thead th {\n        text-align: right;\n    }\n</style>\n<table border=\"1\" class=\"dataframe\">\n  <thead>\n    <tr style=\"text-align: right;\">\n      <th></th>\n      <th>type</th>\n      <th>title</th>\n      <th>director</th>\n      <th>cast</th>\n      <th>country</th>\n      <th>date_added</th>\n      <th>release_year</th>\n      <th>rating</th>\n      <th>duration</th>\n      <th>listed_in</th>\n      <th>description</th>\n    </tr>\n    <tr>\n      <th>show_id</th>\n      <th></th>\n      <th></th>\n      <th></th>\n      <th></th>\n      <th></th>\n      <th></th>\n      <th></th>\n      <th></th>\n      <th></th>\n      <th></th>\n      <th></th>\n    </tr>\n  </thead>\n  <tbody>\n    <tr>\n      <th>81145628</th>\n      <td>Movie</td>\n      <td>Norm of the North: King Sized Adventure</td>\n      <td>Richard Finn, Tim Maltby</td>\n      <td>Alan Marriott, Andrew Toth, Brian Dobson, Cole...</td>\n      <td>United States, India, South Korea, China</td>\n      <td>September 9, 2019</td>\n      <td>2019</td>\n      <td>TV-PG</td>\n      <td>90 min</td>\n      <td>Children &amp; Family Movies, Comedies</td>\n      <td>Before planning an awesome wedding for his gra...</td>\n    </tr>\n    <tr>\n      <th>80117401</th>\n      <td>Movie</td>\n      <td>Jandino: Whatever it Takes</td>\n      <td>NaN</td>\n      <td>Jandino Asporaat</td>\n      <td>United Kingdom</td>\n      <td>September 9, 2016</td>\n      <td>2016</td>\n      <td>TV-MA</td>\n      <td>94 min</td>\n      <td>Stand-Up Comedy</td>\n      <td>Jandino Asporaat riffs on the challenges of ra...</td>\n    </tr>\n    <tr>\n      <th>80125979</th>\n      <td>Movie</td>\n      <td>#realityhigh</td>\n      <td>Fernando Lebrija</td>\n      <td>Nesta Cooper, Kate Walsh, John Michael Higgins...</td>\n      <td>United States</td>\n      <td>September 8, 2017</td>\n      <td>2017</td>\n      <td>TV-14</td>\n      <td>99 min</td>\n      <td>Comedies</td>\n      <td>When nerdy high schooler Dani finally attracts...</td>\n    </tr>\n    <tr>\n      <th>70304989</th>\n      <td>Movie</td>\n      <td>Automata</td>\n      <td>Gabe Ibáñez</td>\n      <td>Antonio Banderas, Dylan McDermott, Melanie Gri...</td>\n      <td>Bulgaria, United States, Spain, Canada</td>\n      <td>September 8, 2017</td>\n      <td>2014</td>\n      <td>R</td>\n      <td>110 min</td>\n      <td>International Movies, Sci-Fi &amp; Fantasy, Thrillers</td>\n      <td>In a dystopian future, an insurance adjuster f...</td>\n    </tr>\n    <tr>\n      <th>80164077</th>\n      <td>Movie</td>\n      <td>Fabrizio Copano: Solo pienso en mi</td>\n      <td>Rodrigo Toro, Francisco Schultz</td>\n      <td>Fabrizio Copano</td>\n      <td>Chile</td>\n      <td>September 8, 2017</td>\n      <td>2017</td>\n      <td>TV-MA</td>\n      <td>60 min</td>\n      <td>Stand-Up Comedy</td>\n      <td>Fabrizio Copano takes audience participation t...</td>\n    </tr>\n  </tbody>\n</table>\n</div>"
     },
     "metadata": {},
     "execution_count": 5
    }
   ],
   "source": [
    "# 3. Compter les films et les série\n",
    "\n",
    "data_movie= pd.DataFrame(data.loc[data['type']==\"Movie\"])\n",
    "data_movie.head()\n"
   ]
  },
  {
   "cell_type": "code",
   "execution_count": 6,
   "metadata": {},
   "outputs": [
    {
     "output_type": "execute_result",
     "data": {
      "text/plain": "Movie    4265\nName: type, dtype: int64"
     },
     "metadata": {},
     "execution_count": 6
    }
   ],
   "source": [
    "data_movie['type'].value_counts()"
   ]
  },
  {
   "cell_type": "code",
   "execution_count": 7,
   "metadata": {},
   "outputs": [
    {
     "output_type": "execute_result",
     "data": {
      "text/plain": "             type                             title director  \\\nshow_id                                                        \n70234439  TV Show                Transformers Prime      NaN   \n80058654  TV Show  Transformers: Robots in Disguise      NaN   \n80163890  TV Show                           Apaches      NaN   \n80117902  TV Show                      Fire Chasers      NaN   \n80244601  TV Show                   Castle of Stars      NaN   \n\n                                                       cast        country  \\\nshow_id                                                                      \n70234439  Peter Cullen, Sumalee Montano, Frank Welker, J...  United States   \n80058654  Will Friedle, Darren Criss, Constance Zimmer, ...  United States   \n80163890  Alberto Ammann, Eloy Azorín, Verónica Echegui,...          Spain   \n80117902                                                NaN  United States   \n80244601  Chaiyapol Pupart, Jintanutda Lummakanon, Worra...            NaN   \n\n                 date_added  release_year    rating  duration  \\\nshow_id                                                         \n70234439  September 8, 2018          2013  TV-Y7-FV  1 Season   \n80058654  September 8, 2018          2016     TV-Y7  1 Season   \n80163890  September 8, 2017          2016     TV-MA  1 Season   \n80117902  September 8, 2017          2017     TV-MA  1 Season   \n80244601  September 7, 2018          2015     TV-14  1 Season   \n\n                                                  listed_in  \\\nshow_id                                                       \n70234439                                           Kids' TV   \n80058654                                           Kids' TV   \n80163890  Crime TV Shows, International TV Shows, Spanis...   \n80117902                    Docuseries, Science & Nature TV   \n80244601  International TV Shows, Romantic TV Shows, TV ...   \n\n                                                description  \nshow_id                                                      \n70234439  With the help of three human allies, the Autob...  \n80058654  When a prison ship crash unleashes hundreds of...  \n80163890  A young journalist is forced into a life of cr...  \n80117902  As California's 2016 fire season rages, brave ...  \n80244601  As four couples with different lifestyles go t...  ",
      "text/html": "<div>\n<style scoped>\n    .dataframe tbody tr th:only-of-type {\n        vertical-align: middle;\n    }\n\n    .dataframe tbody tr th {\n        vertical-align: top;\n    }\n\n    .dataframe thead th {\n        text-align: right;\n    }\n</style>\n<table border=\"1\" class=\"dataframe\">\n  <thead>\n    <tr style=\"text-align: right;\">\n      <th></th>\n      <th>type</th>\n      <th>title</th>\n      <th>director</th>\n      <th>cast</th>\n      <th>country</th>\n      <th>date_added</th>\n      <th>release_year</th>\n      <th>rating</th>\n      <th>duration</th>\n      <th>listed_in</th>\n      <th>description</th>\n    </tr>\n    <tr>\n      <th>show_id</th>\n      <th></th>\n      <th></th>\n      <th></th>\n      <th></th>\n      <th></th>\n      <th></th>\n      <th></th>\n      <th></th>\n      <th></th>\n      <th></th>\n      <th></th>\n    </tr>\n  </thead>\n  <tbody>\n    <tr>\n      <th>70234439</th>\n      <td>TV Show</td>\n      <td>Transformers Prime</td>\n      <td>NaN</td>\n      <td>Peter Cullen, Sumalee Montano, Frank Welker, J...</td>\n      <td>United States</td>\n      <td>September 8, 2018</td>\n      <td>2013</td>\n      <td>TV-Y7-FV</td>\n      <td>1 Season</td>\n      <td>Kids' TV</td>\n      <td>With the help of three human allies, the Autob...</td>\n    </tr>\n    <tr>\n      <th>80058654</th>\n      <td>TV Show</td>\n      <td>Transformers: Robots in Disguise</td>\n      <td>NaN</td>\n      <td>Will Friedle, Darren Criss, Constance Zimmer, ...</td>\n      <td>United States</td>\n      <td>September 8, 2018</td>\n      <td>2016</td>\n      <td>TV-Y7</td>\n      <td>1 Season</td>\n      <td>Kids' TV</td>\n      <td>When a prison ship crash unleashes hundreds of...</td>\n    </tr>\n    <tr>\n      <th>80163890</th>\n      <td>TV Show</td>\n      <td>Apaches</td>\n      <td>NaN</td>\n      <td>Alberto Ammann, Eloy Azorín, Verónica Echegui,...</td>\n      <td>Spain</td>\n      <td>September 8, 2017</td>\n      <td>2016</td>\n      <td>TV-MA</td>\n      <td>1 Season</td>\n      <td>Crime TV Shows, International TV Shows, Spanis...</td>\n      <td>A young journalist is forced into a life of cr...</td>\n    </tr>\n    <tr>\n      <th>80117902</th>\n      <td>TV Show</td>\n      <td>Fire Chasers</td>\n      <td>NaN</td>\n      <td>NaN</td>\n      <td>United States</td>\n      <td>September 8, 2017</td>\n      <td>2017</td>\n      <td>TV-MA</td>\n      <td>1 Season</td>\n      <td>Docuseries, Science &amp; Nature TV</td>\n      <td>As California's 2016 fire season rages, brave ...</td>\n    </tr>\n    <tr>\n      <th>80244601</th>\n      <td>TV Show</td>\n      <td>Castle of Stars</td>\n      <td>NaN</td>\n      <td>Chaiyapol Pupart, Jintanutda Lummakanon, Worra...</td>\n      <td>NaN</td>\n      <td>September 7, 2018</td>\n      <td>2015</td>\n      <td>TV-14</td>\n      <td>1 Season</td>\n      <td>International TV Shows, Romantic TV Shows, TV ...</td>\n      <td>As four couples with different lifestyles go t...</td>\n    </tr>\n  </tbody>\n</table>\n</div>"
     },
     "metadata": {},
     "execution_count": 7
    }
   ],
   "source": [
    "data_serie = pd.DataFrame(data.loc[data['type']==\"TV Show\"])\n",
    "data_serie.head()"
   ]
  },
  {
   "cell_type": "code",
   "execution_count": 8,
   "metadata": {},
   "outputs": [
    {
     "output_type": "execute_result",
     "data": {
      "text/plain": "TV Show    1969\nName: type, dtype: int64"
     },
     "metadata": {},
     "execution_count": 8
    }
   ],
   "source": [
    "data_serie['type'].value_counts()"
   ]
  },
  {
   "cell_type": "code",
   "execution_count": 9,
   "metadata": {},
   "outputs": [
    {
     "output_type": "execute_result",
     "data": {
      "text/plain": "Movie      4265\nTV Show    1969\nName: type, dtype: int64"
     },
     "metadata": {},
     "execution_count": 9
    }
   ],
   "source": [
    "data.type.value_counts()"
   ]
  },
  {
   "cell_type": "code",
   "execution_count": 10,
   "metadata": {},
   "outputs": [
    {
     "output_type": "execute_result",
     "data": {
      "text/plain": "Movie      4265\nTV Show    1969\nName: type, dtype: int64"
     },
     "metadata": {},
     "execution_count": 10
    }
   ],
   "source": [
    "data_serie_movie = data.loc[(data['type']==\"TV Show\") | (data['type']==\"Movie\")]\n",
    "data_serie_movie.type.value_counts()"
   ]
  },
  {
   "cell_type": "code",
   "execution_count": 11,
   "metadata": {},
   "outputs": [
    {
     "output_type": "execute_result",
     "data": {
      "text/plain": "         type title                director                cast  \\\ncount    6234  6234                    4265                5664   \nunique      2  6172                    3301                5469   \ntop     Movie  Love  Raúl Campos, Jan Suter  David Attenborough   \nfreq     4265     3                      18                  18   \nmean      NaN   NaN                     NaN                 NaN   \nstd       NaN   NaN                     NaN                 NaN   \nmin       NaN   NaN                     NaN                 NaN   \n25%       NaN   NaN                     NaN                 NaN   \n50%       NaN   NaN                     NaN                 NaN   \n75%       NaN   NaN                     NaN                 NaN   \nmax       NaN   NaN                     NaN                 NaN   \n\n              country       date_added  release_year rating  duration  \\\ncount            5758             6223    6234.00000   6224      6234   \nunique            554             1524           NaN     14       201   \ntop     United States  January 1, 2020           NaN  TV-MA  1 Season   \nfreq             2032              122           NaN   2027      1321   \nmean              NaN              NaN    2013.35932    NaN       NaN   \nstd               NaN              NaN       8.81162    NaN       NaN   \nmin               NaN              NaN    1925.00000    NaN       NaN   \n25%               NaN              NaN    2013.00000    NaN       NaN   \n50%               NaN              NaN    2016.00000    NaN       NaN   \n75%               NaN              NaN    2018.00000    NaN       NaN   \nmax               NaN              NaN    2020.00000    NaN       NaN   \n\n            listed_in                                        description  \ncount            6234                                               6234  \nunique            461                                               6226  \ntop     Documentaries  A surly septuagenarian gets another chance at ...  \nfreq              299                                                  3  \nmean              NaN                                                NaN  \nstd               NaN                                                NaN  \nmin               NaN                                                NaN  \n25%               NaN                                                NaN  \n50%               NaN                                                NaN  \n75%               NaN                                                NaN  \nmax               NaN                                                NaN  ",
      "text/html": "<div>\n<style scoped>\n    .dataframe tbody tr th:only-of-type {\n        vertical-align: middle;\n    }\n\n    .dataframe tbody tr th {\n        vertical-align: top;\n    }\n\n    .dataframe thead th {\n        text-align: right;\n    }\n</style>\n<table border=\"1\" class=\"dataframe\">\n  <thead>\n    <tr style=\"text-align: right;\">\n      <th></th>\n      <th>type</th>\n      <th>title</th>\n      <th>director</th>\n      <th>cast</th>\n      <th>country</th>\n      <th>date_added</th>\n      <th>release_year</th>\n      <th>rating</th>\n      <th>duration</th>\n      <th>listed_in</th>\n      <th>description</th>\n    </tr>\n  </thead>\n  <tbody>\n    <tr>\n      <th>count</th>\n      <td>6234</td>\n      <td>6234</td>\n      <td>4265</td>\n      <td>5664</td>\n      <td>5758</td>\n      <td>6223</td>\n      <td>6234.00000</td>\n      <td>6224</td>\n      <td>6234</td>\n      <td>6234</td>\n      <td>6234</td>\n    </tr>\n    <tr>\n      <th>unique</th>\n      <td>2</td>\n      <td>6172</td>\n      <td>3301</td>\n      <td>5469</td>\n      <td>554</td>\n      <td>1524</td>\n      <td>NaN</td>\n      <td>14</td>\n      <td>201</td>\n      <td>461</td>\n      <td>6226</td>\n    </tr>\n    <tr>\n      <th>top</th>\n      <td>Movie</td>\n      <td>Love</td>\n      <td>Raúl Campos, Jan Suter</td>\n      <td>David Attenborough</td>\n      <td>United States</td>\n      <td>January 1, 2020</td>\n      <td>NaN</td>\n      <td>TV-MA</td>\n      <td>1 Season</td>\n      <td>Documentaries</td>\n      <td>A surly septuagenarian gets another chance at ...</td>\n    </tr>\n    <tr>\n      <th>freq</th>\n      <td>4265</td>\n      <td>3</td>\n      <td>18</td>\n      <td>18</td>\n      <td>2032</td>\n      <td>122</td>\n      <td>NaN</td>\n      <td>2027</td>\n      <td>1321</td>\n      <td>299</td>\n      <td>3</td>\n    </tr>\n    <tr>\n      <th>mean</th>\n      <td>NaN</td>\n      <td>NaN</td>\n      <td>NaN</td>\n      <td>NaN</td>\n      <td>NaN</td>\n      <td>NaN</td>\n      <td>2013.35932</td>\n      <td>NaN</td>\n      <td>NaN</td>\n      <td>NaN</td>\n      <td>NaN</td>\n    </tr>\n    <tr>\n      <th>std</th>\n      <td>NaN</td>\n      <td>NaN</td>\n      <td>NaN</td>\n      <td>NaN</td>\n      <td>NaN</td>\n      <td>NaN</td>\n      <td>8.81162</td>\n      <td>NaN</td>\n      <td>NaN</td>\n      <td>NaN</td>\n      <td>NaN</td>\n    </tr>\n    <tr>\n      <th>min</th>\n      <td>NaN</td>\n      <td>NaN</td>\n      <td>NaN</td>\n      <td>NaN</td>\n      <td>NaN</td>\n      <td>NaN</td>\n      <td>1925.00000</td>\n      <td>NaN</td>\n      <td>NaN</td>\n      <td>NaN</td>\n      <td>NaN</td>\n    </tr>\n    <tr>\n      <th>25%</th>\n      <td>NaN</td>\n      <td>NaN</td>\n      <td>NaN</td>\n      <td>NaN</td>\n      <td>NaN</td>\n      <td>NaN</td>\n      <td>2013.00000</td>\n      <td>NaN</td>\n      <td>NaN</td>\n      <td>NaN</td>\n      <td>NaN</td>\n    </tr>\n    <tr>\n      <th>50%</th>\n      <td>NaN</td>\n      <td>NaN</td>\n      <td>NaN</td>\n      <td>NaN</td>\n      <td>NaN</td>\n      <td>NaN</td>\n      <td>2016.00000</td>\n      <td>NaN</td>\n      <td>NaN</td>\n      <td>NaN</td>\n      <td>NaN</td>\n    </tr>\n    <tr>\n      <th>75%</th>\n      <td>NaN</td>\n      <td>NaN</td>\n      <td>NaN</td>\n      <td>NaN</td>\n      <td>NaN</td>\n      <td>NaN</td>\n      <td>2018.00000</td>\n      <td>NaN</td>\n      <td>NaN</td>\n      <td>NaN</td>\n      <td>NaN</td>\n    </tr>\n    <tr>\n      <th>max</th>\n      <td>NaN</td>\n      <td>NaN</td>\n      <td>NaN</td>\n      <td>NaN</td>\n      <td>NaN</td>\n      <td>NaN</td>\n      <td>2020.00000</td>\n      <td>NaN</td>\n      <td>NaN</td>\n      <td>NaN</td>\n      <td>NaN</td>\n    </tr>\n  </tbody>\n</table>\n</div>"
     },
     "metadata": {},
     "execution_count": 11
    }
   ],
   "source": [
    "# 4. Générer le résumé statistique du dataframe\n",
    "\n",
    "data.describe(include='all')"
   ]
  },
  {
   "cell_type": "code",
   "execution_count": 12,
   "metadata": {},
   "outputs": [
    {
     "output_type": "execute_result",
     "data": {
      "text/plain": "type               0\ntitle              0\ndirector        1969\ncast             570\ncountry          476\ndate_added        11\nrelease_year       0\nrating            10\nduration           0\nlisted_in          0\ndescription        0\ndtype: int64"
     },
     "metadata": {},
     "execution_count": 12
    }
   ],
   "source": [
    "# 5. Compter les valeurs manquant\n",
    "\n",
    "data_sum = (data.isna()).sum()\n",
    "data_sum"
   ]
  },
  {
   "cell_type": "code",
   "execution_count": 13,
   "metadata": {},
   "outputs": [
    {
     "output_type": "execute_result",
     "data": {
      "text/plain": "TV Show    1841\nMovie       128\nName: type, dtype: int64"
     },
     "metadata": {},
     "execution_count": 13
    }
   ],
   "source": [
    "# 6. Explorer les valeurs manquante\n",
    "\n",
    "# a. Sur la colonne des directeurs de production\n",
    "\n",
    "data.loc[data['director'].isna(),:].type.value_counts()"
   ]
  },
  {
   "cell_type": "code",
   "execution_count": 14,
   "metadata": {},
   "outputs": [
    {
     "output_type": "execute_result",
     "data": {
      "text/plain": "Documentaries                                              148\nDocumentaries, International Movies                         94\nDocuseries                                                  31\nDocumentaries, Sports Movies                                20\nCrime TV Shows, Docuseries                                  19\nDocumentaries, Music & Musicals                             15\nKids' TV                                                    14\nDocuseries, International TV Shows                          14\nDocumentaries, International Movies, Sports Movies          14\nReality TV                                                  12\nCrime TV Shows, Docuseries, International TV Shows          12\nDocumentaries, International Movies, Music & Musicals       11\nBritish TV Shows, International TV Shows, Reality TV         9\nChildren & Family Movies                                     8\nKids' TV, TV Comedies                                        8\nDocuseries, Science & Nature TV                              7\nDocuseries, Reality TV                                       7\nBritish TV Shows, Docuseries, Science & Nature TV            6\nDocuseries, International TV Shows, Science & Nature TV      6\nBritish TV Shows, Docuseries, International TV Shows         6\nName: listed_in, dtype: int64"
     },
     "metadata": {},
     "execution_count": 14
    }
   ],
   "source": [
    "# b. Sur la colonne des acteurs\n",
    "data.loc[data['cast'].isna()].listed_in.value_counts().head(n=20)"
   ]
  },
  {
   "cell_type": "code",
   "execution_count": 15,
   "metadata": {},
   "outputs": [
    {
     "output_type": "execute_result",
     "data": {
      "text/plain": "False    6233\nTrue        1\ndtype: int64"
     },
     "metadata": {},
     "execution_count": 15
    }
   ],
   "source": [
    "# 7. Supprimer les lignes dupliquées\n",
    "\n",
    "data.duplicated().value_counts()"
   ]
  },
  {
   "cell_type": "code",
   "execution_count": 16,
   "metadata": {},
   "outputs": [
    {
     "output_type": "execute_result",
     "data": {
      "text/plain": "False    6233\ndtype: int64"
     },
     "metadata": {},
     "execution_count": 16
    }
   ],
   "source": [
    "data_drop = data.drop_duplicates()\n",
    "data_drop.duplicated().value_counts()"
   ]
  },
  {
   "cell_type": "code",
   "execution_count": 17,
   "metadata": {},
   "outputs": [
    {
     "output_type": "execute_result",
     "data": {
      "text/plain": "United States    2032\nFrance             90\nName: country, dtype: int64"
     },
     "metadata": {},
     "execution_count": 17
    }
   ],
   "source": [
    "# 8. Compter les films/séries produits par les États-Unis et par la France\n",
    "\n",
    "data_count_US_FR = data.loc[(data['country']==\"United States\") | (data['country']==\"France\")]\n",
    "\n",
    "data_count_US_FR['country'].value_counts()"
   ]
  },
  {
   "cell_type": "code",
   "execution_count": 18,
   "metadata": {},
   "outputs": [
    {
     "output_type": "execute_result",
     "data": {
      "text/plain": "1925"
     },
     "metadata": {},
     "execution_count": 18
    }
   ],
   "source": [
    "# 9. Afficher le contenu le plus vieux disponible sur Netflix\n",
    "\n",
    "data.release_year.min()"
   ]
  },
  {
   "cell_type": "code",
   "execution_count": 19,
   "metadata": {},
   "outputs": [
    {
     "output_type": "execute_result",
     "data": {
      "text/plain": "show_id\n81145628    False\n80117401    False\n70234439    False\n80058654    False\n80125979    False\n            ...  \n80000063    False\n70286564    False\n80116008    False\n70281022    False\n70153404    False\nName: release_year, Length: 6234, dtype: bool"
     },
     "metadata": {},
     "execution_count": 19
    }
   ],
   "source": [
    "data['release_year']==\"1925\""
   ]
  },
  {
   "cell_type": "code",
   "execution_count": 20,
   "metadata": {},
   "outputs": [
    {
     "output_type": "execute_result",
     "data": {
      "text/plain": "show_id\n81145628     90 \n80117401     94 \n80125979     99 \n70304989    110 \n80164077     60 \n            ... \n80085438     70 \n80085439    102 \n80011846     88 \n80064521    109 \n80116008     60 \nName: duration, Length: 4265, dtype: object"
     },
     "metadata": {},
     "execution_count": 20
    }
   ],
   "source": [
    "# 10. Afficher le film avec la durée la plus longue sur Netflix\n",
    "\n",
    "# a. Nouvelle notion : les méthodes str\n",
    "# b. Énoncé\n",
    "\n",
    "data_duree = data_movie.duration.str.replace(\"min\",\"\")\n",
    "data_duree #.str.replace(\"min\",\"\")"
   ]
  },
  {
   "cell_type": "code",
   "execution_count": 21,
   "metadata": {},
   "outputs": [
    {
     "output_type": "execute_result",
     "data": {
      "text/plain": "show_id\n81145628     90\n80117401     94\n80125979     99\n70304989    110\n80164077     60\n           ... \n80085438     70\n80085439    102\n80011846     88\n80064521    109\n80116008     60\nName: duration, Length: 4265, dtype: int64"
     },
     "metadata": {},
     "execution_count": 21
    }
   ],
   "source": [
    "data_duree = data_duree.astype('int')\n",
    "data_duree"
   ]
  },
  {
   "cell_type": "code",
   "execution_count": 22,
   "metadata": {},
   "outputs": [
    {
     "output_type": "execute_result",
     "data": {
      "text/plain": "show_id\n70304298      3\n81176188     10\n81020543     11\n80114804     12\n80239831     12\n           ... \n80175798    209\n70090035    214\n60020906    224\n60002818    228\n80988062    312\nName: duration, Length: 4265, dtype: int64"
     },
     "metadata": {},
     "execution_count": 22
    }
   ],
   "source": [
    "data_duree = data_duree.sort_values(ascending=True)\n",
    "data_duree"
   ]
  },
  {
   "cell_type": "code",
   "execution_count": 23,
   "metadata": {},
   "outputs": [
    {
     "output_type": "execute_result",
     "data": {
      "text/plain": "show_id\n80988062    312\n60002818    228\n60020906    224\n70090035    214\n80175798    209\n           ... \n80239831     12\n80114804     12\n81020543     11\n81176188     10\n70304298      3\nName: duration, Length: 4265, dtype: int64"
     },
     "metadata": {},
     "execution_count": 23
    }
   ],
   "source": [
    "data_duree = data_movie.duration.str.replace(\"min\",\"\").astype('int').sort_values(ascending=False)\n",
    "data_duree"
   ]
  },
  {
   "cell_type": "code",
   "execution_count": 24,
   "metadata": {},
   "outputs": [
    {
     "output_type": "execute_result",
     "data": {
      "text/plain": "           type                       title            director  \\\nshow_id                                                           \n80988062  Movie  Black Mirror: Bandersnatch                 NaN   \n60002818  Movie                      Sangam          Raj Kapoor   \n60020906  Movie                      Lagaan  Ashutosh Gowariker   \n70090035  Movie                Jodhaa Akbar  Ashutosh Gowariker   \n80175798  Movie                The Irishman     Martin Scorsese   \n\n                                                       cast        country  \\\nshow_id                                                                      \n80988062  Fionn Whitehead, Will Poulter, Craig Parkinson...  United States   \n60002818  Raj Kapoor, Vyjayanthimala, Rajendra Kumar, La...          India   \n60020906  Aamir Khan, Gracy Singh, Rachel Shelley, Paul ...          India   \n70090035  Hrithik Roshan, Aishwarya Rai Bachchan, Sonu S...          India   \n80175798  Robert De Niro, Al Pacino, Joe Pesci, Harvey K...  United States   \n\n                 date_added  release_year rating duration  \\\nshow_id                                                     \n80988062  December 28, 2018          2018  TV-MA  312 min   \n60002818  December 31, 2019          1964  TV-14  228 min   \n60020906   December 8, 2017          2001     PG  224 min   \n70090035    October 1, 2018          2008  TV-14  214 min   \n80175798  November 27, 2019          2019      R  209 min   \n\n                                                 listed_in  \\\nshow_id                                                      \n80988062    Dramas, International Movies, Sci-Fi & Fantasy   \n60002818      Classic Movies, Dramas, International Movies   \n60020906    Dramas, International Movies, Music & Musicals   \n70090035  Action & Adventure, Dramas, International Movies   \n80175798                                            Dramas   \n\n                                                description  \nshow_id                                                      \n80988062  In 1984, a young programmer begins to question...  \n60002818  Returning home from war after being assumed de...  \n60020906  In 1890s India, an arrogant British commander ...  \n70090035  In 16th-century India, what begins as a strate...  \n80175798  Hit man Frank Sheeran looks back at the secret...  ",
      "text/html": "<div>\n<style scoped>\n    .dataframe tbody tr th:only-of-type {\n        vertical-align: middle;\n    }\n\n    .dataframe tbody tr th {\n        vertical-align: top;\n    }\n\n    .dataframe thead th {\n        text-align: right;\n    }\n</style>\n<table border=\"1\" class=\"dataframe\">\n  <thead>\n    <tr style=\"text-align: right;\">\n      <th></th>\n      <th>type</th>\n      <th>title</th>\n      <th>director</th>\n      <th>cast</th>\n      <th>country</th>\n      <th>date_added</th>\n      <th>release_year</th>\n      <th>rating</th>\n      <th>duration</th>\n      <th>listed_in</th>\n      <th>description</th>\n    </tr>\n    <tr>\n      <th>show_id</th>\n      <th></th>\n      <th></th>\n      <th></th>\n      <th></th>\n      <th></th>\n      <th></th>\n      <th></th>\n      <th></th>\n      <th></th>\n      <th></th>\n      <th></th>\n    </tr>\n  </thead>\n  <tbody>\n    <tr>\n      <th>80988062</th>\n      <td>Movie</td>\n      <td>Black Mirror: Bandersnatch</td>\n      <td>NaN</td>\n      <td>Fionn Whitehead, Will Poulter, Craig Parkinson...</td>\n      <td>United States</td>\n      <td>December 28, 2018</td>\n      <td>2018</td>\n      <td>TV-MA</td>\n      <td>312 min</td>\n      <td>Dramas, International Movies, Sci-Fi &amp; Fantasy</td>\n      <td>In 1984, a young programmer begins to question...</td>\n    </tr>\n    <tr>\n      <th>60002818</th>\n      <td>Movie</td>\n      <td>Sangam</td>\n      <td>Raj Kapoor</td>\n      <td>Raj Kapoor, Vyjayanthimala, Rajendra Kumar, La...</td>\n      <td>India</td>\n      <td>December 31, 2019</td>\n      <td>1964</td>\n      <td>TV-14</td>\n      <td>228 min</td>\n      <td>Classic Movies, Dramas, International Movies</td>\n      <td>Returning home from war after being assumed de...</td>\n    </tr>\n    <tr>\n      <th>60020906</th>\n      <td>Movie</td>\n      <td>Lagaan</td>\n      <td>Ashutosh Gowariker</td>\n      <td>Aamir Khan, Gracy Singh, Rachel Shelley, Paul ...</td>\n      <td>India</td>\n      <td>December 8, 2017</td>\n      <td>2001</td>\n      <td>PG</td>\n      <td>224 min</td>\n      <td>Dramas, International Movies, Music &amp; Musicals</td>\n      <td>In 1890s India, an arrogant British commander ...</td>\n    </tr>\n    <tr>\n      <th>70090035</th>\n      <td>Movie</td>\n      <td>Jodhaa Akbar</td>\n      <td>Ashutosh Gowariker</td>\n      <td>Hrithik Roshan, Aishwarya Rai Bachchan, Sonu S...</td>\n      <td>India</td>\n      <td>October 1, 2018</td>\n      <td>2008</td>\n      <td>TV-14</td>\n      <td>214 min</td>\n      <td>Action &amp; Adventure, Dramas, International Movies</td>\n      <td>In 16th-century India, what begins as a strate...</td>\n    </tr>\n    <tr>\n      <th>80175798</th>\n      <td>Movie</td>\n      <td>The Irishman</td>\n      <td>Martin Scorsese</td>\n      <td>Robert De Niro, Al Pacino, Joe Pesci, Harvey K...</td>\n      <td>United States</td>\n      <td>November 27, 2019</td>\n      <td>2019</td>\n      <td>R</td>\n      <td>209 min</td>\n      <td>Dramas</td>\n      <td>Hit man Frank Sheeran looks back at the secret...</td>\n    </tr>\n  </tbody>\n</table>\n</div>"
     },
     "metadata": {},
     "execution_count": 24
    }
   ],
   "source": [
    "data.reindex(data_duree.index).head(n=5)"
   ]
  },
  {
   "cell_type": "code",
   "execution_count": 25,
   "metadata": {},
   "outputs": [
    {
     "output_type": "execute_result",
     "data": {
      "text/plain": "show_id\n81145628    Children & Family Movies, Comedies\n80117401                       Stand-Up Comedy\n70234439                              Kids' TV\n80058654                              Kids' TV\n80125979                              Comedies\nName: listed_in, dtype: object"
     },
     "metadata": {},
     "execution_count": 25
    }
   ],
   "source": [
    "# 11. Étudier les catégories avec le plus de contenu\n",
    "\n",
    "data[\"listed_in\"].head()"
   ]
  },
  {
   "cell_type": "code",
   "execution_count": 26,
   "metadata": {},
   "outputs": [
    {
     "output_type": "execute_result",
     "data": {
      "text/plain": "International Movies      1927\nDramas                    1623\nComedies                  1113\nInternational TV Shows    1001\nDocumentaries              668\ndtype: int64"
     },
     "metadata": {},
     "execution_count": 26
    }
   ],
   "source": [
    "categories=pd.Series(\", \".join(data[\"listed_in\"].dropna()).split(\", \"))\n",
    "\n",
    "categories.value_counts().head()"
   ]
  },
  {
   "cell_type": "code",
   "execution_count": 27,
   "metadata": {},
   "outputs": [
    {
     "output_type": "execute_result",
     "data": {
      "text/plain": "Anupam Kher         33\nShah Rukh Khan      30\nOm Puri             27\nNaseeruddin Shah    27\nAkshay Kumar        26\ndtype: int64"
     },
     "metadata": {},
     "execution_count": 27
    }
   ],
   "source": [
    "cast=pd.Series(\", \".join(data[\"cast\"].dropna()).split(\", \"))\n",
    "cast.value_counts().head()"
   ]
  },
  {
   "cell_type": "code",
   "execution_count": 28,
   "metadata": {},
   "outputs": [
    {
     "output_type": "execute_result",
     "data": {
      "text/plain": "Jan Suter       21\nRaúl Campos     19\nMarcus Raboy    14\nJay Karas       14\nJay Chapman     12\ndtype: int64"
     },
     "metadata": {},
     "execution_count": 28
    }
   ],
   "source": [
    "director=pd.Series(\", \".join(data[\"director\"].dropna()).split(\", \"))\n",
    "\n",
    "director.value_counts().head()\n"
   ]
  },
  {
   "cell_type": "code",
   "execution_count": null,
   "metadata": {},
   "outputs": [],
   "source": []
  }
 ]
}