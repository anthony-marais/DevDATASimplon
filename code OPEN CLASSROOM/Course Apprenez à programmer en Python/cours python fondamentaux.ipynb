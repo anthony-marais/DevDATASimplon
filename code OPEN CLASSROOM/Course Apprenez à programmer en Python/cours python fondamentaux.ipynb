{
 "cells": [
  {
   "cell_type": "code",
   "execution_count": 1,
   "metadata": {},
   "outputs": [
    {
     "data": {
      "text/plain": [
       "False"
      ]
     },
     "execution_count": 1,
     "metadata": {},
     "output_type": "execute_result"
    }
   ],
   "source": [
    "1!=1"
   ]
  },
  {
   "cell_type": "code",
   "execution_count": 2,
   "metadata": {},
   "outputs": [
    {
     "data": {
      "text/plain": [
       "True"
      ]
     },
     "execution_count": 2,
     "metadata": {},
     "output_type": "execute_result"
    }
   ],
   "source": [
    "\"eleven\" != \"seven\""
   ]
  },
  {
   "cell_type": "code",
   "execution_count": 3,
   "metadata": {},
   "outputs": [
    {
     "data": {
      "text/plain": [
       "True"
      ]
     },
     "execution_count": 3,
     "metadata": {},
     "output_type": "execute_result"
    }
   ],
   "source": [
    "2 != 10"
   ]
  },
  {
   "cell_type": "code",
   "execution_count": 4,
   "metadata": {},
   "outputs": [
    {
     "data": {
      "text/plain": [
       "True"
      ]
     },
     "execution_count": 4,
     "metadata": {},
     "output_type": "execute_result"
    }
   ],
   "source": [
    "7 > 5"
   ]
  },
  {
   "cell_type": "code",
   "execution_count": 5,
   "metadata": {},
   "outputs": [
    {
     "data": {
      "text/plain": [
       "False"
      ]
     },
     "execution_count": 5,
     "metadata": {},
     "output_type": "execute_result"
    }
   ],
   "source": [
    "10 < 10"
   ]
  },
  {
   "cell_type": "code",
   "execution_count": 6,
   "metadata": {},
   "outputs": [
    {
     "data": {
      "text/plain": [
       "False"
      ]
     },
     "execution_count": 6,
     "metadata": {},
     "output_type": "execute_result"
    }
   ],
   "source": [
    "7 > 7.0"
   ]
  },
  {
   "cell_type": "code",
   "execution_count": 7,
   "metadata": {},
   "outputs": [
    {
     "data": {
      "text/plain": [
       "True"
      ]
     },
     "execution_count": 7,
     "metadata": {},
     "output_type": "execute_result"
    }
   ],
   "source": [
    "#Comparaison\n",
    "\n",
    "#Les opérateurs supérieur ou égal à et inférieur ou égal à sont> = et <=.\n",
    "#Ils sont identiques aux opérateurs stricts supérieur et inférieur à, sauf qu'ils renvoient True lors de la comparaison de nombres égaux.\n",
    "\n",
    "7 <= 8"
   ]
  },
  {
   "cell_type": "code",
   "execution_count": 9,
   "metadata": {},
   "outputs": [
    {
     "data": {
      "text/plain": [
       "(True, 0)"
      ]
     },
     "execution_count": 9,
     "metadata": {},
     "output_type": "execute_result"
    }
   ],
   "source": [
    "9 >= 9,0"
   ]
  },
  {
   "cell_type": "code",
   "execution_count": 10,
   "metadata": {},
   "outputs": [
    {
     "data": {
      "text/plain": [
       "(8, True, 70)"
      ]
     },
     "execution_count": 10,
     "metadata": {},
     "output_type": "execute_result"
    }
   ],
   "source": [
    "8,7 <= 8,70"
   ]
  },
  {
   "cell_type": "code",
   "execution_count": null,
   "metadata": {},
   "outputs": [],
   "source": [
    "#if Déclarations\n",
    "\n",
    "#Vous pouvez utiliser des instructions if pour exécuter du code si une certaine condition est satisfaite.\n",
    "#Si une expression a la valeur True , certaines instructions sont exécutées. Sinon, ils ne sont pas exécutés.\n",
    "#Une instruction if ressemble à ceci:\n",
    "\n",
    "#exemple :\n",
    "\n",
    "#if expression:\n",
    "#    instructions\n",
    "\n"
   ]
  },
  {
   "cell_type": "code",
   "execution_count": null,
   "metadata": {},
   "outputs": [],
   "source": [
    "# Quelle partie d'une instruction if doit être indentée?\n",
    "\n",
    "# Les déclarations qu'il contient"
   ]
  },
  {
   "cell_type": "code",
   "execution_count": 11,
   "metadata": {},
   "outputs": [
    {
     "name": "stdout",
     "output_type": "stream",
     "text": [
      "Program ended\n"
     ]
    }
   ],
   "source": [
    "#if Statements\n",
    "\n",
    "#Here is an example if statement:\n",
    "\n",
    "if 10 > 10:\n",
    "    print(\"10 greater than 5\")\n",
    "    \n",
    "print(\"Program ended\")\n",
    "\n"
   ]
  },
  {
   "cell_type": "code",
   "execution_count": null,
   "metadata": {},
   "outputs": [],
   "source": [
    "#L'expression détermine si 10 est supérieur à 5. Dans la mesure où c'est le cas, l'instruction indentée s'exécute et \"10 supérieur à 5\" est généré. Ensuite, l'instruction non indentée, qui ne fait pas partie de l' instruction if , est exécutée et «Programme terminé» s'affiche.\n",
    "\n",
    "#Notez les deux points à la fin de l'expression dans l' instruction if .\n",
    "\n",
    "#Lorsque le programme contient plusieurs lignes de code, vous devez le créer en tant que fichier séparé et l'exécuter."
   ]
  },
  {
   "cell_type": "code",
   "execution_count": 13,
   "metadata": {},
   "outputs": [
    {
     "name": "stdout",
     "output_type": "stream",
     "text": [
      "five\n"
     ]
    }
   ],
   "source": [
    "spam = 7\n",
    "\n",
    "if spam > 5:\n",
    "    print(\"five\")\n",
    "if spam > 8:\n",
    "    print(\"eight\")"
   ]
  },
  {
   "cell_type": "code",
   "execution_count": 14,
   "metadata": {},
   "outputs": [
    {
     "name": "stdout",
     "output_type": "stream",
     "text": [
      "Bigger than 5\n",
      "Between 5 and 47\n"
     ]
    }
   ],
   "source": [
    "#if Déclarations\n",
    "#Pour effectuer des vérifications plus complexes, si les instructions peuvent être imbriquées, les unes dans les autres.\n",
    "#Cela signifie que l' instruction if interne est la partie instruction de l'instruction externe. C'est une façon de voir si plusieurs conditions sont satisfaites.\n",
    "\n",
    "#exemple:\n",
    "\n",
    "num = 12\n",
    "\n",
    "if num > 5:\n",
    "    print(\"Bigger than 5\")\n",
    "    \n",
    "    if num <= 47:\n",
    "        print(\"Between 5 and 47\")\n",
    "        \n",
    "        \n",
    "# L'indentation est le seul moyen de déterminer le niveau d'imbrication .\n"
   ]
  },
  {
   "cell_type": "code",
   "execution_count": 15,
   "metadata": {},
   "outputs": [
    {
     "name": "stdout",
     "output_type": "stream",
     "text": [
      "3\n"
     ]
    }
   ],
   "source": [
    "num = 7\n",
    "\n",
    "if num > 3:\n",
    "    print(\"3\")\n",
    "    if num < 5:\n",
    "        print (\"5\")\n",
    "        if num ==7:\n",
    "            print(\"7\")\n",
    "    "
   ]
  },
  {
   "cell_type": "code",
   "execution_count": 16,
   "metadata": {},
   "outputs": [
    {
     "name": "stdout",
     "output_type": "stream",
     "text": [
      "3\n",
      "7\n"
     ]
    }
   ],
   "source": [
    "num = 7\n",
    "\n",
    "if num > 3:\n",
    "    print(\"3\")\n",
    "if num < 5:\n",
    "    print (\"5\")\n",
    "if num ==7:\n",
    "    print(\"7\")"
   ]
  },
  {
   "cell_type": "code",
   "execution_count": 18,
   "metadata": {},
   "outputs": [
    {
     "name": "stdout",
     "output_type": "stream",
     "text": [
      "No\n"
     ]
    }
   ],
   "source": [
    "# else Statements\n",
    "\n",
    "#Une instruction else suit une instruction if et contient du code qui est appelé lorsque l'instruction if est évaluée à False .\n",
    "#Comme pour les instructions if , le code à l'intérieur du bloc doit être indenté.\n",
    "\n",
    "x = 4\n",
    "\n",
    "if x ==5:\n",
    "    print(\"Yes\")\n",
    "\n",
    "else:\n",
    "    print(\"No\")\n",
    "    \n",
    "    \n",
    "#Lorsque l'instruction if est vraie, l'instruction else est échappée.\n"
   ]
  },
  {
   "cell_type": "code",
   "execution_count": 19,
   "metadata": {},
   "outputs": [
    {
     "name": "stdout",
     "output_type": "stream",
     "text": [
      "else\n"
     ]
    }
   ],
   "source": [
    "if 1 + 1 ==2:\n",
    "    if 2 * 2 ==8:\n",
    "        print(\"if\")\n",
    "    else:\n",
    "        print(\"else\")\n"
   ]
  },
  {
   "cell_type": "code",
   "execution_count": 22,
   "metadata": {},
   "outputs": [
    {
     "name": "stdout",
     "output_type": "stream",
     "text": [
      "Number is 7\n"
     ]
    }
   ],
   "source": [
    "# else Statements\n",
    "\n",
    "# Vous pouvez enchaîner les instructions if et else pour déterminer quelle option dans une série de possibilités est vraie.\n",
    "\n",
    "# exemple :\n",
    "\n",
    "num = 7\n",
    "if num == 5:\n",
    "    print(\"Number is 5\")\n",
    "else: \n",
    "    if num == 11:\n",
    "        print(\"Number is 11\")\n",
    "    else:\n",
    "        if num == 7:\n",
    "            print(\"Number is 7\")\n",
    "        else: \n",
    "            print(\"Number isn't 5, 11 or 7\")\n",
    "            \n",
    "# Chaque bloc de condition if ne peut avoir qu'une seule instruction else.\n",
    "\n"
   ]
  },
  {
   "cell_type": "code",
   "execution_count": 23,
   "metadata": {},
   "outputs": [
    {
     "name": "stdout",
     "output_type": "stream",
     "text": [
      "instruction else\n"
     ]
    }
   ],
   "source": [
    "x = 10\n",
    "y = 20\n",
    "\n",
    "if x>y:\n",
    "    print(\"if statement\")\n",
    "else:\n",
    "    print(\"instruction else\")"
   ]
  },
  {
   "cell_type": "code",
   "execution_count": null,
   "metadata": {},
   "outputs": [],
   "source": [
    "# Déclarations elif\n",
    "\n",
    "#L' instruction elif ( abréviation de else if) est un raccourci à utiliser lors du chaînage d' instructions if et else .\n",
    "#Une série de si Elif déclarations peuvent avoir une finale d' autre bloc, qui est appelé si aucun des cas ou Elif expressions est vrai.\n",
    "\n",
    "#exemple:\n",
    " \n",
    "num=7\n",
    "if num ==5:\n",
    "    print(\"Number is 5\")\n",
    "else:\n",
    "    if num == 11:\n",
    "        print(\"Number is 11\")\n",
    "    else:\n",
    "        if num ==7:\n",
    "            print(\"Number is 7\")\n",
    "        else:"
   ]
  },
  {
   "cell_type": "code",
   "execution_count": null,
   "metadata": {},
   "outputs": [],
   "source": []
  }
 ],
 "metadata": {
  "kernelspec": {
   "display_name": "Python 3",
   "language": "python",
   "name": "python3"
  },
  "language_info": {
   "codemirror_mode": {
    "name": "ipython",
    "version": 3
   },
   "file_extension": ".py",
   "mimetype": "text/x-python",
   "name": "python",
   "nbconvert_exporter": "python",
   "pygments_lexer": "ipython3",
   "version": "3.7.6"
  }
 },
 "nbformat": 4,
 "nbformat_minor": 4
}
