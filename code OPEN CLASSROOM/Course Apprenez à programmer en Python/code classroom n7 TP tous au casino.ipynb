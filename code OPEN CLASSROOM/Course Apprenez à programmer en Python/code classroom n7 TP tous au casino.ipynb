{
 "metadata": {
  "language_info": {
   "codemirror_mode": {
    "name": "ipython",
    "version": 3
   },
   "file_extension": ".py",
   "mimetype": "text/x-python",
   "name": "python",
   "nbconvert_exporter": "python",
   "pygments_lexer": "ipython3",
   "version": "3.8.3-final"
  },
  "orig_nbformat": 2,
  "kernelspec": {
   "name": "python38364bitbase551ecd6c82244bf6af01fcf12b5dc095",
   "display_name": "Python 3.8.3 64-bit ('base')"
  }
 },
 "nbformat": 4,
 "nbformat_minor": 2,
 "cells": [
  {
   "cell_type": "code",
   "execution_count": 9,
   "metadata": {},
   "outputs": [
    {
     "output_type": "stream",
     "name": "stdout",
     "text": [
      "vous entrez a la table de roulette avec: 100 $\n",
      "--------------------\n",
      "Vous avez choisi de misez: 99 $,  votre bankroll est de: 1 $\n",
      "--------------------\n",
      "Le numéro que le joueur à misé est: 11 rouge\n",
      "--------------------\n",
      "le numéro de la case dans laquelle la bille s'est arrêtée est le: 20 noir\n",
      "--------------------\n",
      "Le joueur gagne et remporte: 50 $ votre bankroll est de: 51 $\n",
      "--------------------\n"
     ]
    }
   ],
   "source": [
    "from random import randrange\n",
    "from math import ceil\n",
    "from functools import reduce\n",
    "import time\n",
    "\n",
    "bankeroll = []\n",
    "num_roulette = randrange(1,50)\n",
    "pair = 'noir'\n",
    "impair = 'rouge'\n",
    "total_gain_player = []\n",
    "\n",
    "insert_cash = int(input(\"inssérer l'argent avec lequel vous souhaiter vous assoir a cette table\"))\n",
    "\n",
    "bankeroll.append(insert_cash)\n",
    "\n",
    "print(str(\"vous entrez a la table de roulette avec:\"),reduce(lambda x,y : x+y,bankeroll),'$')\n",
    "print('-' * 20)\n",
    "time.sleep(1.5)\n",
    "\n",
    "\n",
    "#bankeroll = reduce(lambda x,y : x+y,bankeroll)\n",
    "\n",
    "\n",
    "mise_player = int(input(\"Entrez votre mise pour cette partie: \"))\n",
    "\n",
    "bankeroll = reduce(lambda x,y : x+y,bankeroll)-(mise_player)\n",
    "\n",
    "\n",
    "print('Vous avez choisi de misez:', mise_player,'$, ', 'votre bankroll est de:', bankeroll,'$')\n",
    "print('-' * 20)\n",
    "\n",
    "#bankeroll = reduce(lambda x,y : x+y,bankeroll)-(mise_player)\n",
    "\n",
    "\n",
    "\n",
    "num_player = int(input(\"Entrez le numéro sur lequel vous souhaitez miser: \"))\n",
    "\n",
    "#bankeroll = reduce(lambda x,y : x+y,bankeroll)-(mise_player)\n",
    "\n",
    "\n",
    "\n",
    "## numéro sur lequel mise le joueur\n",
    "if num_player % 2 == 0:\n",
    "    print(str('Le numéro que le joueur à misé est:'),num_player, pair)\n",
    "else:\n",
    "    print(str('Le numéro que le joueur à misé est:'),num_player, impair)\n",
    "\n",
    "print('-' * 20)\n",
    "\n",
    "time.sleep(1.5)\n",
    "\n",
    "\n",
    "## numéro sur lequel la roulette s'est arréter\n",
    "if num_roulette % 2 == 0:\n",
    "    print(str(\"le numéro de la case dans laquelle la bille s'est arrêtée est le:\"),num_roulette, pair)\n",
    "else:\n",
    "    print(str(\"le numéro de la case dans laquelle la bille s'est arrêtée est le:\"),num_roulette, impair)\n",
    "\n",
    "print('-' * 20)\n",
    "\n",
    "time.sleep(1.5)\n",
    "\n",
    "\n",
    "\n",
    "## si le joueur gagner avec le même numéro et même couleur\n",
    "if num_roulette == num_player:\n",
    "    gain_player = mise_player * 3\n",
    "    gain_player = ceil(gain_player)\n",
    "    bankeroll = bankeroll + gain_player\n",
    "    print(str(\"Le joueur gagne et remporte:\"),gain_player,'$','votre bankroll est de:', bankeroll,'$')\n",
    "    print('-' * 20)\n",
    "\n",
    "\n",
    "## si le joueur gagne avec la couleur noir\n",
    "elif num_roulette and num_player % 2 == 0:\n",
    "    gain_player = mise_player / 2\n",
    "    gain_player = ceil(gain_player)\n",
    "    bankeroll = bankeroll + gain_player\n",
    "    print(str(\"Le joueur gagne et remporte:\"),gain_player,'$','votre bankroll est de:', bankeroll, '$')\n",
    "    print('-' * 20)\n",
    "\n",
    "\n",
    "## si le joueur gagne avec la couleur rouge\n",
    "elif num_roulette and num_player % 2 != 0:\n",
    "    gain_player = mise_player / 2\n",
    "    gain_player = ceil(gain_player)\n",
    "    bankeroll = bankeroll + gain_player\n",
    "    print(str(\"Le joueur gagne et remporte:\"),gain_player,'$','votre bankroll est de:', bankeroll, '$')\n",
    "    print('-' * 20)\n",
    "\n",
    "\n",
    "\n",
    "## si le joueur perd\n",
    "else:\n",
    "    bankeroll = bankeroll-mise_player\n",
    "    print(str(\"le joueur a perdu, votre bankroll est de:\"), bankeroll, '$')\n",
    "    print('-' * 20)\n"
   ]
  },
  {
   "cell_type": "code",
   "execution_count": 119,
   "metadata": {},
   "outputs": [
    {
     "output_type": "stream",
     "name": "stdout",
     "text": [
      "33\n"
     ]
    }
   ],
   "source": [
    "bankeroll = []\n",
    "\n",
    "mise_player = int(input(\"Entrez votre mise: \"))\n",
    "bankeroll.append(mise_player)\n",
    "\n",
    "mise_player = int(input(\"Entrez votre mise: \"))\n",
    "bankeroll.append(mise_player)\n",
    "\n",
    "print(reduce(lambda a,b : a+b,bankeroll))"
   ]
  },
  {
   "cell_type": "code",
   "execution_count": 155,
   "metadata": {},
   "outputs": [
    {
     "output_type": "stream",
     "name": "stdout",
     "text": [
      "290\n"
     ]
    }
   ],
   "source": [
    "bankeroll = []\n",
    "\n",
    "cash2 = int(input(\"vous entrez a la table de roulette avec:\"))\n",
    "bankeroll.append(cash2)\n",
    "\n",
    "cash = int(input(\"vous entrez a la table de roulette avec:\"))\n",
    "bankeroll.append(cash)\n",
    "\n",
    "cash3 = int(input(\"vous entrez a la table de roulette avec:\"))\n",
    "bankeroll.append(cash3)\n",
    "\n",
    "mise_player = int(input(\"Entrez votre mise pour cette partie: \"))\n",
    "\n",
    "bankeroll = reduce(lambda x,y : x+y,bankeroll)-(mise_player)\n",
    "\n",
    "print(bankeroll)"
   ]
  },
  {
   "cell_type": "code",
   "execution_count": 159,
   "metadata": {},
   "outputs": [
    {
     "output_type": "error",
     "ename": "AttributeError",
     "evalue": "'builtin_function_or_method' object has no attribute 'bankeroll'",
     "traceback": [
      "\u001b[0;31m---------------------------------------------------------------------------\u001b[0m",
      "\u001b[0;31mAttributeError\u001b[0m                            Traceback (most recent call last)",
      "\u001b[0;32m<ipython-input-159-6dc8a4766e74>\u001b[0m in \u001b[0;36m<module>\u001b[0;34m\u001b[0m\n\u001b[0;32m----> 1\u001b[0;31m \u001b[0mbankeroll\u001b[0m \u001b[0;34m=\u001b[0m \u001b[0msum\u001b[0m\u001b[0;34m.\u001b[0m\u001b[0mbankeroll\u001b[0m\u001b[0;34m\u001b[0m\u001b[0;34m\u001b[0m\u001b[0m\n\u001b[0m",
      "\u001b[0;31mAttributeError\u001b[0m: 'builtin_function_or_method' object has no attribute 'bankeroll'"
     ]
    }
   ],
   "source": [
    "bankeroll = sum.bankeroll"
   ]
  },
  {
   "cell_type": "code",
   "execution_count": 139,
   "metadata": {},
   "outputs": [
    {
     "output_type": "stream",
     "name": "stdout",
     "text": [
      "30\n"
     ]
    }
   ],
   "source": [
    "print(bankeroll)"
   ]
  },
  {
   "cell_type": "code",
   "execution_count": 142,
   "metadata": {},
   "outputs": [
    {
     "output_type": "stream",
     "name": "stdout",
     "text": [
      "vous entrez a la table de roulette avec: 100 $\n"
     ]
    }
   ],
   "source": [
    "bankeroll = []\n",
    "num_roulette = randrange(1,50)\n",
    "pair = 'noir'\n",
    "impair = 'rouge'\n",
    "total_gain_player = []\n",
    "\n",
    "insert_cash = int(input(\"inssérer l'argent avec lequel vous souhaiter vous assoir a cette table\"))\n",
    "\n",
    "bankeroll.append(insert_cash)\n",
    "\n",
    "print(str(\"vous entrez a la table de roulette avec:\"),reduce(lambda x,y : x+y,bankeroll),'$')"
   ]
  },
  {
   "cell_type": "code",
   "execution_count": null,
   "metadata": {},
   "outputs": [],
   "source": [
    "    bankeroll = reduce(lambda x,y : x+y,range(bankeroll))+(gain_player)\n"
   ]
  }
 ]
}