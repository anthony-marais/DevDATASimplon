{
 "metadata": {
  "language_info": {
   "codemirror_mode": {
    "name": "ipython",
    "version": 3
   },
   "file_extension": ".py",
   "mimetype": "text/x-python",
   "name": "python",
   "nbconvert_exporter": "python",
   "pygments_lexer": "ipython3",
   "version": "3.8.3-final"
  },
  "orig_nbformat": 2,
  "kernelspec": {
   "name": "python38364bitbase551ecd6c82244bf6af01fcf12b5dc095",
   "display_name": "Python 3.8.3 64-bit ('base')"
  }
 },
 "nbformat": 4,
 "nbformat_minor": 2,
 "cells": [
  {
   "cell_type": "code",
   "execution_count": 106,
   "metadata": {},
   "outputs": [
    {
     "output_type": "stream",
     "name": "stdout",
     "text": [
      "Le numéro que le joueur à misé est: 8 noir\n",
      "le numéro de la case dans laquelle la bille s'est arrêtée est le: 3 rouge\n",
      "Le joueur gagne et remporte: 5 $ les gain totaux sont de: 5 $\n"
     ]
    }
   ],
   "source": [
    "from random import randrange\n",
    "from math import ceil\n",
    "from functools import reduce\n",
    "import time\n",
    "\n",
    "\n",
    "\n",
    "num_player = int(input(\"Entrez le numéro sur lequel vous souhaitez miser: \"))\n",
    "mise_player = int(input(\"Entrez votre mise: \"))\n",
    "num_roulette = randrange(1,50)\n",
    "pair = 'noir'\n",
    "impair = 'rouge'\n",
    "total_gain_player = []\n",
    "\n",
    "\n",
    "\n",
    "## numéro sur lequel mise le joueur\n",
    "if num_player % 2 == 0:\n",
    "    print(str('Le numéro que le joueur à misé est:'),num_player, pair)\n",
    "else:\n",
    "    print(str('Le numéro que le joueur à misé est:'),num_player, impair)\n",
    "\n",
    "time.sleep(1.5)\n",
    "\n",
    "\n",
    "## numéro sur lequel la roulette s'est arréter\n",
    "if num_roulette % 2 == 0:\n",
    "    print(str(\"le numéro de la case dans laquelle la bille s'est arrêtée est le:\"),num_roulette, pair)\n",
    "else:\n",
    "    print(str(\"le numéro de la case dans laquelle la bille s'est arrêtée est le:\"),num_roulette, impair)\n",
    "\n",
    "time.sleep(1.5)\n",
    "\n",
    "\n",
    "\n",
    "## si le joueur gagner avec le même numéro et même couleur\n",
    "if num_roulette == num_player:\n",
    "    gain_player = mise_player * 3\n",
    "    gain_player = ceil(gain_player)\n",
    "    total_gain_player.append(gain_player)\n",
    "    print(str(\"Le joueur gagne et remporte:\"),gain_player,'$','les gain totaux sont de:', total_gain_player)\n",
    "\n",
    "## si le joueur gagne avec la couleur noir\n",
    "elif num_roulette and num_player % 2 == 0:\n",
    "    gain_player = mise_player / 2\n",
    "    gain_player = ceil(gain_player)\n",
    "    total_gain_player.append(gain_player)\n",
    "    print(str(\"Le joueur gagne et remporte:\"),gain_player,'$','les gain totaux sont de:', total_gain_player[-1], '$')\n",
    "\n",
    "## si le joueur gagne avec la couleur rouge\n",
    "elif num_roulette and num_player % 2 != 0:\n",
    "    gain_player = mise_player / 2\n",
    "    gain_player = ceil(gain_player)\n",
    "    total_gain_player.append(gain_player)\n",
    "    print(str(\"Le joueur gagne et remporte:\"),gain_player,'$','les gain totaux sont de:', total_gain_player[-1], '$')\n",
    "\n",
    "\n",
    "## si le joueur perd\n",
    "else:\n",
    "    total_gain_player.remove(gain_player)\n",
    "    print(str(\"le joueur a perdu, les gain du player son de:\"), total_gain_player[-1], '$')\n",
    "\n"
   ]
  }
 ]
}