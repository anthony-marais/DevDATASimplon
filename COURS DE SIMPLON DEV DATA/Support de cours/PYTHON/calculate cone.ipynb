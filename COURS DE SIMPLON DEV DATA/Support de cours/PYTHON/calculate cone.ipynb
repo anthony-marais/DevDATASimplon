{
 "cells": [
  {
   "cell_type": "code",
   "execution_count": null,
   "metadata": {},
   "outputs": [],
   "source": [
    "from math import pi\n",
    "a = pi\n",
    "R = int(input('Entrez la valeur de votre rayon ='))\n",
    "H = int(input('Entrez la valeur de votre hauteur ='))\n",
    "result =(a*(R**2)*H)/3\n",
    "print(result)"
   ]
  }
 ],
 "metadata": {
  "kernelspec": {
   "display_name": "Python 3",
   "language": "python",
   "name": "python3"
  },
  "language_info": {
   "codemirror_mode": {
    "name": "ipython",
    "version": 3
   },
   "file_extension": ".py",
   "mimetype": "text/x-python",
   "name": "python",
   "nbconvert_exporter": "python",
   "pygments_lexer": "ipython3",
   "version": "3.7.6"
  }
 },
 "nbformat": 4,
 "nbformat_minor": 4
}
