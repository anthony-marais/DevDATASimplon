{
 "cells": [
  {
   "cell_type": "code",
   "execution_count": null,
   "metadata": {
    "scrolled": true
   },
   "outputs": [],
   "source": [
    "i = (0)\n",
    "while i < 23:\n",
    "    i = i + 1\n",
    "    print(i ,\" aurevoir\")\n"
   ]
  },
  {
   "cell_type": "code",
   "execution_count": null,
   "metadata": {},
   "outputs": [],
   "source": [
    "#1. Afficher un mot à l’envers\n",
    "\n",
    "#Voici quelques conseils :\n",
    "#l Utilisez une boucle for avec indice, le nombre de lettres correspond aux nombres d’itérations.\n",
    "#l L’écriture mot[i] parcourt les caractères de gauche à droite. Ce n’est pas ce que nous voulons. Calculez à partir de\n",
    "#la valeur de l’indice, et éventuellement de la longueur du mot, un autre indice partant de la droite et se déplaçant vers\n",
    "#la gauche. Deux approches sont possibles, en utilisant une valeur d’indice positive ou négative.\n",
    "#l Affichez les caractères un à un en utilisant la fonction (...,end=’’’’) pour éviter les retours à la ligne.\n",
    "#Pensez à faire des tests.\n",
    "#print(...,end=’’’’) pour éviter les retours à la ligne.\n"
   ]
  },
  {
   "cell_type": "code",
   "execution_count": null,
   "metadata": {
    "scrolled": true
   },
   "outputs": [],
   "source": [
    "mot = input()\n",
    "len(mot)\n",
    "\n",
    "for lettre in mot[::-1]:\n",
    "    print(lettre,end='')"
   ]
  },
  {
   "cell_type": "code",
   "execution_count": null,
   "metadata": {},
   "outputs": [],
   "source": [
    "#2. Calculer la valeur du polynôme 3x2 + 5x + 1\n",
    "\n",
    "#Demandez à l’utilisateur d’entrer un nombre quelconque. Attention, cela peut être un nombre à virgule. \n",
    "#Calculez la valeur du polynôme et affichez­la. \n",
    "#Redemandez deux autres valeurs et affichez les résultats.\n",
    "#Utilisez la fonction input() pour lire au clavier.\n",
    "#Pensez à convertir la chaîne de caractères retournée en nombre à virgule.\n",
    "#Une boucle for peut vous éviter un copié­collé maladroit."
   ]
  },
  {
   "cell_type": "code",
   "execution_count": null,
   "metadata": {
    "scrolled": true
   },
   "outputs": [],
   "source": [
    "# exemple boucle for\n",
    "#for i in range(4):\n",
    "#    print(\"i a pour valeur\", i)\n",
    "\n",
    "\n",
    "print (\"Programme Calcul d'un polynôme\\n\")\n",
    "import math\n",
    "\n",
    "print ('Nous allons calculer la valeurs de x via ce calcul:\\n Δ = 3x**2 + 5*x + 1\\n')\n",
    "\n",
    "for i in range(3) :\n",
    "    x = input('\\nEntrez la valeur de votre X = ')\n",
    "    x1 = float(x)\n",
    "    calcul = (3*x1*x1+5*x1+1)\n",
    "    print(\"\\nLe resultat du polynôme est =\" ,calcul)\n",
    "    \n",
    "\n",
    "    \n",
    "for k in range(3):\n",
    "    print(\"Entrez valeur\")\n",
    "    x=float(input())\n",
    "    valeur = 3 * x * x + 5 * x + 1\n",
    "    print(\"f(x) =\", valeur)"
   ]
  },
  {
   "cell_type": "code",
   "execution_count": null,
   "metadata": {},
   "outputs": [],
   "source": [
    "# 3. Additionner les n premiers entiers\n",
    "\n",
    "# L’utilisateur entre un nombre n au clavier. Vous devez calculer la somme des n premiers entiers : 1+ ... + n, et l’afficher :\n",
    "# Utilisez la fonction input() pour lire au clavier.\n",
    "# Pensez à convertir la chaîne de caractères retournée en nombre entier.\n",
    "# Utilisez une boucle for avec indice, son range dépend de la variable n .\n",
    "# Créez une variable pour sommer les différentes valeurs. Pensez à l’initialiser correctement.\n",
    "# Attention, un petit piège se cache sur la valeur de range , pensez à vérifier vos résultats."
   ]
  },
  {
   "cell_type": "code",
   "execution_count": null,
   "metadata": {
    "scrolled": false
   },
   "outputs": [],
   "source": [
    "print(\"calcule la somme des n premiers entiers : 1+2+... + n \")\n",
    "somme = 0\n",
    "n=int(input(\"Entrez vôtre nombre entier n = \"))\n",
    "for i in range(0,n+1):\n",
    "        somme=somme + i\n",
    "        print(\"La somme 1+2+...+n = \",somme)\n",
    "    "
   ]
  },
  {
   "cell_type": "code",
   "execution_count": null,
   "metadata": {},
   "outputs": [],
   "source": [
    "# 4. L’infiniment petit\n",
    "\n",
    "# Vous allez diviser successivement par 2 la valeur 1, ceci 50 fois. À chaque fois, affichez le résultat sous la forme d’un\n",
    "# nombre ayant 50 chiffres après la virgule. Pour valider votre résultat, affichez au démarrage la chaîne :\n",
    "# XX0123456789023456789012345678901234567890123456789\n",
    "\n",
    "# Utilisez l’expression \"0123456789\" * 5 pour dupliquer cinq fois cette chaîne et l’opérateur + pour concaténer \"XX\" au début.\n",
    "# Pensez à utiliser la fonction format() des chaînes de caractères.\n",
    "# Utilisez l’opérateur de division standard /."
   ]
  },
  {
   "cell_type": "code",
   "execution_count": null,
   "metadata": {
    "scrolled": true
   },
   "outputs": [],
   "source": [
    "#i = (0)\n",
    "#while i < 23:\n",
    "#    print(i ,\" Bonjour\")\n",
    "#    i = i + 1\n",
    "#n=float(1/2)\n",
    "print(\"diviser successivement par 2 la valeur 1, 50 fois\")\n",
    "print(\"XX\"+\"0123456789\"*5) \n",
    "\n",
    "n=1\n",
    "somme = n/2\n",
    "print(\"{:.50f}\".format(1/2))\n",
    "\n",
    "for i in range(49):\n",
    "        #somme = (n/2)\n",
    "        somme = somme/(n*2)\n",
    "        #somme = (n/2)\n",
    "\n",
    "        print(\"{:.50f}\".format(somme))\n"
   ]
  },
  {
   "cell_type": "code",
   "execution_count": null,
   "metadata": {},
   "outputs": [],
   "source": [
    "val = 1\n",
    "print(\"XX\" + \"0123456789\" * 5)\n",
    "for i in range(50):\n",
    "    val = val / 2\n",
    "    print(\"{0:51.50f}\".format(val))"
   ]
  },
  {
   "cell_type": "code",
   "execution_count": null,
   "metadata": {},
   "outputs": [],
   "source": [
    "#5 correction\n",
    "\n",
    "nb=0\n",
    "for i in range(10,99):\n",
    "    dizaine = i // 10\n",
    "    unite = i - 10 * dizaine\n",
    "    if dizaine ==7 or unite ==7 :\n",
    "        nb = nb + 1\n",
    "print(\"Reponse : \", nb)"
   ]
  },
  {
   "cell_type": "code",
   "execution_count": null,
   "metadata": {},
   "outputs": [],
   "source": [
    "a=''\n",
    "for i in range(10,99):a+=str(i)\n",
    "print(len(a))\n",
    "print(a.count('7'))"
   ]
  },
  {
   "cell_type": "code",
   "execution_count": null,
   "metadata": {},
   "outputs": [],
   "source": [
    "compteur = 0\n",
    "\n",
    "for i in range(10, 100):\n",
    "    A = str(i)\n",
    "    if \"7\" in A:\n",
    "        compteur += 1\n",
    "print(compteur)"
   ]
  },
  {
   "cell_type": "code",
   "execution_count": null,
   "metadata": {},
   "outputs": [],
   "source": [
    "# 5. Compter les nombres à deux chiffres ayant le chiffre 7\n",
    "\n",
    "# Demandez à l’utilisateur d’entrer un nombre au clavier. Pour cet algorithme, voici quelques conseils :\n",
    "# Le chiffre 7 peut être placé sur le chiffre des unités ou le chiffre des dizaines.\n",
    "# Utilisez la fonction input() pour lire au clavier.\n",
    "# Pensez à convertir la chaîne de caractères retournée en nombre entier.\n",
    "# Créez une variable compteur et initialisez­la correctement.\n",
    "# Grâce à une boucle for , parcourez l’ensemble des nombres à 2 chiffres, c’est­à­dire de 10 à 99.\n",
    "# Pour cela, utilisez la fonction range(a,b) , qui décrit une plage de valeurs partant de la valeur a et se terminant à la valeur b ­1.\n",
    "# Pour calculer le chiffre des dizaines, utilisez l’opérateur // (division entière).\n",
    "# Pour calculer le chiffre des unités, retirez le chiffre des dizaines multiplié par 10.\n",
    "# Affichez le résultat, vous devez trouver 18 !"
   ]
  },
  {
   "cell_type": "code",
   "execution_count": null,
   "metadata": {
    "scrolled": true
   },
   "outputs": [],
   "source": [
    "nb_utilisateur = int(input(\"Veillez entrez un nombre entier : \"))\n",
    "print(nb_utilisateur)\n",
    "compteur = \n",
    "\n",
    "a=10\n",
    "b=100\n",
    "\n",
    "for i in range():\n",
    "    \n",
    "    "
   ]
  },
  {
   "cell_type": "code",
   "execution_count": null,
   "metadata": {},
   "outputs": [],
   "source": [
    "# 6. Compter les consonnes dans un mot\n",
    "# Demandez à l’utilisateur d’entrer un mot au clavier. Pour cet algorithme, voici quelques conseils :\n",
    "# Utilisez la fonction input() pour lire au clavier.\n",
    "# Convertissez le mot en majuscules.\n",
    "# Vous allez plutôt compter les voyelles !\n",
    "# Créez une variable compteur et initialisez­la correctement.\n",
    "# Parcourez chaque lettre du mot.\n",
    "# Pour comparer deux lettres, utilisez l’opérateur == retournant True ou False .\n",
    "# Écrivez une condition à base de plusieurs OU logique/ET logique pour détecter si la lettre correspond à une voyelle.\n",
    "# Calculez et affichez le nombre de consonnes. Pensez à utiliser la fonction len()qui retourne le nombre de lettres dans le mot.\n",
    "\n"
   ]
  },
  {
   "cell_type": "code",
   "execution_count": null,
   "metadata": {},
   "outputs": [],
   "source": [
    "chaine = str(input(\"Veillez entrez un mot : \"))\n",
    "chainemaj= chaine.upper()\n",
    "compteur_voyelles = 0\n",
    "compteur_consonnes = 0\n",
    "compteur_espaces = 0\n",
    "for lettre in chainemaj:\n",
    "    if lettre in \"AEIOUY\": # SI lettre est voyelle\n",
    "        print(lettre, \"est une voyelle\")\n",
    "        compteur_voyelles = compteur_voyelles + 1\n",
    "    else :\n",
    "        print (lettre, \"est une consonne\")\n",
    "        compteur_consonnes = compteur_consonnes + 1\n",
    "print (\"Il y a, dans cette phrase,\",compteur_voyelles,\"voyelle(s),\"\\\n",
    "       ,compteur_consonnes,\"consonne(s),\")"
   ]
  },
  {
   "cell_type": "code",
   "execution_count": null,
   "metadata": {},
   "outputs": [],
   "source": [
    "# 6 correction\n",
    "\n",
    "print(\"Entrez un mot\")\n",
    "\n",
    "mot = input()\n",
    "mot = mot.upper()\n",
    "nb_voyelles = 0\n",
    "nb_lettres = len(mot)\n",
    "\n",
    "for i in range(nb_lettres) :\n",
    "    lettre = mot[i]\n",
    "    if lettre == \"A\" or lettre == \"E\" or lettre == \"I\" or lettre == \"O\" or lettre == \"U\" or lettre == \"Y\":\n",
    "        nb_voyelles = nb_voyelles + 1\n",
    "\n",
    "nb_consonnes = nb_lettres - nb_voyelles\n",
    "\n",
    "print (\"Nombre de consonnes :\", nb_consonnes)"
   ]
  },
  {
   "cell_type": "code",
   "execution_count": null,
   "metadata": {},
   "outputs": [],
   "source": [
    "# 7. Encoder et décrypter un nom\n",
    "\n",
    "# Nous vous proposons d’encoder le nom d’un agent secret en utilisant le codage suivant : chaque lettre sera décalée\n",
    "# de trois places dans l’ordre alphabétique. Ainsi, nous avons A→D, B→E, Y→B et Z→C. Demandez le nom de l’agent et\n",
    "# affichez son nom encodé. Ensuite, demandez d’entrer un nom encodé et appliquez la méthode inverse pour le\n",
    "# décoder. Voici quelques conseils :\n",
    "\n",
    "# Demandez d’entrer un nom au clavier grâce à la fonction input() .\n",
    "# Convertissez automatiquement toutes les lettres en majuscules.\n",
    "# Créez une chaîne vide pour stocker le résultat.\n",
    "# Utilisez une boucle for pour parcourir chaque lettre du mot.\n",
    "# Utilisez les fonctions de décodage et d’encodage Unicode vers un nombre entier : chr () et ord ().\n",
    "# Le caractère ’A’ est codé 65 en ASCII. Pour obtenir le code de sa lettre correspondante ’D’ égal à 68, \n",
    "# vous pouvez faire 65 + 3. Il reste cependant à traiter le cas des dernières lettres X, Y et Z qui donnent A, B et C respectivement.\n",
    "# Vous pouvez utiliser une condition pour traiter ces cas particuliers, plusieurs approches sont possibles.\n",
    "# Utilisez l’opérateur + pour accoler le résultat courant à la nouvelle lettre.\n",
    "# Affichez le résultat.\n",
    "# Le décodage consiste à effectuer la même opération, mais dans l’autre sens ! Il n’y a pas de piège particulier.\n"
   ]
  },
  {
   "cell_type": "code",
   "execution_count": null,
   "metadata": {},
   "outputs": [],
   "source": [
    "# correction rafik\n",
    "print(\"Entrez le nom à coder : \")\n",
    "\n",
    "nom = input()\n",
    "nom = nom.upper()\n",
    "SECRET = \"\"\n",
    "\n",
    "for i in range(len(nom)):\n",
    "    ascii = ord(nom[i])\n",
    "    code = ascii + 3\n",
    "    if code > ord('Z'):\n",
    "        code -= 26 # code = code - 26 \n",
    "    SECRET += chr(code)\n",
    "    \n",
    "print(\"CODE : \",SECRET)\n",
    "print(\"\\n------------\")\n",
    "\n",
    "print(\"Entrez le nom à décoder : \")\n",
    "\n",
    "nom = input()\n",
    "nom = nom.upper()\n",
    "DECODE = \"\"\n",
    "\n",
    "for i in range(len(nom)):\n",
    "    ascii = ord(nom[i])\n",
    "    code = ascii - 3\n",
    "    if code < ord('A') :\n",
    "        code += 26\n",
    "    DECODE += chr(code)\n",
    "        \n",
    "print(\"EN CLAIR : \", DECODE)"
   ]
  },
  {
   "cell_type": "code",
   "execution_count": null,
   "metadata": {},
   "outputs": [],
   "source": [
    "ord(\"A\")"
   ]
  },
  {
   "cell_type": "code",
   "execution_count": null,
   "metadata": {},
   "outputs": [],
   "source": [
    "# souad \n",
    "mot1=input('veuillez entrer votre nom à encoder: ')\n",
    "MOT1=mot1.upper()\n",
    "encod=\"\"\n",
    "for i in MOT1:\n",
    "    if i=='X':\n",
    "        encod=encod+'A'\n",
    "    elif i=='Y':\n",
    "        encod=encod+'B'\n",
    "    elif i=='Z':\n",
    "        encod=encod+'C'\n",
    "    else :\n",
    "        x=ord(i)+3\n",
    "        encod=encod+chr(x)\n",
    "print(\"le nom encodé est: \",encod)    mot1=input('veuillez entrer votre nom à encoder: ')\n",
    "MOT1=mot1.upper()\n",
    "encod=\"\"\n",
    "for i in MOT1:\n",
    "    if i=='X':\n",
    "        encod=encod+'A'\n",
    "    elif i=='Y':\n",
    "        encod=encod+'B'\n",
    "    elif i=='Z':\n",
    "        encod=encod+'C'\n",
    "    else :\n",
    "        x=ord(i)+3\n",
    "        encod=encod+chr(x)\n",
    "print(\"le nom encodé est: \",encod)"
   ]
  },
  {
   "cell_type": "code",
   "execution_count": null,
   "metadata": {},
   "outputs": [],
   "source": []
  },
  {
   "cell_type": "code",
   "execution_count": null,
   "metadata": {},
   "outputs": [],
   "source": [
    "# wilfried\n",
    "\n",
    "entry_=input('entrez un nom').upper()\n",
    "nomencode=''\n",
    "for i in entry:\n",
    "    cas_sp=['X','Z','Y']\n",
    "    if i not in cas_sp:\n",
    "        nom_encode+=chr(ord(i)+3)\n",
    "    else:\n",
    "        nom_encode+=chr(ord('a')+cas_sp.index(i) ) \n",
    "\n",
    "print(nom_encode)"
   ]
  },
  {
   "cell_type": "code",
   "execution_count": null,
   "metadata": {},
   "outputs": [],
   "source": []
  },
  {
   "cell_type": "code",
   "execution_count": null,
   "metadata": {},
   "outputs": [],
   "source": []
  },
  {
   "cell_type": "code",
   "execution_count": null,
   "metadata": {},
   "outputs": [],
   "source": []
  },
  {
   "cell_type": "code",
   "execution_count": null,
   "metadata": {},
   "outputs": [],
   "source": []
  },
  {
   "cell_type": "code",
   "execution_count": null,
   "metadata": {},
   "outputs": [],
   "source": [
    "import string\n",
    "alph = string.ascii_letters\n",
    "print(alph)"
   ]
  },
  {
   "cell_type": "code",
   "execution_count": null,
   "metadata": {},
   "outputs": [],
   "source": [
    "i = (0)\n",
    "while i < 22:\n",
    "    print(i ,\" le son est ok\")\n",
    "    i = i + 1"
   ]
  },
  {
   "cell_type": "code",
   "execution_count": null,
   "metadata": {},
   "outputs": [],
   "source": [
    "# 8. Afficher les balises d’une page HTML\n",
    "\n",
    "\n",
    "# Le code HTML d’une page web est composé de balises ouvrantes <XXX> et fermantes </XXX>. \n",
    "#Voici à quoi ressemble la structure minimale d’une page HTML :\n",
    "# <html> <head> <title> Mon Titre </title> </head> <body> Texte sur la page </body> </html>\"\n",
    "\n",
    "# Le code de la page web étant stocké dans une chaîne unique, parcourez­la grâce à une boucle\n",
    "# Recherchez le caractère \"<\" indiquant le début d’une balise.\n",
    "# Lorsque le début d’une balise est détecté, recherchez la fermeture de la balise en recherchant le caractère \">\" \n",
    "# grâce à la fonction find() . Elle s’utilise depuis une chaîne de caractères en écrivant la syntaxe : phrase.find() .\n",
    "# Pour éviter que la fonction find() démarre sa recherche au début,\n",
    "# il faut lui indiquer en argument l’indice de départ de sa recherche : find(..., indice_depart) .\n",
    "# Une fois les positions de début et de fin détectées, affichez le contenu de la balise grâce à la syntaxe suivante :\n",
    "# chaine[u:v] . Calculez judicieusement les valeurs de u et de v pour ne pas afficher les caractères < et >."
   ]
  },
  {
   "cell_type": "code",
   "execution_count": null,
   "metadata": {},
   "outputs": [],
   "source": [
    "html = \"<html> <head> <title> Mon Titre </title> </head> <body> Texte sur la page </body> </html>\"\n",
    "print(html)\n",
    "\n",
    "for i in range(len(html)) :\n",
    "        if html[i] == \"<\":\n",
    "            ifin = html.find(\">\",i)\n",
    "            print(html[i+1:ifin])\n",
    "    "
   ]
  },
  {
   "cell_type": "code",
   "execution_count": null,
   "metadata": {},
   "outputs": [],
   "source": [
    "A = \"<html> <head> <title> Mon Titre </title> </head> <body> Texte sur la page </body> </html>\"\n",
    "\n",
    "compteur = 0\n",
    "\n",
    "for i in A : \n",
    "    if \"<\" in i:\n",
    "        C = compteur + 1\n",
    "        F = (A.find(\">\", compteur)) \n",
    "        print(A[C:F], end = \" \")\n",
    "    compteur += 1"
   ]
  },
  {
   "cell_type": "code",
   "execution_count": null,
   "metadata": {},
   "outputs": [],
   "source": []
  },
  {
   "cell_type": "code",
   "execution_count": null,
   "metadata": {},
   "outputs": [],
   "source": []
  },
  {
   "cell_type": "code",
   "execution_count": null,
   "metadata": {},
   "outputs": [],
   "source": [
    "#exo9 calendrier\n",
    "\n",
    "import calendar\n",
    "\n",
    "c = calendar.TextCalendar(calendar.MONDAY)\n",
    "str = c.formatmonth(2020, 7, 0, 0)  #année 2020, 7eme mois\n",
    "print(str)"
   ]
  },
  {
   "cell_type": "code",
   "execution_count": null,
   "metadata": {},
   "outputs": [],
   "source": [
    "c = calendar.LocaleTextCalendar(firstweekday=0, locale = \"fr_FR.UTF-8\")\n",
    "str = c.formatmonth(2020, 7, 0, 0)\n",
    "print(str)"
   ]
  },
  {
   "cell_type": "code",
   "execution_count": null,
   "metadata": {},
   "outputs": [],
   "source": [
    "nbjours = int(input(\"Entrez le nombre de jours dans le mois : \"))\n",
    "print(nbjours)\n",
    "ColDepart = int(input(\"Entrez le premier jour du mois : 1 pour lundi, 7 pour diamnche\"))\n",
    "print(Coldepart)\n",
    "print(\"LUN MAR MER JEU VEN SAM DIM\")\n",
    "NbColVides = ColDepart - 1\n",
    "LargeurCol = 4\n",
    "print( \" \" * LargeurCol * NbColVides, end = \"\")\n",
    "ColCourante = ColDepart # 1 col lundi, 7 col du dimache\n",
    "\n",
    "for i in range(nbjours) :\n",
    "    print(\"{0:3d} \".format(i+1), end =\"\")\n",
    "    ColCourante = ColCourante + 1\n",
    "    if ColCourante == 8 :\n",
    "        print() # Une nouvelle ligne commence\n",
    "        ColCourante = 1"
   ]
  },
  {
   "cell_type": "code",
   "execution_count": null,
   "metadata": {},
   "outputs": [],
   "source": []
  },
  {
   "cell_type": "code",
   "execution_count": null,
   "metadata": {},
   "outputs": [],
   "source": []
  },
  {
   "cell_type": "code",
   "execution_count": null,
   "metadata": {},
   "outputs": [],
   "source": [
    "## 10. Statistiques avec pile ou face\n",
    "## Simulez un nombre donné de tirages pile ou face et calculez la proportion de chaque type de tirage.\n",
    "## Voici quelques conseils :\n",
    "## Demandez à l’utilisateur d’entrer le nombre de tirages grâce à la fonction input() .\n",
    "## Convertissez le résultat en nombre entier.\n",
    "## Créez des variables permettant de compter le nombre de tirages pile et le nombre de tirages face. \n",
    "## Pensez à les initialiser correctement.\n",
    "## Simulez autant de tirages que demandé grâce à une boucle for avec indice. \n",
    "## Utilisez la fonction : PileFace = random.randint(0,1) .\n",
    "## Cette fonction retourne aléatoirement la valeur 0 (pour pile) et 1 (pour face). \n",
    "## Pour vous permettre d’accéder aux fonctions de tirages aléatoires du package random, \n",
    "## la première ligne de votre programme doit être : import random .\n",
    "# Calculez les pourcentage de tirages pile et face et affichez­les sous la forme d’un pourcentage présenté ainsi : 22 %.\n",
    "# Vous pouvez utiliser la fonction format() pour afficher un nombre à virgule sur deux colonnes et sans chiffres\n",
    "# après la virgule ou convertir le résultat en nombre entier pour l’affichage."
   ]
  },
  {
   "cell_type": "code",
   "execution_count": 19,
   "metadata": {
    "scrolled": false
   },
   "outputs": [
    {
     "name": "stdout",
     "output_type": "stream",
     "text": [
      "Veillez entrez le nombre de tirages que vous souhaitez : 10\n",
      "Le tirage est pile\n",
      "Le tirage est face\n",
      "Le tirage est pile\n",
      "Le tirage est pile\n",
      "Le tirage est pile\n",
      "Le tirage est pile\n",
      "Le tirage est face\n",
      "Le tirage est face\n",
      "Le tirage est pile\n",
      "Le tirage est pile\n",
      "30\n"
     ]
    }
   ],
   "source": [
    "import random\n",
    "\n",
    "insert= int(input(\"Veillez entrez le nombre de tirages que vous souhaitez : \"))\n",
    "\n",
    "pile = \"Le tirage est pile\"\n",
    "face = \"Le tirage est face\"\n",
    "count=0\n",
    "\n",
    "for i in range(insert):\n",
    "    PileFace = random.randint(0,1)\n",
    "    Pile = (PileFace == 0)\n",
    "    Face = (PileFace == 1)\n",
    "    if Pile:\n",
    "        print(pile)\n",
    "    if Face:\n",
    "        print(face)\n",
    "\n",
    "        count=count+1\n",
    "\n",
    "pourcentPile=((100*count)//insert)\n",
    "#pourcentFace=((100*count)//insert)\n",
    "\n",
    "    #100 * float ( partiel) /float (total) \"\n",
    "print(int(pourcentPile))\n",
    "#print(int(pourcentFace))"
   ]
  },
  {
   "cell_type": "code",
   "execution_count": null,
   "metadata": {},
   "outputs": [],
   "source": []
  },
  {
   "cell_type": "code",
   "execution_count": null,
   "metadata": {},
   "outputs": [],
   "source": []
  }
 ],
 "metadata": {
  "kernelspec": {
   "display_name": "Python 3",
   "language": "python",
   "name": "python3"
  },
  "language_info": {
   "codemirror_mode": {
    "name": "ipython",
    "version": 3
   },
   "file_extension": ".py",
   "mimetype": "text/x-python",
   "name": "python",
   "nbconvert_exporter": "python",
   "pygments_lexer": "ipython3",
   "version": "3.7.6"
  }
 },
 "nbformat": 4,
 "nbformat_minor": 4
}
