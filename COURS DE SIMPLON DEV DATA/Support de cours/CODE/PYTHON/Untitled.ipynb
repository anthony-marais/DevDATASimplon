{
 "cells": [
  {
   "cell_type": "code",
   "execution_count": 5,
   "metadata": {},
   "outputs": [],
   "source": [
    "def hascaps(s):\n",
    "    s = input(\"entrez une chaîne de caractères avec des MAJUSCULES\")\n",
    "    print(s)\n",
    "    s1 = s.split()\n",
    "    print(S1)\n",
    "    \n",
    "    for i in range(len(s)):\n",
    "        ascii = ord(s[i])\n",
    "        if ascii > 65 and ascii < 90:\n",
    "            print(ascii)\n",
    "#return print(s.split())"
   ]
  },
  {
   "cell_type": "code",
   "execution_count": null,
   "metadata": {},
   "outputs": [],
   "source": []
  }
 ],
 "metadata": {
  "kernelspec": {
   "display_name": "Python 3",
   "language": "python",
   "name": "python3"
  },
  "language_info": {
   "codemirror_mode": {
    "name": "ipython",
    "version": 3
   },
   "file_extension": ".py",
   "mimetype": "text/x-python",
   "name": "python",
   "nbconvert_exporter": "python",
   "pygments_lexer": "ipython3",
   "version": "3.8.3"
  }
 },
 "nbformat": 4,
 "nbformat_minor": 4
}
