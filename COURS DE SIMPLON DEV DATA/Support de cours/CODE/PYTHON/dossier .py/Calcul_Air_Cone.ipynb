{
 "cells": [
  {
   "cell_type": "code",
   "execution_count": 10,
   "metadata": {},
   "outputs": [
    {
     "name": "stdout",
     "output_type": "stream",
     "text": [
      "Rayon: 10\n",
      "Hauteur: 20\n",
      "Air du Cône pour les valeurs suivantes(R:10, H:20): 2095.24\n"
     ]
    }
   ],
   "source": [
    "rayon,hauteur = int(input(\"Rayon: \")),int(input(\"Hauteur: \"))\n",
    "air = 3.14285714286*(rayon*rayon)*hauteur/3.\n",
    "print(\"Air du Cône pour les valeurs suivantes(R:\"+str(rayon)+\", H:\"+str(hauteur)+\"): \"+str(round(air,2)))"
   ]
  },
  {
   "cell_type": "code",
   "execution_count": null,
   "metadata": {},
   "outputs": [],
   "source": []
  }
 ],
 "metadata": {
  "kernelspec": {
   "display_name": "Python 3",
   "language": "python",
   "name": "python3"
  },
  "language_info": {
   "codemirror_mode": {
    "name": "ipython",
    "version": 3
   },
   "file_extension": ".py",
   "mimetype": "text/x-python",
   "name": "python",
   "nbconvert_exporter": "python",
   "pygments_lexer": "ipython3",
   "version": "3.7.6"
  }
 },
 "nbformat": 4,
 "nbformat_minor": 4
}
