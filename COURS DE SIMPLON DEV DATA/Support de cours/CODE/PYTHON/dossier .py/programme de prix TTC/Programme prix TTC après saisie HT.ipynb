{
 "cells": [
  {
   "cell_type": "code",
   "execution_count": 2,
   "metadata": {
    "scrolled": true
   },
   "outputs": [
    {
     "name": "stdout",
     "output_type": "stream",
     "text": [
      "Programme pour calculer le prix TTC avec la TVA a 20%\n",
      "\n",
      "Nous allons vous demandez de saisir le prix HT\n",
      "Entrez vôtre prix HT\n",
      "\n",
      "0\n",
      "prix incalculable\n"
     ]
    }
   ],
   "source": [
    "print ('Programme pour calculer le prix TTC avec la TVA a 20%\\n\\nNous allons vous demandez de saisir le prix HT')\n",
    "n = float(input('Entrez vôtre prix HT\\n\\n'))\n",
    "while n>0: \n",
    "    TTC = round((n*0.2)+n,2)\n",
    "    print (\"Le prix TTC est =\",TTC)\n",
    "    n = float(input('Entrez vôtre prix HT '))\n",
    "print(\"prix incalculable\")"
   ]
  }
 ],
 "metadata": {
  "kernelspec": {
   "display_name": "Python 3",
   "language": "python",
   "name": "python3"
  },
  "language_info": {
   "codemirror_mode": {
    "name": "ipython",
    "version": 3
   },
   "file_extension": ".py",
   "mimetype": "text/x-python",
   "name": "python",
   "nbconvert_exporter": "python",
   "pygments_lexer": "ipython3",
   "version": "3.7.6"
  }
 },
 "nbformat": 4,
 "nbformat_minor": 4
}
