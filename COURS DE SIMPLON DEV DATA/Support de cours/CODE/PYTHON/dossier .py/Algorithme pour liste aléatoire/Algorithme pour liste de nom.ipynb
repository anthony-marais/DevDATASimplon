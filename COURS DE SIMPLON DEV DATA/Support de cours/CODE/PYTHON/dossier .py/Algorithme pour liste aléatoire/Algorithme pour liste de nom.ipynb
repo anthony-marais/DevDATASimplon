{
 "cells": [
  {
   "cell_type": "code",
   "execution_count": 1,
   "metadata": {},
   "outputs": [
    {
     "name": "stdout",
     "output_type": "stream",
     "text": [
      "  ---   \n",
      "Nouvelle liste\n",
      "1 Fernandes Stéphane\n",
      "2 Cancian Hadrien\n",
      "3 Bouharaoui Tarek\n",
      "4 Fratani Karen\n",
      "5 Bayet Davy\n",
      "6 Vidon Elodie\n",
      "7 Marais Anthony\n",
      "8 Wathelet Florent\n",
      "9 Bouazza Nedra\n",
      "10 Beuil Alexandre\n",
      "11 Lesoeur Raphael\n",
      "12 El Majdoub Chourouk\n",
      "13 Pawtowski Wilfried\n",
      "14 Clave Lukas\n",
      "15 Pelliccioli Luca\n",
      "16 Boubaker Samy\n",
      "17 Ramanitrarivo Niry\n",
      "18 Paul Debolina\n",
      "19 Djerfi Souad\n",
      "20 Jacquemin Anthony\n",
      "21 Deleage Lucas\n",
      "22 Moreau Jonathan\n"
     ]
    }
   ],
   "source": [
    "import random\n",
    "listNames = [\"Bayet Davy\",\"Beuil Alexandre\",\"Bouazza Nedra\",\"Boubaker Samy\",\"Bouharaoui Tarek\",\"Cancian Hadrien\",\"Clave Lukas\",\"Deleage Lucas\",\"Djerfi Souad\",\"El Majdoub Chourouk\",\"Fernandes Stéphane\",\"Fratani Karen\",\"Jacquemin Anthony\",\"Lesoeur Raphael\",\"Marais Anthony\",\"Moreau Jonathan\",\"Paul Debolina\",\"Pawtowski Wilfried\",\"Pelliccioli Luca\",\"Ramanitrarivo Niry\",\"Vidon Elodie\",\"Wathelet Florent\"]\n",
    "newList = []\n",
    "\n",
    "while listNames != []:\n",
    "    nom = listNames[random.randint(0,len(listNames)-1)]\n",
    "    newList.insert(0,nom)\n",
    "    listNames.remove(nom)\n",
    "print(\"  ---   \")\n",
    "print(\"Nouvelle liste\")    \n",
    "for i in range(len(newList)):\n",
    "    print(i+1, newList[i]);\n",
    "    \n",
    "    \n",
    "\n",
    "\n"
   ]
  },
  {
   "cell_type": "code",
   "execution_count": null,
   "metadata": {},
   "outputs": [],
   "source": []
  },
  {
   "cell_type": "code",
   "execution_count": null,
   "metadata": {},
   "outputs": [],
   "source": []
  },
  {
   "cell_type": "code",
   "execution_count": null,
   "metadata": {},
   "outputs": [],
   "source": []
  },
  {
   "cell_type": "code",
   "execution_count": null,
   "metadata": {},
   "outputs": [],
   "source": []
  }
 ],
 "metadata": {
  "kernelspec": {
   "display_name": "Python 3",
   "language": "python",
   "name": "python3"
  },
  "language_info": {
   "codemirror_mode": {
    "name": "ipython",
    "version": 3
   },
   "file_extension": ".py",
   "mimetype": "text/x-python",
   "name": "python",
   "nbconvert_exporter": "python",
   "pygments_lexer": "ipython3",
   "version": "3.7.6"
  }
 },
 "nbformat": 4,
 "nbformat_minor": 4
}
