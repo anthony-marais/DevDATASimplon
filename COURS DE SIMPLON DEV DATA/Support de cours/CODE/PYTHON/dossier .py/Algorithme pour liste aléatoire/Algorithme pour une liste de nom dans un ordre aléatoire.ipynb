{
 "cells": [
  {
   "cell_type": "code",
   "execution_count": 6,
   "metadata": {},
   "outputs": [
    {
     "name": "stdout",
     "output_type": "stream",
     "text": [
      "Liste initiale\n",
      "['Tinky Winky', 'Dipsy', 'Laa-Laa', 'Po']\n",
      "  ---   \n",
      "Nouvelle liste\n",
      "1 Po\n",
      "2 Laa-Laa\n",
      "3 Tinky Winky\n",
      "4 Dipsy\n"
     ]
    }
   ],
   "source": [
    "import random\n",
    "listNames = [\"Tinky Winky\",\"Dipsy\",\"Laa-Laa\",\"Po\"]\n",
    "newList = []\n",
    "print(\"Liste initiale\")\n",
    "print (listNames)\n",
    "while listNames != []:\n",
    "    nom = listNames[random.randint(0,len(listNames)-1)]\n",
    "    newList.insert(0,nom)\n",
    "    listNames.remove(nom)\n",
    "print(\"  ---   \")\n",
    "print(\"Nouvelle liste\")    \n",
    "for i in range(len(newList)):\n",
    "    print(i+1, newList[i]);\n",
    "    \n",
    "    \n",
    "\n",
    "\n"
   ]
  }
 ],
 "metadata": {
  "kernelspec": {
   "display_name": "Python 3",
   "language": "python",
   "name": "python3"
  },
  "language_info": {
   "codemirror_mode": {
    "name": "ipython",
    "version": 3
   },
   "file_extension": ".py",
   "mimetype": "text/x-python",
   "name": "python",
   "nbconvert_exporter": "python",
   "pygments_lexer": "ipython3",
   "version": "3.7.6"
  }
 },
 "nbformat": 4,
 "nbformat_minor": 4
}
