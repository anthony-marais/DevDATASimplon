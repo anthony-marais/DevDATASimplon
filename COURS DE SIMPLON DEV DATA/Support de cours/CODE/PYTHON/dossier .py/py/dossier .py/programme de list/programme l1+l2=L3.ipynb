{
 "cells": [
  {
   "cell_type": "code",
   "execution_count": 10,
   "metadata": {},
   "outputs": [
    {
     "name": "stdout",
     "output_type": "stream",
     "text": [
      "4\n",
      "3\n",
      "2\n",
      "[1, 2, 3, 4, 5, 7, 8, 9]\n"
     ]
    }
   ],
   "source": [
    "L1 = [2, 7, 3, 1, 5, 7, 1]\n",
    "L2 = [8, 5, 9, 4, 1, 1, 5]\n",
    "\n",
    "L3 = (L1+L2)\n",
    "L3.sort()\n",
    "print (L3.count(1))\n",
    "for i in range(L3.count(1) - 1):\n",
    "    L3.remove(1)\n",
    "       \n",
    "print (L3.count(5))\n",
    "for i in range(L3.count(5) - 1):\n",
    "    L3.remove(5)\n",
    "\n",
    "print (L3.count(7))\n",
    "for i in range(L3.count(7) - 1):\n",
    "    L3.remove(7)\n",
    "\n",
    "\n",
    "\n",
    "\n",
    "\n",
    "print (L3)"
   ]
  },
  {
   "cell_type": "code",
   "execution_count": null,
   "metadata": {},
   "outputs": [],
   "source": []
  }
 ],
 "metadata": {
  "kernelspec": {
   "display_name": "Python 3",
   "language": "python",
   "name": "python3"
  },
  "language_info": {
   "codemirror_mode": {
    "name": "ipython",
    "version": 3
   },
   "file_extension": ".py",
   "mimetype": "text/x-python",
   "name": "python",
   "nbconvert_exporter": "python",
   "pygments_lexer": "ipython3",
   "version": "3.7.6"
  }
 },
 "nbformat": 4,
 "nbformat_minor": 4
}
