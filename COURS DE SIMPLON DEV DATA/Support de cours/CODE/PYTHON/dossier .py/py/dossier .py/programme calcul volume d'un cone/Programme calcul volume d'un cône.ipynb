{
 "cells": [
  {
   "cell_type": "code",
   "execution_count": 2,
   "metadata": {},
   "outputs": [
    {
     "name": "stdout",
     "output_type": "stream",
     "text": [
      "Entrez la valeur de votre rayon =10\n",
      "Entrez la valeur de votre hauteur =10\n",
      "1047.1975511965977\n"
     ]
    }
   ],
   "source": [
    "from math import pi\n",
    "a = pi\n",
    "R = int(input('Entrez la valeur de votre rayon ='))\n",
    "H = int(input('Entrez la valeur de votre hauteur ='))\n",
    "result =(a*(R**2)*H)/3\n",
    "print(result)\n"
   ]
  },
  {
   "cell_type": "code",
   "execution_count": null,
   "metadata": {},
   "outputs": [],
   "source": []
  }
 ],
 "metadata": {
  "kernelspec": {
   "display_name": "Python 3",
   "language": "python",
   "name": "python3"
  },
  "language_info": {
   "codemirror_mode": {
    "name": "ipython",
    "version": 3
   },
   "file_extension": ".py",
   "mimetype": "text/x-python",
   "name": "python",
   "nbconvert_exporter": "python",
   "pygments_lexer": "ipython3",
   "version": "3.7.6"
  }
 },
 "nbformat": 4,
 "nbformat_minor": 4
}
