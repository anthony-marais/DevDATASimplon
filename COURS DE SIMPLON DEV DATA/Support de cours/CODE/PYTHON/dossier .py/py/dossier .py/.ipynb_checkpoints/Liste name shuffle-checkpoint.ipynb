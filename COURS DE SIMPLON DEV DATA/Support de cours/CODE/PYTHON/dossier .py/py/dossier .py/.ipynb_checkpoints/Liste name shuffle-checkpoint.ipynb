{
 "cells": [
  {
   "cell_type": "code",
   "execution_count": 5,
   "metadata": {},
   "outputs": [
    {
     "name": "stdout",
     "output_type": "stream",
     "text": [
      "1 Pawtowski Wilfried\n",
      "2 Ramanitrarivo Niry\n",
      "3 Lesoeur Raphael\n",
      "4 Jacquemin Anthony\n",
      "5 Djerfi Souad\n",
      "6 Deleage Lucas\n",
      "7 Bouharaoui Tarek\n",
      "8 Bouazza Nedra\n",
      "9 Beuil Alexandre\n",
      "10 Fratani Karen\n",
      "11 Clave Lukas\n",
      "12 Fernandes Stéphane\n",
      "13 Vidon Elodie\n",
      "14 Bayet Davy\n",
      "15 Pelliccioli Luca\n",
      "16 Moreau Jonathan\n",
      "17 El Majdoub Chourouk\n",
      "18 Boubaker Samy\n",
      "19 Cancian Hadrien\n",
      "20 Paul Debolina\n",
      "21 Wathelet Florent\n",
      "22 Marais Anthony\n"
     ]
    }
   ],
   "source": [
    "import random\n",
    "\n",
    "noms = [\"Bayet Davy\",\"Beuil Alexandre\",\"Bouazza Nedra\",\"Boubaker Samy\",\"Bouharaoui Tarek\",\"Cancian Hadrien\",\"Clave Lukas\",\"Deleage Lucas\",\"Djerfi Souad\",\"El Majdoub Chourouk\",\"Fernandes Stéphane\",\"Fratani Karen\",\"Jacquemin Anthony\",\"Lesoeur Raphael\",\"Marais Anthony\",\"Moreau Jonathan\",\"Paul Debolina\",\"Pawtowski Wilfried\",\"Pelliccioli Luca\",\"Ramanitrarivo Niry\",\"Vidon Elodie\",\"Wathelet Florent\"]\n",
    "random.shuffle(noms)\n",
    "for i in range(len(noms)):\n",
    "    print(i+1,noms[i])"
   ]
  },
  {
   "cell_type": "code",
   "execution_count": null,
   "metadata": {},
   "outputs": [],
   "source": []
  },
  {
   "cell_type": "code",
   "execution_count": null,
   "metadata": {},
   "outputs": [],
   "source": []
  },
  {
   "cell_type": "code",
   "execution_count": null,
   "metadata": {},
   "outputs": [],
   "source": []
  },
  {
   "cell_type": "code",
   "execution_count": null,
   "metadata": {},
   "outputs": [],
   "source": []
  },
  {
   "cell_type": "code",
   "execution_count": null,
   "metadata": {},
   "outputs": [],
   "source": []
  },
  {
   "cell_type": "code",
   "execution_count": null,
   "metadata": {},
   "outputs": [],
   "source": []
  },
  {
   "cell_type": "code",
   "execution_count": null,
   "metadata": {},
   "outputs": [],
   "source": []
  }
 ],
 "metadata": {
  "kernelspec": {
   "display_name": "Python 3",
   "language": "python",
   "name": "python3"
  },
  "language_info": {
   "codemirror_mode": {
    "name": "ipython",
    "version": 3
   },
   "file_extension": ".py",
   "mimetype": "text/x-python",
   "name": "python",
   "nbconvert_exporter": "python",
   "pygments_lexer": "ipython3",
   "version": "3.7.6"
  }
 },
 "nbformat": 4,
 "nbformat_minor": 4
}
