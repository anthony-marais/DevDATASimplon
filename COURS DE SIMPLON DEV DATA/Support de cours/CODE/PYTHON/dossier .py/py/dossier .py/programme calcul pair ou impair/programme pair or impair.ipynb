{
 "cells": [
  {
   "cell_type": "code",
   "execution_count": 1,
   "metadata": {},
   "outputs": [
    {
     "name": "stdout",
     "output_type": "stream",
     "text": [
      "Programme pour savoir si le nombre saisie est pair où impair\n",
      "\n",
      "Nous allons vous demandez de saisir votre nombre\n",
      "saisissez vôtre nombre n= 12\n",
      "vôtre nombre est pair\n"
     ]
    }
   ],
   "source": [
    "print ('Programme pour savoir si le nombre saisie est pair où impair\\n\\nNous allons vous demandez de saisir votre nombre' )\n",
    "\n",
    "n = int(input('saisissez vôtre nombre n= '))\n",
    "\n",
    "if n%2 == 0:\n",
    "    print(\"vôtre nombre est pair\")\n",
    "else:\n",
    "    print(\"vôtre nombre est impair\")"
   ]
  }
 ],
 "metadata": {
  "kernelspec": {
   "display_name": "Python 3",
   "language": "python",
   "name": "python3"
  },
  "language_info": {
   "codemirror_mode": {
    "name": "ipython",
    "version": 3
   },
   "file_extension": ".py",
   "mimetype": "text/x-python",
   "name": "python",
   "nbconvert_exporter": "python",
   "pygments_lexer": "ipython3",
   "version": "3.7.6"
  }
 },
 "nbformat": 4,
 "nbformat_minor": 4
}
