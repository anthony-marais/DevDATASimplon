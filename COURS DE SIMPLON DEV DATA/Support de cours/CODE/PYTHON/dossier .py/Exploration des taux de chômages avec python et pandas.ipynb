{
 "cells": [
  {
   "cell_type": "code",
   "execution_count": 1,
   "metadata": {},
   "outputs": [],
   "source": [
    "# Import de la librairie pandas avec l'allias pd\n",
    "\n",
    "import pandas as pd\n"
   ]
  },
  {
   "cell_type": "code",
   "execution_count": 8,
   "metadata": {
    "scrolled": true
   },
   "outputs": [],
   "source": [
    "# Import de données depuis un fichié Excel dans un dataframe\n",
    "\n",
    "nom_colonnes = ['ZE2010', 'LIBZE2010', 'REG', 'LIBREG']\n",
    "\n",
    "data = pd.read_excel(\"//home//virus//Documents//Analyse exploratoire taux de chômage//chomage_zone.xls\",\n",
    "                    index_col=None, header=None, names=nom_colonnes, skiprows=[5])\n"
   ]
  },
  {
   "cell_type": "code",
   "execution_count": 9,
   "metadata": {},
   "outputs": [
    {
     "name": "stdout",
     "output_type": "stream",
     "text": [
      "                                              ZE2010  LIBZE2010  REG  LIBREG\n",
      "0  Taux de chômage localisés par zone d'emploi, e...        NaN  NaN     NaN\n",
      "1  Le taux de chômage est le rapport (en %) entre...        NaN  NaN     NaN\n",
      "2  Le taux de chômage est calculé pour les 304 zo...        NaN  NaN     NaN\n",
      "3  Le taux de chômage est évalué quatre fois par ...        NaN  NaN     NaN\n",
      "4  Ce fichier présente les taux de chômage locali...        NaN  NaN     NaN\n"
     ]
    }
   ],
   "source": [
    "# Afficher les remières lignes du dataframe\n",
    "print(data.head())"
   ]
  },
  {
   "cell_type": "code",
   "execution_count": null,
   "metadata": {},
   "outputs": [],
   "source": []
  }
 ],
 "metadata": {
  "kernelspec": {
   "display_name": "Python 3",
   "language": "python",
   "name": "python3"
  },
  "language_info": {
   "codemirror_mode": {
    "name": "ipython",
    "version": 3
   },
   "file_extension": ".py",
   "mimetype": "text/x-python",
   "name": "python",
   "nbconvert_exporter": "python",
   "pygments_lexer": "ipython3",
   "version": "3.7.6"
  }
 },
 "nbformat": 4,
 "nbformat_minor": 4
}
