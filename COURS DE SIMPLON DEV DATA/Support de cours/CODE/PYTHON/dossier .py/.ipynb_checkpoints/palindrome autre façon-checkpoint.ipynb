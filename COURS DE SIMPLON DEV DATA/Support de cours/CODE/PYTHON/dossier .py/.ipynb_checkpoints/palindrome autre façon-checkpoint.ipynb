{
 "cells": [
  {
   "cell_type": "code",
   "execution_count": null,
   "metadata": {},
   "outputs": [],
   "source": [
    "L1 = [1,2,3,4,3,2,1]\n",
    "L2 = L1.copy()\n",
    "L2.reverse()\n",
    "if L1 == L2:\n",
    "    print(\"La liste est un palindrome\")\n",
    "else :\n",
    "    print (\"La liste n'est pas un palindrome\")"
   ]
  }
 ],
 "metadata": {
  "kernelspec": {
   "display_name": "Python 3",
   "language": "python",
   "name": "python3"
  },
  "language_info": {
   "codemirror_mode": {
    "name": "ipython",
    "version": 3
   },
   "file_extension": ".py",
   "mimetype": "text/x-python",
   "name": "python",
   "nbconvert_exporter": "python",
   "pygments_lexer": "ipython3",
   "version": "3.7.6"
  }
 },
 "nbformat": 4,
 "nbformat_minor": 4
}
