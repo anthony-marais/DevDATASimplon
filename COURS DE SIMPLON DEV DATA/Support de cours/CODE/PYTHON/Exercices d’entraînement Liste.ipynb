{
 "cells": [
  {
   "cell_type": "code",
   "execution_count": 94,
   "metadata": {},
   "outputs": [
    {
     "output_type": "execute_result",
     "data": {
      "text/plain": "89"
     },
     "metadata": {},
     "execution_count": 94
    }
   ],
   "source": [
    "# 1. Calculer la somme des éléments d’une liste \n",
    "\n",
    "List=[4,6,12,16,17,34]\n",
    "\n",
    "sum(List)"
   ]
  },
  {
   "cell_type": "code",
   "execution_count": 95,
   "metadata": {
    "tags": []
   },
   "outputs": [
    {
     "output_type": "stream",
     "name": "stdout",
     "text": "[4, 6, 12, 16, 17, 34]\n89\n"
    }
   ],
   "source": [
    "List=[4,6,12,16,17,34]\n",
    "\n",
    "print(List)\n",
    "\n",
    "somme = 0 \n",
    "\n",
    "for i in List:\n",
    "    somme=i+somme\n",
    "\n",
    "print(somme)"
   ]
  },
  {
   "cell_type": "code",
   "execution_count": 96,
   "metadata": {
    "tags": []
   },
   "outputs": [
    {
     "output_type": "stream",
     "name": "stdout",
     "text": "[4, 6, 12, 16, 34]\n[17, 47, 35, 21]\n"
    }
   ],
   "source": [
    "# 2. Répartir les nombres pairs et impairs dans deux listes \n",
    "\n",
    "suite=[4,6,12,16,17,34,47,35,21]\n",
    "\n",
    "paire  = [nb for nb in suite if not nb%2]\n",
    "impaire  = [nb for nb in suite if not nb in paire]\n",
    "\n",
    "print(paire)\n",
    "print(impaire)"
   ]
  },
  {
   "cell_type": "code",
   "execution_count": 97,
   "metadata": {
    "tags": []
   },
   "outputs": [
    {
     "output_type": "stream",
     "name": "stdout",
     "text": "Voici la liste des nombres pairs[4, 6, 12, 16, 34]\nVoici la liste des nombres pairs[17, 47, 35, 21]\n"
    }
   ],
   "source": [
    "suite=[4,6,12,16,17,34,47,35,21]\n",
    "\n",
    "spair = []\n",
    "simpair = []\n",
    "\n",
    "for k in suite : \n",
    "    if k % 2 is 0:\n",
    "        spair.append(k)\n",
    "    else:\n",
    "        simpair.append(k)\n",
    "print(\"Voici la liste des nombres pairs{0}\".format(spair))\n",
    "print(\"Voici la liste des nombres pairs{0}\".format(simpair))\n",
    "        \n"
   ]
  },
  {
   "cell_type": "code",
   "execution_count": 98,
   "metadata": {
    "tags": []
   },
   "outputs": [
    {
     "output_type": "stream",
     "name": "stdout",
     "text": "Nombre d'occurences de tous les caractères :\nNombre d'occurences de  2 est 2\nNombre d'occurences de  5 est 3\nNombre d'occurences de  8 est 1\n"
    }
   ],
   "source": [
    "# 3. Compter les occurrences de chaque nombre dans une liste \n",
    "\n",
    "from collections import Counter\n",
    "\n",
    "L = [2, 5, 2, 5, 5, 8]\n",
    "\n",
    "frequence = Counter(L)\n",
    "print(\"Nombre d'occurences de tous les caractères :\")\n",
    "\n",
    "for (key, value) in frequence.items():\n",
    "    print(\"Nombre d'occurences de \", key, \"est\", value)\n"
   ]
  },
  {
   "cell_type": "code",
   "execution_count": 99,
   "metadata": {
    "tags": []
   },
   "outputs": [
    {
     "output_type": "stream",
     "name": "stdout",
     "text": "[0, 0, 2, 0, 0, 3, 0, 0, 1, 0]\nLe nombre d'occurences de 2 est 2\nLe nombre d'occurences de 5 est 3\nLe nombre d'occurences de 8 est 1\n"
    }
   ],
   "source": [
    "L = [2, 5, 2, 5, 5, 8]\n",
    "\n",
    "counter= [0]*10\n",
    "\n",
    "for v in L:\n",
    "    counter[v]+=1\n",
    "print(counter)\n",
    "\n",
    "print(\"Le nombre d'occurences de 2 est\",counter[2])\n",
    "print(\"Le nombre d'occurences de 5 est\",counter[5])\n",
    "print(\"Le nombre d'occurences de 8 est\",counter[8])\n",
    "\n",
    "\n",
    "\n"
   ]
  },
  {
   "cell_type": "code",
   "execution_count": 100,
   "metadata": {
    "tags": []
   },
   "outputs": [
    {
     "output_type": "stream",
     "name": "stdout",
     "text": "indice: 2, occurence: 2\nindice: 5, occurence: 3\nindice: 8, occurence: 1\n"
    }
   ],
   "source": [
    "L = [2, 5, 2, 5, 5, 8]\n",
    "counter= [0]*10\n",
    "\n",
    "for i in L:\n",
    "\n",
    "    counter[i]+=1\n",
    "\n",
    "for i in range(10):\n",
    "\n",
    "    if counter[i]>0:\n",
    "        print(f'indice: {i}, occurence: {counter[i]}')\n"
   ]
  },
  {
   "cell_type": "code",
   "execution_count": 130,
   "metadata": {
    "tags": []
   },
   "outputs": [
    {
     "output_type": "stream",
     "name": "stdout",
     "text": "X X X X X X X X X X X X X X X X X X X X \n X X X X X X X X X X X X X X X X X X X X\nX X X X X X X X X X X X X X X X X X X X \n X X X X X X X X X X X X X X X X X X X X\nX X X X X X X X X X X X X X X X X X X X \n X X X X X X X X X X X X X X X X X X X X\nX X X X X X X X X X X X X X X X X X X X \n X X X X X X X X X X X X X X X X X X X X\nX X X X X X X X X X X X X X X X X X X X \n X X X X X X X X X X X X X X X X X X X X\n"
    }
   ],
   "source": [
    "for i in range(10):\n",
    "    for j in range(40):\n",
    "        if (i+j)%2 == 0:\n",
    "            print(\"X\",end=\"\")\n",
    "        else:\n",
    "            print(\" \",end=\"\")\n",
    "    print(\"\")"
   ]
  },
  {
   "cell_type": "code",
   "execution_count": 2,
   "metadata": {
    "tags": []
   },
   "outputs": [
    {
     "output_type": "stream",
     "name": "stdout",
     "text": "Programme équation de second degrés\n\nNous allons éxecuter ensemble la formule Mathématique Δ=b²-4*a*c\n\nveuillez isoler votre \"a\",\"b\",\"c\"\n12\n6\n-7\nLe resultat de vôtre Delta (Δ) est = 372\nNous allons calculer la valeurs de x1 via ce calcul: x1=-b-√Δ/2*a\n\nLe resultat de x1 est = -1.0536375634160795\n\nNous allons calculer la valeurs de x2 via ce calcul: x1=-b+√Δ/2*a\n\nLe resultat de x2 est = 0.5536375634160796\n"
    }
   ],
   "source": [
    "# 5. Calculer les racines d’un polynôme du second degré \n",
    "from math import sqrt\n",
    "# = 0 (9 -12 4) , négatif (-1 1 -1) , positif (12 6 -7)\n",
    "print ('Programme équation de second degrés\\n\\nNous allons éxecuter ensemble la formule Mathématique Δ=b²-4*a*c\\n\\nveuillez isoler votre \"a\",\"b\",\"c\"' )\n",
    "a, b, c = input('Entrez la valeur de votre A, B, C').split()\n",
    "a = int(a)\n",
    "b = int(b)\n",
    "c = int(c)\n",
    "print(a)\n",
    "print(b)\n",
    "print(c)\n",
    "Δ = ((b**2)-4*a*c)\n",
    "#print ('')\n",
    "print('Le resultat de vôtre Delta (Δ) est =',Δ)\n",
    "#print('')\n",
    "if Δ > 0:\n",
    "    r = (sqrt(Δ))\n",
    "    print ('Nous allons calculer la valeurs de x1 via ce calcul: x1 = -b - √Δ/2*a')\n",
    "    x1 = (-b-r)/(2*a)\n",
    "    print(\"\")\n",
    "    print (\"Le resultat de x1 est =\" ,x1)\n",
    "    print(\"\")\n",
    "    print ('Nous allons calculer la valeurs de x2 via ce calcul: x1 = -b + √Δ/2*a')\n",
    "    x2 = (-b+r)/(2*a)\n",
    "    print(\"\")\n",
    "    print (\"Le resultat de x2 est =\" ,x2)\n",
    "    \n",
    "if Δ == 0:\n",
    "    x3 = -b/2*a\n",
    "    print (\"L'équation admet qu'une solution\", x3)\n",
    "\n",
    "if Δ < 0:\n",
    "   \n",
    "    print(\"Le résultat de Δ est négatif, il n'y as pas de solution\") \n"
   ]
  },
  {
   "cell_type": "code",
   "execution_count": 78,
   "metadata": {
    "tags": []
   },
   "outputs": [
    {
     "output_type": "stream",
     "name": "stdout",
     "text": "1\n2\n3\n"
    }
   ],
   "source": [
    "a, b, c = input(\"Enter a three value: \").split() \n",
    "print(a)\n",
    "print(b)\n",
    "print(c)"
   ]
  },
  {
   "cell_type": "code",
   "execution_count": 28,
   "metadata": {
    "tags": []
   },
   "outputs": [
    {
     "output_type": "stream",
     "name": "stdout",
     "text": "Nombres premiers trouvés : 1\nNombres premiers trouvés : 2\nNombres premiers trouvés : 3\nNombres premiers trouvés : 5\nNombres premiers trouvés : 7\nNombres premiers trouvés : 11\nNombres premiers trouvés : 13\nNombres premiers trouvés : 17\nNombres premiers trouvés : 19\nNombres premiers trouvés : 23\nNombres premiers trouvés : 29\nNombres premiers trouvés : 31\nNombres premiers trouvés : 37\nNombres premiers trouvés : 41\nNombres premiers trouvés : 43\nNombres premiers trouvés : 47\nNombres premiers trouvés : 53\nNombres premiers trouvés : 59\nNombres premiers trouvés : 61\nNombres premiers trouvés : 67\nNombres premiers trouvés : 71\nNombres premiers trouvés : 73\nNombres premiers trouvés : 79\nNombres premiers trouvés : 83\nNombres premiers trouvés : 89\nNombres premiers trouvés : 97\n"
    }
   ],
   "source": [
    "# 6. Trouver tous les nombres premiers jusqu’à 100 \n",
    "\n",
    "a = 0\n",
    "b = 100\n",
    "for n in range(a,b + 1):\n",
    "   if n > 0:\n",
    "       for i in range(2,n-1):\n",
    "           if (n % i) == 0:\n",
    "               break\n",
    "       else:\n",
    "           print(\"Nombres premiers trouvés :\",n)\n",
    " \n"
   ]
  },
  {
   "cell_type": "code",
   "execution_count": 7,
   "metadata": {
    "tags": []
   },
   "outputs": [
    {
     "output_type": "stream",
     "name": "stdout",
     "text": "0 [1, 5, 11, 19, 8, 50, 77] dans le mauvais ordre\n1 [1, 5, 11, 19, 8, 50, 77] dans le mauvais ordre\n2 [1, 5, 11, 19, 8, 50, 77] dans le mauvais ordre\n3 [1, 5, 11, 19, 8, 50, 77] dans le mauvais ordre\n4 [1, 5, 11, 19, 8, 50, 77] dans le mauvais ordre\n5 [1, 5, 11, 19, 8, 50, 77] dans le mauvais ordre\n"
    }
   ],
   "source": [
    "# 7. Vérifier si une liste est triée \n",
    "\n",
    "L =  [1,  5,  11,  19,  8,  50,  77]\n",
    "\n",
    "for i in range(len(L)-1):\n",
    "    if L[i] <= L[i+1]:\n",
    "        print(i,L,\"dans le bon ordre\")\n",
    "    else:\n",
    "        print(i,L, \"dans le mauvais ordre\")"
   ]
  },
  {
   "cell_type": "code",
   "execution_count": null,
   "metadata": {},
   "outputs": [],
   "source": []
  },
  {
   "cell_type": "code",
   "execution_count": 71,
   "metadata": {
    "tags": []
   },
   "outputs": [
    {
     "output_type": "stream",
     "name": "stdout",
     "text": "[5, 0, 1, 2, 3, 4]\n[4, 5, 0, 1, 2, 3]\n[3, 4, 5, 0, 1, 2]\n[2, 3, 4, 5, 0, 1]\n[1, 2, 3, 4, 5, 0]\n[0, 1, 2, 3, 4, 5]\n"
    }
   ],
   "source": [
    "# 8. Décaler une liste \n",
    "L = [0,1,2,3,4,5]\n",
    "#for i in L:\n",
    "\n",
    "for i in range(len(L)):\n",
    "    a = L.pop()\n",
    "    L.insert(0, a)\n",
    "    print(L)\n",
    "\n",
    "    \n"
   ]
  },
  {
   "cell_type": "code",
   "execution_count": null,
   "metadata": {},
   "outputs": [],
   "source": []
  },
  {
   "cell_type": "code",
   "execution_count": 102,
   "metadata": {
    "tags": []
   },
   "outputs": [
    {
     "output_type": "stream",
     "name": "stdout",
     "text": "1 15 18 55 60 65 77 80 85 93 99\n   10   >  <  <  <  <  <  <  <  <  <  <  \n   65   >  >  >  >  >  =  <  <  <  <  <  \n   89   >  >  >  >  >  >  >  >  >  <  <  \n   90   >  >  >  >  >  >  >  >  >  <  <  \n"
    }
   ],
   "source": [
    "# 9. Construire un tableau de comparaison \n",
    "L1=[1,15,18,55,60,65,77,80,85,93,99]\n",
    "L2=[10,65,89,90]\n",
    "\n",
    "#print(\"\".format{3})\n",
    "print(\"{0:3}   \".format(\"\"),end=\"\")\n",
    "for i in L1:\n",
    "    print(\"{0:3}\".format(i),end=\"\")\n",
    "print(\"\")\n",
    "for j in L2:\n",
    "    print(\"{0:5}   \".format(j),end=\"\")\n",
    "    for i in L1:\n",
    "        if j == i:\n",
    "            print(\"{0:3}\".format(\"=\"),end=\"\")\n",
    "        elif j < i:\n",
    "            print(\"{0:3}\".format(\"<\"),end=\"\")\n",
    "        elif j > i:\n",
    "            print(\"{0:3}\".format(\">\"),end=\"\")\n",
    "            \n",
    "\n",
    "    print(\"\")"
   ]
  },
  {
   "cell_type": "code",
   "execution_count": null,
   "metadata": {},
   "outputs": [],
   "source": []
  },
  {
   "cell_type": "code",
   "execution_count": 110,
   "metadata": {
    "tags": []
   },
   "outputs": [
    {
     "output_type": "stream",
     "name": "stdout",
     "text": "[1, 10, 15, 18, 55, 60, 65, 65, 77, 80, 85, 89, 90, 93, 99]\n"
    }
   ],
   "source": [
    "# 10. Fusionner deux listes triées \n",
    "\n",
    "i = [1,15,18,55,60,65,77,80,85,93,99]\n",
    "j = [10,65,89,90]\n",
    "\n",
    "i = sorted(i)\n",
    "j = sorted(j)\n",
    "\n",
    "K = i + j\n",
    "\n",
    "print(sorted(K))\n",
    "\n"
   ]
  },
  {
   "cell_type": "code",
   "execution_count": 117,
   "metadata": {},
   "outputs": [
    {
     "output_type": "error",
     "ename": "NameError",
     "evalue": "name 'n1' is not defined",
     "traceback": [
      "\u001b[0;31m---------------------------------------------------------------------------\u001b[0m",
      "\u001b[0;31mNameError\u001b[0m                                 Traceback (most recent call last)",
      "\u001b[0;32m<ipython-input-117-a64feb2ece85>\u001b[0m in \u001b[0;36m<module>\u001b[0;34m\u001b[0m\n\u001b[1;32m     16\u001b[0m         \u001b[0mi\u001b[0m \u001b[0;34m+=\u001b[0m \u001b[0;36m1\u001b[0m\u001b[0;34m\u001b[0m\u001b[0;34m\u001b[0m\u001b[0m\n\u001b[1;32m     17\u001b[0m         \u001b[0mi\u001b[0m \u001b[0;34m+=\u001b[0m \u001b[0;36m1\u001b[0m\u001b[0;34m\u001b[0m\u001b[0;34m\u001b[0m\u001b[0m\n\u001b[0;32m---> 18\u001b[0;31m     \u001b[0;32mwhile\u001b[0m \u001b[0mi\u001b[0m\u001b[0;34m<\u001b[0m\u001b[0mn1\u001b[0m\u001b[0;34m:\u001b[0m\u001b[0;34m\u001b[0m\u001b[0;34m\u001b[0m\u001b[0m\n\u001b[0m\u001b[1;32m     19\u001b[0m         \u001b[0mL1\u001b[0m\u001b[0;34m[\u001b[0m\u001b[0mi\u001b[0m\u001b[0;34m]\u001b[0m \u001b[0;34m=\u001b[0m \u001b[0mL2\u001b[0m\u001b[0;34m[\u001b[0m\u001b[0mi\u001b[0m\u001b[0;34m]\u001b[0m\u001b[0;34m\u001b[0m\u001b[0;34m\u001b[0m\u001b[0m\n\u001b[1;32m     20\u001b[0m         \u001b[0mi\u001b[0m \u001b[0;34m+=\u001b[0m \u001b[0;36m1\u001b[0m\u001b[0;34m\u001b[0m\u001b[0;34m\u001b[0m\u001b[0m\n",
      "\u001b[0;31mNameError\u001b[0m: name 'n1' is not defined"
     ]
    }
   ],
   "source": [
    "# 10. Fusionner deux listes triées \n",
    "\n",
    "L1 = [1,15,18,55,60,65,77,80,85,93,99]\n",
    "L2 = [10,65,89,90]\n",
    "L3 = []\n",
    "\n",
    "i=0\n",
    "j=0\n",
    "\n",
    "while L1 and L2:\n",
    "    if L1[0] < L2[0]:\n",
    "        L3.append(L1[0])\n",
    "        L1.pop(0)\n",
    "    else:\n",
    "        L3.append(L2[0])\n",
    "        L2.pop(0)\n",
    "if len(L1)<0\n",
    "    \tL1[i] = L2[i]\n",
    "    \ti += 1\n",
    "    \ti += 1\n",
    "else:\n",
    "    \tL1[i] = L2[i]\n",
    "    \ti += 1\n",
    "    \ti += 1 \n",
    "    \n",
    "\n",
    "\n",
    "\n",
    "\n",
    "\n",
    "\n",
    "\n",
    "\n",
    "\n"
   ]
  },
  {
   "cell_type": "code",
   "execution_count": 119,
   "metadata": {
    "tags": []
   },
   "outputs": [
    {
     "output_type": "stream",
     "name": "stdout",
     "text": "[1, 10, 15, 18, 55, 60, 65, 65, 77, 80, 85, 89, 90, 93, 99]\n"
    }
   ],
   "source": [
    "L1 = [1,15,18,55,60,65,77,80,85,93,99]\n",
    "L2 = [10,65,89,90]\n",
    "\n",
    "size_1 = len(L1)\n",
    "size_2 = len(L2)\n",
    "\n",
    "res=[]\n",
    "i , j = 0 , 0\n",
    "\n",
    "while i < size_1 and j < size_2:\n",
    "    if L1[i] < L2[j]:\n",
    "        res.append(L1[i])\n",
    "        i += 1\n",
    "\n",
    "    else:\n",
    "        res.append(L2[j])\n",
    "        j += 1\n",
    "\n",
    "res = res + L1[i:] + L2[j:]\n",
    "print(str(res))"
   ]
  },
  {
   "cell_type": "code",
   "execution_count": null,
   "metadata": {},
   "outputs": [],
   "source": []
  }
 ],
 "metadata": {
  "kernelspec": {
   "display_name": "Python 3",
   "language": "python",
   "name": "python3"
  },
  "language_info": {
   "codemirror_mode": {
    "name": "ipython",
    "version": 3
   },
   "file_extension": ".py",
   "mimetype": "text/x-python",
   "name": "python",
   "nbconvert_exporter": "python",
   "pygments_lexer": "ipython3",
   "version": "3.7.6-final"
  }
 },
 "nbformat": 4,
 "nbformat_minor": 4
}