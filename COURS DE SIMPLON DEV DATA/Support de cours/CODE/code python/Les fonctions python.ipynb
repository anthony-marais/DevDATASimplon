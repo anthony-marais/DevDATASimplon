{
 "metadata": {
  "language_info": {
   "codemirror_mode": {
    "name": "ipython",
    "version": 3
   },
   "file_extension": ".py",
   "mimetype": "text/x-python",
   "name": "python",
   "nbconvert_exporter": "python",
   "pygments_lexer": "ipython3",
   "version": "3.8.3-final"
  },
  "orig_nbformat": 2,
  "kernelspec": {
   "name": "python3",
   "display_name": "Python 3"
  }
 },
 "nbformat": 4,
 "nbformat_minor": 2,
 "cells": [
  {
   "cell_type": "code",
   "execution_count": 1,
   "metadata": {},
   "outputs": [],
   "source": [
    "def polynome(x):\n",
    "    x2 = x*x\n",
    "    return x2+x-5"
   ]
  },
  {
   "cell_type": "code",
   "execution_count": 2,
   "metadata": {},
   "outputs": [
    {
     "output_type": "execute_result",
     "data": {
      "text/plain": "105"
     },
     "metadata": {},
     "execution_count": 2
    }
   ],
   "source": [
    "polynome(10)"
   ]
  },
  {
   "cell_type": "code",
   "execution_count": 1,
   "metadata": {},
   "outputs": [
    {
     "output_type": "execute_result",
     "data": {
      "text/plain": "(2.9999999999999996, 9.965784284662087)"
     },
     "metadata": {},
     "execution_count": 1
    }
   ],
   "source": [
    "from math import log #on importe une fonction exitante\n",
    "def log_base(x,base=10):\n",
    "    return log(x)/log(base)\n",
    "y = log_base(1000)  #identique à y = log_base (1000,10)\n",
    "z = log_base(1000, 2)   #logarithme en base deux\n",
    "\n",
    "y,z"
   ]
  },
  {
   "cell_type": "code",
   "execution_count": 12,
   "metadata": {
    "tags": []
   },
   "outputs": [
    {
     "output_type": "error",
     "ename": "NameError",
     "evalue": "name 'a' is not defined",
     "traceback": [
      "\u001b[0;31m---------------------------------------------------------------------------\u001b[0m",
      "\u001b[0;31mNameError\u001b[0m                                 Traceback (most recent call last)",
      "\u001b[0;32m<ipython-input-12-9b33db3e4a4b>\u001b[0m in \u001b[0;36m<module>\u001b[0;34m\u001b[0m\n\u001b[1;32m      3\u001b[0m     \u001b[0ma\u001b[0m\u001b[0;34m=\u001b[0m \u001b[0mx\u001b[0m\u001b[0;34m+\u001b[0m\u001b[0my\u001b[0m\u001b[0;34m\u001b[0m\u001b[0;34m\u001b[0m\u001b[0m\n\u001b[1;32m      4\u001b[0m     \u001b[0;32mreturn\u001b[0m \u001b[0ma\u001b[0m\u001b[0;34m\u001b[0m\u001b[0;34m\u001b[0m\u001b[0m\n\u001b[0;32m----> 5\u001b[0;31m \u001b[0mprint\u001b[0m\u001b[0;34m(\u001b[0m\u001b[0ma\u001b[0m\u001b[0;34m)\u001b[0m\u001b[0;31m# déclenche une exception\u001b[0m\u001b[0;34m\u001b[0m\u001b[0;34m\u001b[0m\u001b[0m\n\u001b[0m",
      "\u001b[0;31mNameError\u001b[0m: name 'a' is not defined"
     ]
    }
   ],
   "source": [
    "def calcul(x):\n",
    "    y= x**2\n",
    "    a= x+y\n",
    "    return a\n",
    "print(a)# déclenche une exception"
   ]
  },
  {
   "cell_type": "code",
   "execution_count": 14,
   "metadata": {
    "tags": []
   },
   "outputs": [
    {
     "output_type": "stream",
     "name": "stdout",
     "text": "interieur de test 3\naprès test 2\n"
    }
   ],
   "source": [
    "b = 2\n",
    "\n",
    "def test():\n",
    "    global b  # à tester sans le global\n",
    "    b=3\n",
    "    return print(\"interieur de test\", b)\n",
    "\n",
    "test()\n",
    "print(\"après test\", b)"
   ]
  },
  {
   "cell_type": "code",
   "execution_count": 20,
   "metadata": {
    "tags": []
   },
   "outputs": [
    {
     "output_type": "stream",
     "name": "stdout",
     "text": "je m'appelle pour x= 32\nje m'appelle pour x= 16.0\nje m'appelle pour x= 8.0\nje m'appelle pour x= 4.0\nje m'appelle pour x= 2.0\nje ne m'appelle pas pour x= 1.0\n"
    },
    {
     "output_type": "execute_result",
     "data": {
      "text/plain": "6"
     },
     "metadata": {},
     "execution_count": 20
    }
   ],
   "source": [
    "def recursive(x):\n",
    "    if x / 2 < 1:\n",
    "        print(\"je ne m'appelle pas pour x=\",x)\n",
    "        return 1\n",
    "    else:\n",
    "        print(\"je m'appelle pour x=\",x)\n",
    "        return recursive (x/2)+1 #à tester sans le +1\n",
    "\n",
    "recursive(32)"
   ]
  },
  {
   "cell_type": "code",
   "execution_count": 25,
   "metadata": {
    "tags": []
   },
   "outputs": [
    {
     "output_type": "stream",
     "name": "stdout",
     "text": "D u   p\n['Du p', 'sé faisons table r', 'e']\n['Du', 'passé', 'faisons', 'table', 'rase']\n"
    }
   ],
   "source": [
    "s1 = \"Du passé faisons table rase\"\n",
    "l1 = [i for i in s1]\n",
    "l2 = s1.split(\"as\")\n",
    "l3 = s1.split()\n",
    "\n",
    "print(l1[0], l1[1], l1[2], l1[3])\n",
    "print(l2)\n",
    "print(l3)"
   ]
  },
  {
   "cell_type": "code",
   "execution_count": 32,
   "metadata": {
    "tags": []
   },
   "outputs": [
    {
     "output_type": "stream",
     "name": "stdout",
     "text": "Hello W\nDu  passe  faisons  table  rase\n"
    }
   ],
   "source": [
    "l1 = ['H','e','l','l','o',' ','W']\n",
    "l2 = ['Du', 'passe', 'faisons','table','rase']\n",
    "\n",
    "s1 = \"\".join(l1)\n",
    "s2 = \"  \".join(l2)\n",
    "\n",
    "print(s1)\n",
    "print(s2)"
   ]
  },
  {
   "cell_type": "code",
   "execution_count": 33,
   "metadata": {
    "tags": []
   },
   "outputs": [
    {
     "output_type": "stream",
     "name": "stdout",
     "text": "faisons TABLE\n"
    }
   ],
   "source": [
    "s1 = \"Faisons table rase\"\n",
    "s2 = s1[:8].lower() + s1[8:13].upper()\n",
    "print(s2)"
   ]
  },
  {
   "cell_type": "code",
   "execution_count": 34,
   "metadata": {
    "tags": []
   },
   "outputs": [
    {
     "output_type": "stream",
     "name": "stdout",
     "text": "3\n"
    }
   ],
   "source": [
    "s1 = \"Ce texte contient deux fois le mot texte.\"\n",
    "print(s1.find('texte',0))"
   ]
  },
  {
   "cell_type": "code",
   "execution_count": 35,
   "metadata": {
    "tags": []
   },
   "outputs": [
    {
     "output_type": "stream",
     "name": "stdout",
     "text": "35\n"
    }
   ],
   "source": [
    "print(s1.find('texte',4))"
   ]
  },
  {
   "cell_type": "code",
   "execution_count": 36,
   "metadata": {
    "tags": []
   },
   "outputs": [
    {
     "output_type": "stream",
     "name": "stdout",
     "text": "-1\n"
    }
   ],
   "source": [
    "print(s1.find('texte',36))"
   ]
  },
  {
   "cell_type": "code",
   "execution_count": 39,
   "metadata": {
    "tags": []
   },
   "outputs": [
    {
     "output_type": "stream",
     "name": "stdout",
     "text": "3\n35\n-1\n"
    }
   ],
   "source": [
    "s1 = \"Ce texte contient deux fois le mot texte.\"\n",
    "max = 0 \n",
    "while max > -1:\n",
    "    max = s1.find('texte', max+1)\n",
    "    print(max)"
   ]
  },
  {
   "cell_type": "code",
   "execution_count": 50,
   "metadata": {
    "tags": []
   },
   "outputs": [
    {
     "output_type": "stream",
     "name": "stdout",
     "text": "Le prix est de $2.15 \n"
    }
   ],
   "source": [
    "s1 = \"Le prix est de deux euros.\"\n",
    "if \"euros\" in s1:\n",
    "    i =  s1.index(\"euros\")\n",
    "    s2 = s1[:i-5] + \"$\" + s1[i-5:i]\n",
    "    j = s2.find(\"deux\")\n",
    "    s3 = s2[:j] + \"2.15\" + s2[j+4:]\n",
    "    print(s3)\n",
    "\n",
    "    "
   ]
  },
  {
   "cell_type": "code",
   "execution_count": 49,
   "metadata": {
    "tags": []
   },
   "outputs": [
    {
     "output_type": "stream",
     "name": "stdout",
     "text": "Le prix est de \n20\nLe prix est de $deux \n16\nLe prix est de $2.15 \ndeux \n \n"
    }
   ],
   "source": [
    "s1 = \"Le prix est de deux euros.\"\n",
    "\n",
    "i =  s1.index(\"euros\")\n",
    "s2 = s1[:i-5] + \"$\" + s1[i-5:i]\n",
    "j = s2.find(\"deux\")\n",
    "s3 = s2[:j] + \"2.15\" + s2[j+4:]\n",
    "print(s1[:i-5])\n",
    "print(i)\n",
    "print(s2)\n",
    "print(j)\n",
    "print(s3)\n",
    "print(s1[i-5:i])\n",
    "print(s2[j+4:])"
   ]
  },
  {
   "cell_type": "code",
   "execution_count": 54,
   "metadata": {
    "tags": []
   },
   "outputs": [
    {
     "output_type": "stream",
     "name": "stdout",
     "text": "Le prix est de $2.15\n"
    }
   ],
   "source": [
    "s1 = \"Le prix est de deux euros\"\n",
    "s2 = s1.replace(\"deux euros\",\"$2.15\")\n",
    "print(s2)"
   ]
  },
  {
   "cell_type": "code",
   "execution_count": 55,
   "metadata": {
    "tags": []
   },
   "outputs": [
    {
     "output_type": "stream",
     "name": "stdout",
     "text": "nombre\nmot\n?\n"
    }
   ],
   "source": [
    "s = \"300 seulement  ?\"\n",
    "l = s.split()\n",
    "for mot in l:\n",
    "    if mot.isalpha():\n",
    "        print(\"mot\")\n",
    "    if mot.isnumeric():\n",
    "        print(\"nombre\")\n",
    "    if not mot.isalnum():\n",
    "        print(\"?\")"
   ]
  },
  {
   "cell_type": "code",
   "execution_count": 56,
   "metadata": {
    "tags": []
   },
   "outputs": [
    {
     "output_type": "stream",
     "name": "stdout",
     "text": "['Le', 'Argentine']\n['Argentine', 'baisse', 'depuis']\n"
    }
   ],
   "source": [
    "from re import findall\n",
    "s = \"Le PIB de l'Argentine baisse depuis 3 ans\"\n",
    "l1 = findall('[A-Z][a-z]+',s)\n",
    "l2 = findall('[a-zA-Z]*[iT][a-zA-Z]*',s)\n",
    "\n",
    "print(l1)\n",
    "print(l2)"
   ]
  },
  {
   "cell_type": "code",
   "execution_count": 60,
   "metadata": {
    "tags": []
   },
   "outputs": [
    {
     "output_type": "stream",
     "name": "stdout",
     "text": "['0678908976', '09.56.78.90.65', '03 06 86 96 96', '03.33 93 2090']\n"
    }
   ],
   "source": [
    "from re import findall\n",
    "motif = \"0[1-9](?:[\\s\\.]?[0-9]{2}){4}\"\n",
    "n1 = \"0678908976,\"\n",
    "n2 = \"09.56.78.90.65,\"\n",
    "n3 = \"03 06 86 96 96,\"\n",
    "n4 = \"06 74 74 74,\"\n",
    "n5 = \"03.33 93 2090,\"\n",
    "n6 = \"83-83-83-83-93,\"\n",
    "s = n1+n2+n3+n4+n5+n6\n",
    "print(findall(motif,s))"
   ]
  },
  {
   "cell_type": "code",
   "execution_count": 61,
   "metadata": {
    "tags": []
   },
   "outputs": [
    {
     "output_type": "stream",
     "name": "stdout",
     "text": "['0678908976', '09.56.78.90.65', '03 06 86 96 96', '06 74 74 7403']\n"
    }
   ],
   "source": [
    "from re import findall\n",
    "motif = \"0[1-9](?:[\\s\\.]?[0-9]{2}){4}\"\n",
    "n1 = \"0678908976\"\n",
    "n2 = \"09.56.78.90.65\"\n",
    "n3 = \"03 06 86 96 96\"\n",
    "n4 = \"06 74 74 74\"\n",
    "n5 = \"03.33 93 2090\"\n",
    "n6 = \"83-83-83-83-93\"\n",
    "s = n1+n2+n3+n4+n5+n6\n",
    "print(findall(motif,s))"
   ]
  },
  {
   "cell_type": "code",
   "execution_count": 68,
   "metadata": {
    "tags": []
   },
   "outputs": [
    {
     "output_type": "stream",
     "name": "stdout",
     "text": "Un texte HTMLavec des balises et même<script type =\"text/javascript\">var i = 5 ;</script> du javascript dedans.\n"
    }
   ],
   "source": [
    "from re import sub\n",
    "s = \"Un texte <strong>HTML<strong/>avec des balises\"\n",
    "s += ' et même<script type =\"text/javascript\">'\n",
    "s += \"var i = 5 ;</script> du javascript dedans.\"\n",
    "s1 = sub('<[a-z]*/?>',\"\",s)\n",
    "print(s1)"
   ]
  },
  {
   "cell_type": "code",
   "execution_count": 73,
   "metadata": {
    "tags": []
   },
   "outputs": [
    {
     "output_type": "stream",
     "name": "stdout",
     "text": "Un texte  du javascript dedans.\nUn texte HTML avec des balises et même var i = 5 ; du javascript dedans.\nUn texte HTML avec des balises et même var i = 5 ; du javascript dedans.\nUn texte HTML avec des balises et même var i = 5 ; du javascript dedans.\n"
    }
   ],
   "source": [
    "from re import sub\n",
    "s = \"Un texte <strong>HTML<strong/> avec des balises\"\n",
    "s += ' et même<script type =\"text/javascript\">'\n",
    "s += \" var i = 5 ;</script> du javascript dedans.\"\n",
    "s1 = sub('<.*>', '',s)\n",
    "s2 = sub('<[a-z\\\\/\"=\\s]*>','',s)\n",
    "s3 = sub('<[^>]*>', '',s)\n",
    "s4 = sub('<.*?>', '',s)\n",
    "print(s1)\n",
    "print(s2)\n",
    "print(s3)\n",
    "print(s4)"
   ]
  },
  {
   "cell_type": "code",
   "execution_count": null,
   "metadata": {},
   "outputs": [],
   "source": []
  }
 ]
}