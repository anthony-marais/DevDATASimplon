{
 "metadata": {
  "language_info": {
   "codemirror_mode": {
    "name": "ipython",
    "version": 3
   },
   "file_extension": ".py",
   "mimetype": "text/x-python",
   "name": "python",
   "nbconvert_exporter": "python",
   "pygments_lexer": "ipython3",
   "version": "3.8.3-final"
  },
  "orig_nbformat": 2,
  "kernelspec": {
   "name": "python3",
   "display_name": "Python 3"
  }
 },
 "nbformat": 4,
 "nbformat_minor": 2,
 "cells": [
  {
   "cell_type": "code",
   "execution_count": 3,
   "metadata": {},
   "outputs": [
    {
     "output_type": "execute_result",
     "data": {
      "text/plain": "             type  ...                                        description\nshow_id            ...                                                   \n81145628    Movie  ...  Before planning an awesome wedding for his gra...\n80117401    Movie  ...  Jandino Asporaat riffs on the challenges of ra...\n70234439  TV Show  ...  With the help of three human allies, the Autob...\n80058654  TV Show  ...  When a prison ship crash unleashes hundreds of...\n80125979    Movie  ...  When nerdy high schooler Dani finally attracts...\n\n[5 rows x 11 columns]",
      "text/html": "<div>\n<style scoped>\n    .dataframe tbody tr th:only-of-type {\n        vertical-align: middle;\n    }\n\n    .dataframe tbody tr th {\n        vertical-align: top;\n    }\n\n    .dataframe thead th {\n        text-align: right;\n    }\n</style>\n<table border=\"1\" class=\"dataframe\">\n  <thead>\n    <tr style=\"text-align: right;\">\n      <th></th>\n      <th>type</th>\n      <th>title</th>\n      <th>director</th>\n      <th>cast</th>\n      <th>country</th>\n      <th>date_added</th>\n      <th>release_year</th>\n      <th>rating</th>\n      <th>duration</th>\n      <th>listed_in</th>\n      <th>description</th>\n    </tr>\n    <tr>\n      <th>show_id</th>\n      <th></th>\n      <th></th>\n      <th></th>\n      <th></th>\n      <th></th>\n      <th></th>\n      <th></th>\n      <th></th>\n      <th></th>\n      <th></th>\n      <th></th>\n    </tr>\n  </thead>\n  <tbody>\n    <tr>\n      <th>81145628</th>\n      <td>Movie</td>\n      <td>Norm of the North: King Sized Adventure</td>\n      <td>Richard Finn, Tim Maltby</td>\n      <td>Alan Marriott, Andrew Toth, Brian Dobson, Cole...</td>\n      <td>United States, India, South Korea, China</td>\n      <td>September 9, 2019</td>\n      <td>2019</td>\n      <td>TV-PG</td>\n      <td>90 min</td>\n      <td>Children &amp; Family Movies, Comedies</td>\n      <td>Before planning an awesome wedding for his gra...</td>\n    </tr>\n    <tr>\n      <th>80117401</th>\n      <td>Movie</td>\n      <td>Jandino: Whatever it Takes</td>\n      <td>NaN</td>\n      <td>Jandino Asporaat</td>\n      <td>United Kingdom</td>\n      <td>September 9, 2016</td>\n      <td>2016</td>\n      <td>TV-MA</td>\n      <td>94 min</td>\n      <td>Stand-Up Comedy</td>\n      <td>Jandino Asporaat riffs on the challenges of ra...</td>\n    </tr>\n    <tr>\n      <th>70234439</th>\n      <td>TV Show</td>\n      <td>Transformers Prime</td>\n      <td>NaN</td>\n      <td>Peter Cullen, Sumalee Montano, Frank Welker, J...</td>\n      <td>United States</td>\n      <td>September 8, 2018</td>\n      <td>2013</td>\n      <td>TV-Y7-FV</td>\n      <td>1 Season</td>\n      <td>Kids' TV</td>\n      <td>With the help of three human allies, the Autob...</td>\n    </tr>\n    <tr>\n      <th>80058654</th>\n      <td>TV Show</td>\n      <td>Transformers: Robots in Disguise</td>\n      <td>NaN</td>\n      <td>Will Friedle, Darren Criss, Constance Zimmer, ...</td>\n      <td>United States</td>\n      <td>September 8, 2018</td>\n      <td>2016</td>\n      <td>TV-Y7</td>\n      <td>1 Season</td>\n      <td>Kids' TV</td>\n      <td>When a prison ship crash unleashes hundreds of...</td>\n    </tr>\n    <tr>\n      <th>80125979</th>\n      <td>Movie</td>\n      <td>#realityhigh</td>\n      <td>Fernando Lebrija</td>\n      <td>Nesta Cooper, Kate Walsh, John Michael Higgins...</td>\n      <td>United States</td>\n      <td>September 8, 2017</td>\n      <td>2017</td>\n      <td>TV-14</td>\n      <td>99 min</td>\n      <td>Comedies</td>\n      <td>When nerdy high schooler Dani finally attracts...</td>\n    </tr>\n  </tbody>\n</table>\n</div>"
     },
     "metadata": {},
     "execution_count": 3
    }
   ],
   "source": [
    "# Import de la librairie pandas avec l'allias pd\n",
    "\n",
    "import pandas as pd\n",
    "\n",
    "# 1. Lire le fichier\n",
    "# importation des données du fichier csv\n",
    "\n",
    "data = pd.read_csv(\"//home//virus//Documents//dataviz netflix//netflix_titles.csv\",index_col=0)\n",
    "\n",
    "data.head()"
   ]
  },
  {
   "cell_type": "code",
   "execution_count": 9,
   "metadata": {
    "tags": []
   },
   "outputs": [
    {
     "output_type": "stream",
     "name": "stdout",
     "text": "6234\n11\n"
    }
   ],
   "source": [
    "# 2. Afficher les dimensions du dataframe\n",
    "data.shape\n",
    "print(data.shape[0]) # lignes\n",
    "print(data.shape[1]) # colonne"
   ]
  },
  {
   "cell_type": "code",
   "execution_count": 7,
   "metadata": {},
   "outputs": [
    {
     "output_type": "execute_result",
     "data": {
      "text/plain": "             type  ...                                        description\nshow_id            ...                                                   \n81145628    Movie  ...  Before planning an awesome wedding for his gra...\n80117401    Movie  ...  Jandino Asporaat riffs on the challenges of ra...\n70234439  TV Show  ...  With the help of three human allies, the Autob...\n80058654  TV Show  ...  When a prison ship crash unleashes hundreds of...\n80125979    Movie  ...  When nerdy high schooler Dani finally attracts...\n...           ...  ...                                                ...\n80000063  TV Show  ...  This parody of first-person shooter games, mil...\n70286564  TV Show  ...  Marc Maron stars as Marc Maron, who interviews...\n80116008    Movie  ...  Nursery rhymes and original music for children...\n70281022  TV Show  ...  Set during the Russian Revolution, this comic ...\n70153404  TV Show  ...  This hit sitcom follows the merry misadventure...\n\n[6234 rows x 11 columns]",
      "text/html": "<div>\n<style scoped>\n    .dataframe tbody tr th:only-of-type {\n        vertical-align: middle;\n    }\n\n    .dataframe tbody tr th {\n        vertical-align: top;\n    }\n\n    .dataframe thead th {\n        text-align: right;\n    }\n</style>\n<table border=\"1\" class=\"dataframe\">\n  <thead>\n    <tr style=\"text-align: right;\">\n      <th></th>\n      <th>type</th>\n      <th>title</th>\n      <th>director</th>\n      <th>cast</th>\n      <th>country</th>\n      <th>date_added</th>\n      <th>release_year</th>\n      <th>rating</th>\n      <th>duration</th>\n      <th>listed_in</th>\n      <th>description</th>\n    </tr>\n    <tr>\n      <th>show_id</th>\n      <th></th>\n      <th></th>\n      <th></th>\n      <th></th>\n      <th></th>\n      <th></th>\n      <th></th>\n      <th></th>\n      <th></th>\n      <th></th>\n      <th></th>\n    </tr>\n  </thead>\n  <tbody>\n    <tr>\n      <th>81145628</th>\n      <td>Movie</td>\n      <td>Norm of the North: King Sized Adventure</td>\n      <td>Richard Finn, Tim Maltby</td>\n      <td>Alan Marriott, Andrew Toth, Brian Dobson, Cole...</td>\n      <td>United States, India, South Korea, China</td>\n      <td>September 9, 2019</td>\n      <td>2019</td>\n      <td>TV-PG</td>\n      <td>90 min</td>\n      <td>Children &amp; Family Movies, Comedies</td>\n      <td>Before planning an awesome wedding for his gra...</td>\n    </tr>\n    <tr>\n      <th>80117401</th>\n      <td>Movie</td>\n      <td>Jandino: Whatever it Takes</td>\n      <td>NaN</td>\n      <td>Jandino Asporaat</td>\n      <td>United Kingdom</td>\n      <td>September 9, 2016</td>\n      <td>2016</td>\n      <td>TV-MA</td>\n      <td>94 min</td>\n      <td>Stand-Up Comedy</td>\n      <td>Jandino Asporaat riffs on the challenges of ra...</td>\n    </tr>\n    <tr>\n      <th>70234439</th>\n      <td>TV Show</td>\n      <td>Transformers Prime</td>\n      <td>NaN</td>\n      <td>Peter Cullen, Sumalee Montano, Frank Welker, J...</td>\n      <td>United States</td>\n      <td>September 8, 2018</td>\n      <td>2013</td>\n      <td>TV-Y7-FV</td>\n      <td>1 Season</td>\n      <td>Kids' TV</td>\n      <td>With the help of three human allies, the Autob...</td>\n    </tr>\n    <tr>\n      <th>80058654</th>\n      <td>TV Show</td>\n      <td>Transformers: Robots in Disguise</td>\n      <td>NaN</td>\n      <td>Will Friedle, Darren Criss, Constance Zimmer, ...</td>\n      <td>United States</td>\n      <td>September 8, 2018</td>\n      <td>2016</td>\n      <td>TV-Y7</td>\n      <td>1 Season</td>\n      <td>Kids' TV</td>\n      <td>When a prison ship crash unleashes hundreds of...</td>\n    </tr>\n    <tr>\n      <th>80125979</th>\n      <td>Movie</td>\n      <td>#realityhigh</td>\n      <td>Fernando Lebrija</td>\n      <td>Nesta Cooper, Kate Walsh, John Michael Higgins...</td>\n      <td>United States</td>\n      <td>September 8, 2017</td>\n      <td>2017</td>\n      <td>TV-14</td>\n      <td>99 min</td>\n      <td>Comedies</td>\n      <td>When nerdy high schooler Dani finally attracts...</td>\n    </tr>\n    <tr>\n      <th>...</th>\n      <td>...</td>\n      <td>...</td>\n      <td>...</td>\n      <td>...</td>\n      <td>...</td>\n      <td>...</td>\n      <td>...</td>\n      <td>...</td>\n      <td>...</td>\n      <td>...</td>\n      <td>...</td>\n    </tr>\n    <tr>\n      <th>80000063</th>\n      <td>TV Show</td>\n      <td>Red vs. Blue</td>\n      <td>NaN</td>\n      <td>Burnie Burns, Jason Saldaña, Gustavo Sorola, G...</td>\n      <td>United States</td>\n      <td>NaN</td>\n      <td>2015</td>\n      <td>NR</td>\n      <td>13 Seasons</td>\n      <td>TV Action &amp; Adventure, TV Comedies, TV Sci-Fi ...</td>\n      <td>This parody of first-person shooter games, mil...</td>\n    </tr>\n    <tr>\n      <th>70286564</th>\n      <td>TV Show</td>\n      <td>Maron</td>\n      <td>NaN</td>\n      <td>Marc Maron, Judd Hirsch, Josh Brener, Nora Zeh...</td>\n      <td>United States</td>\n      <td>NaN</td>\n      <td>2016</td>\n      <td>TV-MA</td>\n      <td>4 Seasons</td>\n      <td>TV Comedies</td>\n      <td>Marc Maron stars as Marc Maron, who interviews...</td>\n    </tr>\n    <tr>\n      <th>80116008</th>\n      <td>Movie</td>\n      <td>Little Baby Bum: Nursery Rhyme Friends</td>\n      <td>NaN</td>\n      <td>NaN</td>\n      <td>NaN</td>\n      <td>NaN</td>\n      <td>2016</td>\n      <td>NaN</td>\n      <td>60 min</td>\n      <td>Movies</td>\n      <td>Nursery rhymes and original music for children...</td>\n    </tr>\n    <tr>\n      <th>70281022</th>\n      <td>TV Show</td>\n      <td>A Young Doctor's Notebook and Other Stories</td>\n      <td>NaN</td>\n      <td>Daniel Radcliffe, Jon Hamm, Adam Godley, Chris...</td>\n      <td>United Kingdom</td>\n      <td>NaN</td>\n      <td>2013</td>\n      <td>TV-MA</td>\n      <td>2 Seasons</td>\n      <td>British TV Shows, TV Comedies, TV Dramas</td>\n      <td>Set during the Russian Revolution, this comic ...</td>\n    </tr>\n    <tr>\n      <th>70153404</th>\n      <td>TV Show</td>\n      <td>Friends</td>\n      <td>NaN</td>\n      <td>Jennifer Aniston, Courteney Cox, Lisa Kudrow, ...</td>\n      <td>United States</td>\n      <td>NaN</td>\n      <td>2003</td>\n      <td>TV-14</td>\n      <td>10 Seasons</td>\n      <td>Classic &amp; Cult TV, TV Comedies</td>\n      <td>This hit sitcom follows the merry misadventure...</td>\n    </tr>\n  </tbody>\n</table>\n<p>6234 rows × 11 columns</p>\n</div>"
     },
     "metadata": {},
     "execution_count": 7
    }
   ],
   "source": [
    "data"
   ]
  },
  {
   "cell_type": "code",
   "execution_count": 72,
   "metadata": {
    "tags": []
   },
   "outputs": [
    {
     "output_type": "execute_result",
     "data": {
      "text/plain": "           type  ...                                        description\nshow_id          ...                                                   \n81145628  Movie  ...  Before planning an awesome wedding for his gra...\n80117401  Movie  ...  Jandino Asporaat riffs on the challenges of ra...\n80125979  Movie  ...  When nerdy high schooler Dani finally attracts...\n70304989  Movie  ...  In a dystopian future, an insurance adjuster f...\n80164077  Movie  ...  Fabrizio Copano takes audience participation t...\n...         ...  ...                                                ...\n80085438  Movie  ...  Frank was a rising pop star when he married Ci...\n80085439  Movie  ...  A student filmmaker vengefully turns his camer...\n80011846  Movie  ...  This unfiltered documentary follows the rocky ...\n80064521  Movie  ...  The journey of fashion designer Jeremy Scott f...\n80116008  Movie  ...  Nursery rhymes and original music for children...\n\n[4265 rows x 11 columns]",
      "text/html": "<div>\n<style scoped>\n    .dataframe tbody tr th:only-of-type {\n        vertical-align: middle;\n    }\n\n    .dataframe tbody tr th {\n        vertical-align: top;\n    }\n\n    .dataframe thead th {\n        text-align: right;\n    }\n</style>\n<table border=\"1\" class=\"dataframe\">\n  <thead>\n    <tr style=\"text-align: right;\">\n      <th></th>\n      <th>type</th>\n      <th>title</th>\n      <th>director</th>\n      <th>cast</th>\n      <th>country</th>\n      <th>date_added</th>\n      <th>release_year</th>\n      <th>rating</th>\n      <th>duration</th>\n      <th>listed_in</th>\n      <th>description</th>\n    </tr>\n    <tr>\n      <th>show_id</th>\n      <th></th>\n      <th></th>\n      <th></th>\n      <th></th>\n      <th></th>\n      <th></th>\n      <th></th>\n      <th></th>\n      <th></th>\n      <th></th>\n      <th></th>\n    </tr>\n  </thead>\n  <tbody>\n    <tr>\n      <th>81145628</th>\n      <td>Movie</td>\n      <td>Norm of the North: King Sized Adventure</td>\n      <td>Richard Finn, Tim Maltby</td>\n      <td>Alan Marriott, Andrew Toth, Brian Dobson, Cole...</td>\n      <td>United States, India, South Korea, China</td>\n      <td>September 9, 2019</td>\n      <td>2019</td>\n      <td>TV-PG</td>\n      <td>90 min</td>\n      <td>Children &amp; Family Movies, Comedies</td>\n      <td>Before planning an awesome wedding for his gra...</td>\n    </tr>\n    <tr>\n      <th>80117401</th>\n      <td>Movie</td>\n      <td>Jandino: Whatever it Takes</td>\n      <td>NaN</td>\n      <td>Jandino Asporaat</td>\n      <td>United Kingdom</td>\n      <td>September 9, 2016</td>\n      <td>2016</td>\n      <td>TV-MA</td>\n      <td>94 min</td>\n      <td>Stand-Up Comedy</td>\n      <td>Jandino Asporaat riffs on the challenges of ra...</td>\n    </tr>\n    <tr>\n      <th>80125979</th>\n      <td>Movie</td>\n      <td>#realityhigh</td>\n      <td>Fernando Lebrija</td>\n      <td>Nesta Cooper, Kate Walsh, John Michael Higgins...</td>\n      <td>United States</td>\n      <td>September 8, 2017</td>\n      <td>2017</td>\n      <td>TV-14</td>\n      <td>99 min</td>\n      <td>Comedies</td>\n      <td>When nerdy high schooler Dani finally attracts...</td>\n    </tr>\n    <tr>\n      <th>70304989</th>\n      <td>Movie</td>\n      <td>Automata</td>\n      <td>Gabe Ibáñez</td>\n      <td>Antonio Banderas, Dylan McDermott, Melanie Gri...</td>\n      <td>Bulgaria, United States, Spain, Canada</td>\n      <td>September 8, 2017</td>\n      <td>2014</td>\n      <td>R</td>\n      <td>110 min</td>\n      <td>International Movies, Sci-Fi &amp; Fantasy, Thrillers</td>\n      <td>In a dystopian future, an insurance adjuster f...</td>\n    </tr>\n    <tr>\n      <th>80164077</th>\n      <td>Movie</td>\n      <td>Fabrizio Copano: Solo pienso en mi</td>\n      <td>Rodrigo Toro, Francisco Schultz</td>\n      <td>Fabrizio Copano</td>\n      <td>Chile</td>\n      <td>September 8, 2017</td>\n      <td>2017</td>\n      <td>TV-MA</td>\n      <td>60 min</td>\n      <td>Stand-Up Comedy</td>\n      <td>Fabrizio Copano takes audience participation t...</td>\n    </tr>\n    <tr>\n      <th>...</th>\n      <td>...</td>\n      <td>...</td>\n      <td>...</td>\n      <td>...</td>\n      <td>...</td>\n      <td>...</td>\n      <td>...</td>\n      <td>...</td>\n      <td>...</td>\n      <td>...</td>\n      <td>...</td>\n    </tr>\n    <tr>\n      <th>80085438</th>\n      <td>Movie</td>\n      <td>Frank and Cindy</td>\n      <td>G.J. Echternkamp</td>\n      <td>NaN</td>\n      <td>United States</td>\n      <td>April 1, 2016</td>\n      <td>2007</td>\n      <td>TV-MA</td>\n      <td>70 min</td>\n      <td>Documentaries</td>\n      <td>Frank was a rising pop star when he married Ci...</td>\n    </tr>\n    <tr>\n      <th>80085439</th>\n      <td>Movie</td>\n      <td>Frank and Cindy</td>\n      <td>G.J. Echternkamp</td>\n      <td>Rene Russo, Oliver Platt, Johnny Simmons, Jane...</td>\n      <td>United States</td>\n      <td>April 1, 2016</td>\n      <td>2015</td>\n      <td>R</td>\n      <td>102 min</td>\n      <td>Comedies, Dramas, Independent Movies</td>\n      <td>A student filmmaker vengefully turns his camer...</td>\n    </tr>\n    <tr>\n      <th>80011846</th>\n      <td>Movie</td>\n      <td>Iverson</td>\n      <td>Zatella Beatty</td>\n      <td>Allen Iverson</td>\n      <td>United States</td>\n      <td>April 1, 2016</td>\n      <td>2014</td>\n      <td>NR</td>\n      <td>88 min</td>\n      <td>Documentaries, Sports Movies</td>\n      <td>This unfiltered documentary follows the rocky ...</td>\n    </tr>\n    <tr>\n      <th>80064521</th>\n      <td>Movie</td>\n      <td>Jeremy Scott: The People's Designer</td>\n      <td>Vlad Yudin</td>\n      <td>Jeremy Scott</td>\n      <td>United States</td>\n      <td>April 1, 2016</td>\n      <td>2015</td>\n      <td>PG-13</td>\n      <td>109 min</td>\n      <td>Documentaries</td>\n      <td>The journey of fashion designer Jeremy Scott f...</td>\n    </tr>\n    <tr>\n      <th>80116008</th>\n      <td>Movie</td>\n      <td>Little Baby Bum: Nursery Rhyme Friends</td>\n      <td>NaN</td>\n      <td>NaN</td>\n      <td>NaN</td>\n      <td>NaN</td>\n      <td>2016</td>\n      <td>NaN</td>\n      <td>60 min</td>\n      <td>Movies</td>\n      <td>Nursery rhymes and original music for children...</td>\n    </tr>\n  </tbody>\n</table>\n<p>4265 rows × 11 columns</p>\n</div>"
     },
     "metadata": {},
     "execution_count": 72
    }
   ],
   "source": [
    "# 3. Compter les films et les série\n",
    ")\n",
    "data_movie= pd.DataFrame(data.loc[data['type']==\"Movie\"]\n",
    "data_movie\n"
   ]
  },
  {
   "cell_type": "code",
   "execution_count": 173,
   "metadata": {
    "tags": []
   },
   "outputs": [
    {
     "output_type": "execute_result",
     "data": {
      "text/plain": "Movie    4265\nName: type, dtype: int64"
     },
     "metadata": {},
     "execution_count": 173
    }
   ],
   "source": [
    "data_movie['type'].value_counts()"
   ]
  },
  {
   "cell_type": "code",
   "execution_count": 55,
   "metadata": {},
   "outputs": [
    {
     "output_type": "execute_result",
     "data": {
      "text/plain": "             type  ...                                        description\nshow_id            ...                                                   \n70234439  TV Show  ...  With the help of three human allies, the Autob...\n80058654  TV Show  ...  When a prison ship crash unleashes hundreds of...\n80163890  TV Show  ...  A young journalist is forced into a life of cr...\n80117902  TV Show  ...  As California's 2016 fire season rages, brave ...\n80244601  TV Show  ...  As four couples with different lifestyles go t...\n...           ...  ...                                                ...\n80159925  TV Show  ...  A wacky rabbit and his gang of animal pals hav...\n80000063  TV Show  ...  This parody of first-person shooter games, mil...\n70286564  TV Show  ...  Marc Maron stars as Marc Maron, who interviews...\n70281022  TV Show  ...  Set during the Russian Revolution, this comic ...\n70153404  TV Show  ...  This hit sitcom follows the merry misadventure...\n\n[1969 rows x 11 columns]",
      "text/html": "<div>\n<style scoped>\n    .dataframe tbody tr th:only-of-type {\n        vertical-align: middle;\n    }\n\n    .dataframe tbody tr th {\n        vertical-align: top;\n    }\n\n    .dataframe thead th {\n        text-align: right;\n    }\n</style>\n<table border=\"1\" class=\"dataframe\">\n  <thead>\n    <tr style=\"text-align: right;\">\n      <th></th>\n      <th>type</th>\n      <th>title</th>\n      <th>director</th>\n      <th>cast</th>\n      <th>country</th>\n      <th>date_added</th>\n      <th>release_year</th>\n      <th>rating</th>\n      <th>duration</th>\n      <th>listed_in</th>\n      <th>description</th>\n    </tr>\n    <tr>\n      <th>show_id</th>\n      <th></th>\n      <th></th>\n      <th></th>\n      <th></th>\n      <th></th>\n      <th></th>\n      <th></th>\n      <th></th>\n      <th></th>\n      <th></th>\n      <th></th>\n    </tr>\n  </thead>\n  <tbody>\n    <tr>\n      <th>70234439</th>\n      <td>TV Show</td>\n      <td>Transformers Prime</td>\n      <td>NaN</td>\n      <td>Peter Cullen, Sumalee Montano, Frank Welker, J...</td>\n      <td>United States</td>\n      <td>September 8, 2018</td>\n      <td>2013</td>\n      <td>TV-Y7-FV</td>\n      <td>1 Season</td>\n      <td>Kids' TV</td>\n      <td>With the help of three human allies, the Autob...</td>\n    </tr>\n    <tr>\n      <th>80058654</th>\n      <td>TV Show</td>\n      <td>Transformers: Robots in Disguise</td>\n      <td>NaN</td>\n      <td>Will Friedle, Darren Criss, Constance Zimmer, ...</td>\n      <td>United States</td>\n      <td>September 8, 2018</td>\n      <td>2016</td>\n      <td>TV-Y7</td>\n      <td>1 Season</td>\n      <td>Kids' TV</td>\n      <td>When a prison ship crash unleashes hundreds of...</td>\n    </tr>\n    <tr>\n      <th>80163890</th>\n      <td>TV Show</td>\n      <td>Apaches</td>\n      <td>NaN</td>\n      <td>Alberto Ammann, Eloy Azorín, Verónica Echegui,...</td>\n      <td>Spain</td>\n      <td>September 8, 2017</td>\n      <td>2016</td>\n      <td>TV-MA</td>\n      <td>1 Season</td>\n      <td>Crime TV Shows, International TV Shows, Spanis...</td>\n      <td>A young journalist is forced into a life of cr...</td>\n    </tr>\n    <tr>\n      <th>80117902</th>\n      <td>TV Show</td>\n      <td>Fire Chasers</td>\n      <td>NaN</td>\n      <td>NaN</td>\n      <td>United States</td>\n      <td>September 8, 2017</td>\n      <td>2017</td>\n      <td>TV-MA</td>\n      <td>1 Season</td>\n      <td>Docuseries, Science &amp; Nature TV</td>\n      <td>As California's 2016 fire season rages, brave ...</td>\n    </tr>\n    <tr>\n      <th>80244601</th>\n      <td>TV Show</td>\n      <td>Castle of Stars</td>\n      <td>NaN</td>\n      <td>Chaiyapol Pupart, Jintanutda Lummakanon, Worra...</td>\n      <td>NaN</td>\n      <td>September 7, 2018</td>\n      <td>2015</td>\n      <td>TV-14</td>\n      <td>1 Season</td>\n      <td>International TV Shows, Romantic TV Shows, TV ...</td>\n      <td>As four couples with different lifestyles go t...</td>\n    </tr>\n    <tr>\n      <th>...</th>\n      <td>...</td>\n      <td>...</td>\n      <td>...</td>\n      <td>...</td>\n      <td>...</td>\n      <td>...</td>\n      <td>...</td>\n      <td>...</td>\n      <td>...</td>\n      <td>...</td>\n      <td>...</td>\n    </tr>\n    <tr>\n      <th>80159925</th>\n      <td>TV Show</td>\n      <td>Kikoriki</td>\n      <td>NaN</td>\n      <td>Igor Dmitriev</td>\n      <td>NaN</td>\n      <td>NaN</td>\n      <td>2010</td>\n      <td>TV-Y</td>\n      <td>2 Seasons</td>\n      <td>Kids' TV</td>\n      <td>A wacky rabbit and his gang of animal pals hav...</td>\n    </tr>\n    <tr>\n      <th>80000063</th>\n      <td>TV Show</td>\n      <td>Red vs. Blue</td>\n      <td>NaN</td>\n      <td>Burnie Burns, Jason Saldaña, Gustavo Sorola, G...</td>\n      <td>United States</td>\n      <td>NaN</td>\n      <td>2015</td>\n      <td>NR</td>\n      <td>13 Seasons</td>\n      <td>TV Action &amp; Adventure, TV Comedies, TV Sci-Fi ...</td>\n      <td>This parody of first-person shooter games, mil...</td>\n    </tr>\n    <tr>\n      <th>70286564</th>\n      <td>TV Show</td>\n      <td>Maron</td>\n      <td>NaN</td>\n      <td>Marc Maron, Judd Hirsch, Josh Brener, Nora Zeh...</td>\n      <td>United States</td>\n      <td>NaN</td>\n      <td>2016</td>\n      <td>TV-MA</td>\n      <td>4 Seasons</td>\n      <td>TV Comedies</td>\n      <td>Marc Maron stars as Marc Maron, who interviews...</td>\n    </tr>\n    <tr>\n      <th>70281022</th>\n      <td>TV Show</td>\n      <td>A Young Doctor's Notebook and Other Stories</td>\n      <td>NaN</td>\n      <td>Daniel Radcliffe, Jon Hamm, Adam Godley, Chris...</td>\n      <td>United Kingdom</td>\n      <td>NaN</td>\n      <td>2013</td>\n      <td>TV-MA</td>\n      <td>2 Seasons</td>\n      <td>British TV Shows, TV Comedies, TV Dramas</td>\n      <td>Set during the Russian Revolution, this comic ...</td>\n    </tr>\n    <tr>\n      <th>70153404</th>\n      <td>TV Show</td>\n      <td>Friends</td>\n      <td>NaN</td>\n      <td>Jennifer Aniston, Courteney Cox, Lisa Kudrow, ...</td>\n      <td>United States</td>\n      <td>NaN</td>\n      <td>2003</td>\n      <td>TV-14</td>\n      <td>10 Seasons</td>\n      <td>Classic &amp; Cult TV, TV Comedies</td>\n      <td>This hit sitcom follows the merry misadventure...</td>\n    </tr>\n  </tbody>\n</table>\n<p>1969 rows × 11 columns</p>\n</div>"
     },
     "metadata": {},
     "execution_count": 55
    }
   ],
   "source": [
    "data_serie = pd.DataFrame(data.loc[data['type']==\"TV Show\"])\n",
    "data_serie"
   ]
  },
  {
   "cell_type": "code",
   "execution_count": 174,
   "metadata": {},
   "outputs": [
    {
     "output_type": "execute_result",
     "data": {
      "text/plain": "TV Show    1969\nName: type, dtype: int64"
     },
     "metadata": {},
     "execution_count": 174
    }
   ],
   "source": [
    "data_serie['type'].value_counts()"
   ]
  },
  {
   "cell_type": "code",
   "execution_count": 56,
   "metadata": {},
   "outputs": [
    {
     "output_type": "execute_result",
     "data": {
      "text/plain": "Movie      4265\nTV Show    1969\nName: type, dtype: int64"
     },
     "metadata": {},
     "execution_count": 56
    }
   ],
   "source": [
    "data.type.value_counts()"
   ]
  },
  {
   "cell_type": "code",
   "execution_count": 172,
   "metadata": {},
   "outputs": [
    {
     "output_type": "execute_result",
     "data": {
      "text/plain": "Movie      4265\nTV Show    1969\nName: type, dtype: int64"
     },
     "metadata": {},
     "execution_count": 172
    }
   ],
   "source": [
    "data_serie_movie = data.loc[(data['type']==\"TV Show\") | (data['type']==\"Movie\")]\n",
    "data_serie_movie.type.value_counts()"
   ]
  },
  {
   "cell_type": "code",
   "execution_count": 60,
   "metadata": {},
   "outputs": [
    {
     "output_type": "execute_result",
     "data": {
      "text/plain": "         type  ...                                        description\ncount    6234  ...                                               6234\nunique      2  ...                                               6226\ntop     Movie  ...  A surly septuagenarian gets another chance at ...\nfreq     4265  ...                                                  3\nmean      NaN  ...                                                NaN\nstd       NaN  ...                                                NaN\nmin       NaN  ...                                                NaN\n25%       NaN  ...                                                NaN\n50%       NaN  ...                                                NaN\n75%       NaN  ...                                                NaN\nmax       NaN  ...                                                NaN\n\n[11 rows x 11 columns]",
      "text/html": "<div>\n<style scoped>\n    .dataframe tbody tr th:only-of-type {\n        vertical-align: middle;\n    }\n\n    .dataframe tbody tr th {\n        vertical-align: top;\n    }\n\n    .dataframe thead th {\n        text-align: right;\n    }\n</style>\n<table border=\"1\" class=\"dataframe\">\n  <thead>\n    <tr style=\"text-align: right;\">\n      <th></th>\n      <th>type</th>\n      <th>title</th>\n      <th>director</th>\n      <th>cast</th>\n      <th>country</th>\n      <th>date_added</th>\n      <th>release_year</th>\n      <th>rating</th>\n      <th>duration</th>\n      <th>listed_in</th>\n      <th>description</th>\n    </tr>\n  </thead>\n  <tbody>\n    <tr>\n      <th>count</th>\n      <td>6234</td>\n      <td>6234</td>\n      <td>4265</td>\n      <td>5664</td>\n      <td>5758</td>\n      <td>6223</td>\n      <td>6234.00000</td>\n      <td>6224</td>\n      <td>6234</td>\n      <td>6234</td>\n      <td>6234</td>\n    </tr>\n    <tr>\n      <th>unique</th>\n      <td>2</td>\n      <td>6172</td>\n      <td>3301</td>\n      <td>5469</td>\n      <td>554</td>\n      <td>1524</td>\n      <td>NaN</td>\n      <td>14</td>\n      <td>201</td>\n      <td>461</td>\n      <td>6226</td>\n    </tr>\n    <tr>\n      <th>top</th>\n      <td>Movie</td>\n      <td>Love</td>\n      <td>Raúl Campos, Jan Suter</td>\n      <td>David Attenborough</td>\n      <td>United States</td>\n      <td>January 1, 2020</td>\n      <td>NaN</td>\n      <td>TV-MA</td>\n      <td>1 Season</td>\n      <td>Documentaries</td>\n      <td>A surly septuagenarian gets another chance at ...</td>\n    </tr>\n    <tr>\n      <th>freq</th>\n      <td>4265</td>\n      <td>3</td>\n      <td>18</td>\n      <td>18</td>\n      <td>2032</td>\n      <td>122</td>\n      <td>NaN</td>\n      <td>2027</td>\n      <td>1321</td>\n      <td>299</td>\n      <td>3</td>\n    </tr>\n    <tr>\n      <th>mean</th>\n      <td>NaN</td>\n      <td>NaN</td>\n      <td>NaN</td>\n      <td>NaN</td>\n      <td>NaN</td>\n      <td>NaN</td>\n      <td>2013.35932</td>\n      <td>NaN</td>\n      <td>NaN</td>\n      <td>NaN</td>\n      <td>NaN</td>\n    </tr>\n    <tr>\n      <th>std</th>\n      <td>NaN</td>\n      <td>NaN</td>\n      <td>NaN</td>\n      <td>NaN</td>\n      <td>NaN</td>\n      <td>NaN</td>\n      <td>8.81162</td>\n      <td>NaN</td>\n      <td>NaN</td>\n      <td>NaN</td>\n      <td>NaN</td>\n    </tr>\n    <tr>\n      <th>min</th>\n      <td>NaN</td>\n      <td>NaN</td>\n      <td>NaN</td>\n      <td>NaN</td>\n      <td>NaN</td>\n      <td>NaN</td>\n      <td>1925.00000</td>\n      <td>NaN</td>\n      <td>NaN</td>\n      <td>NaN</td>\n      <td>NaN</td>\n    </tr>\n    <tr>\n      <th>25%</th>\n      <td>NaN</td>\n      <td>NaN</td>\n      <td>NaN</td>\n      <td>NaN</td>\n      <td>NaN</td>\n      <td>NaN</td>\n      <td>2013.00000</td>\n      <td>NaN</td>\n      <td>NaN</td>\n      <td>NaN</td>\n      <td>NaN</td>\n    </tr>\n    <tr>\n      <th>50%</th>\n      <td>NaN</td>\n      <td>NaN</td>\n      <td>NaN</td>\n      <td>NaN</td>\n      <td>NaN</td>\n      <td>NaN</td>\n      <td>2016.00000</td>\n      <td>NaN</td>\n      <td>NaN</td>\n      <td>NaN</td>\n      <td>NaN</td>\n    </tr>\n    <tr>\n      <th>75%</th>\n      <td>NaN</td>\n      <td>NaN</td>\n      <td>NaN</td>\n      <td>NaN</td>\n      <td>NaN</td>\n      <td>NaN</td>\n      <td>2018.00000</td>\n      <td>NaN</td>\n      <td>NaN</td>\n      <td>NaN</td>\n      <td>NaN</td>\n    </tr>\n    <tr>\n      <th>max</th>\n      <td>NaN</td>\n      <td>NaN</td>\n      <td>NaN</td>\n      <td>NaN</td>\n      <td>NaN</td>\n      <td>NaN</td>\n      <td>2020.00000</td>\n      <td>NaN</td>\n      <td>NaN</td>\n      <td>NaN</td>\n      <td>NaN</td>\n    </tr>\n  </tbody>\n</table>\n</div>"
     },
     "metadata": {},
     "execution_count": 60
    }
   ],
   "source": [
    "# 4. Générer le résumé statistique du dataframe\n",
    "\n",
    "data.describe(include='all')"
   ]
  },
  {
   "cell_type": "code",
   "execution_count": 82,
   "metadata": {},
   "outputs": [
    {
     "output_type": "execute_result",
     "data": {
      "text/plain": "type               0\ntitle              0\ndirector        1969\ncast             570\ncountry          476\ndate_added        11\nrelease_year       0\nrating            10\nduration           0\nlisted_in          0\ndescription        0\ndtype: int64"
     },
     "metadata": {},
     "execution_count": 82
    }
   ],
   "source": [
    "# 5. Compter les valeurs manquant\n",
    "\n",
    "data_sum = (data.isna()).sum()\n",
    "data_sum"
   ]
  },
  {
   "cell_type": "code",
   "execution_count": 100,
   "metadata": {},
   "outputs": [
    {
     "output_type": "execute_result",
     "data": {
      "text/plain": "TV Show    1841\nMovie       128\nName: type, dtype: int64"
     },
     "metadata": {},
     "execution_count": 100
    }
   ],
   "source": [
    "# 6. Explorer les valeurs manquante\n",
    "\n",
    "# a. Sur la colonne des directeurs de production\n",
    "\n",
    "data.loc[data['director'].isna(),:].type.value_counts()\n",
    "\n",
    "\n"
   ]
  },
  {
   "cell_type": "code",
   "execution_count": 123,
   "metadata": {},
   "outputs": [
    {
     "output_type": "execute_result",
     "data": {
      "text/plain": "Documentaries                                            148\nDocumentaries, International Movies                       94\nDocuseries                                                31\nDocumentaries, Sports Movies                              20\nCrime TV Shows, Docuseries                                19\nDocumentaries, Music & Musicals                           15\nKids' TV                                                  14\nDocuseries, International TV Shows                        14\nDocumentaries, International Movies, Sports Movies        14\nReality TV                                                12\nCrime TV Shows, Docuseries, International TV Shows        12\nDocumentaries, International Movies, Music & Musicals     11\nBritish TV Shows, International TV Shows, Reality TV       9\nKids' TV, TV Comedies                                      8\nChildren & Family Movies                                   8\nDocuseries, Science & Nature TV                            7\nDocuseries, Reality TV                                     7\nBritish TV Shows, Docuseries, International TV Shows       6\nBritish TV Shows, Docuseries, Science & Nature TV          6\nClassic Movies, Documentaries                              6\nName: listed_in, dtype: int64"
     },
     "metadata": {},
     "execution_count": 123
    }
   ],
   "source": [
    "# b. Sur la colonne des acteurs\n",
    "data.loc[data['cast'].isna()].listed_in.value_counts().head(n=20)"
   ]
  },
  {
   "cell_type": "code",
   "execution_count": 128,
   "metadata": {},
   "outputs": [
    {
     "output_type": "execute_result",
     "data": {
      "text/plain": "False    6233\nTrue        1\ndtype: int64"
     },
     "metadata": {},
     "execution_count": 128
    }
   ],
   "source": [
    "# 7. Supprimer les lignes dupliquées\n",
    "\n",
    "data.duplicated().value_counts()"
   ]
  },
  {
   "cell_type": "code",
   "execution_count": 137,
   "metadata": {},
   "outputs": [
    {
     "output_type": "execute_result",
     "data": {
      "text/plain": "False    6233\ndtype: int64"
     },
     "metadata": {},
     "execution_count": 137
    }
   ],
   "source": [
    "data_drop = data.drop_duplicates()\n",
    "data_drop.duplicated().value_counts()"
   ]
  },
  {
   "cell_type": "code",
   "execution_count": 169,
   "metadata": {},
   "outputs": [
    {
     "output_type": "execute_result",
     "data": {
      "text/plain": "United States    2032\nFrance             90\nName: country, dtype: int64"
     },
     "metadata": {},
     "execution_count": 169
    }
   ],
   "source": [
    "# 8. Compter les films/séries produits par les États-Unis et par la France\n",
    "\n",
    "data_count_US_FR = data.loc[(data['country']==\"United States\") | (data['country' ==\"France\")]\n",
    "data_count_US_FR['country'].value_counts()"
   ]
  },
  {
   "cell_type": "code",
   "execution_count": 176,
   "metadata": {},
   "outputs": [
    {
     "output_type": "execute_result",
     "data": {
      "text/plain": "1925"
     },
     "metadata": {},
     "execution_count": 176
    }
   ],
   "source": [
    "# 9. Afficher le contenu le plus vieux disponible sur Netflix\n",
    "\n",
    "data.release_year.min()"
   ]
  },
  {
   "cell_type": "code",
   "execution_count": 182,
   "metadata": {},
   "outputs": [
    {
     "output_type": "execute_result",
     "data": {
      "text/plain": "show_id\n81145628    True\n80117401    True\n70234439    True\n80058654    True\n80125979    True\n            ... \n80000063    True\n70286564    True\n80116008    True\n70281022    True\n70153404    True\nName: release_year, Length: 6234, dtype: bool"
     },
     "metadata": {},
     "execution_count": 182
    }
   ],
   "source": [
    "data['release_year']==\"1925\""
   ]
  },
  {
   "cell_type": "code",
   "execution_count": 194,
   "metadata": {},
   "outputs": [
    {
     "output_type": "execute_result",
     "data": {
      "text/plain": "show_id\n81145628     90 \n80117401     94 \n80125979     99 \n70304989    110 \n80164077     60 \n            ... \n80085438     70 \n80085439    102 \n80011846     88 \n80064521    109 \n80116008     60 \nName: duration, Length: 4265, dtype: object"
     },
     "metadata": {},
     "execution_count": 194
    }
   ],
   "source": [
    "# 10. Afficher le film avec la durée la plus longue sur Netflix\n",
    "\n",
    "# a. Nouvelle notion : les méthodes str\n",
    "# b. Énoncé\n",
    "\n",
    "data_duree = data_movie.duration.str.replace(\"min\",\"\")\n",
    "data_duree #.str.replace(\"min\",\"\")"
   ]
  },
  {
   "cell_type": "code",
   "execution_count": 198,
   "metadata": {},
   "outputs": [
    {
     "output_type": "execute_result",
     "data": {
      "text/plain": "show_id\n81145628     90\n80117401     94\n80125979     99\n70304989    110\n80164077     60\n           ... \n80085438     70\n80085439    102\n80011846     88\n80064521    109\n80116008     60\nName: duration, Length: 4265, dtype: int64"
     },
     "metadata": {},
     "execution_count": 198
    }
   ],
   "source": [
    "data_duree = data_duree.astype('int')\n",
    "data_duree"
   ]
  },
  {
   "cell_type": "code",
   "execution_count": 202,
   "metadata": {},
   "outputs": [
    {
     "output_type": "execute_result",
     "data": {
      "text/plain": "show_id\n70304298      3\n81176188     10\n81020543     11\n80114804     12\n80239831     12\n           ... \n80175798    209\n70090035    214\n60020906    224\n60002818    228\n80988062    312\nName: duration, Length: 4265, dtype: int64"
     },
     "metadata": {},
     "execution_count": 202
    }
   ],
   "source": [
    "data_duree = data_duree.sort_values(ascending=True)\n",
    "data_duree"
   ]
  },
  {
   "cell_type": "code",
   "execution_count": 208,
   "metadata": {},
   "outputs": [
    {
     "output_type": "execute_result",
     "data": {
      "text/plain": "show_id\n80988062    312\n60002818    228\n60020906    224\n70090035    214\n80175798    209\n           ... \n80239831     12\n80114804     12\n81020543     11\n81176188     10\n70304298      3\nName: duration, Length: 4265, dtype: int64"
     },
     "metadata": {},
     "execution_count": 208
    }
   ],
   "source": [
    "data_duree = data_movie.duration.str.replace(\"min\",\"\").astype('int').sort_values(ascending=False)\n",
    "data_duree"
   ]
  },
  {
   "cell_type": "code",
   "execution_count": 210,
   "metadata": {},
   "outputs": [
    {
     "output_type": "execute_result",
     "data": {
      "text/plain": "           type  ...                                        description\nshow_id          ...                                                   \n80988062  Movie  ...  In 1984, a young programmer begins to question...\n60002818  Movie  ...  Returning home from war after being assumed de...\n60020906  Movie  ...  In 1890s India, an arrogant British commander ...\n70090035  Movie  ...  In 16th-century India, what begins as a strate...\n80175798  Movie  ...  Hit man Frank Sheeran looks back at the secret...\n\n[5 rows x 11 columns]",
      "text/html": "<div>\n<style scoped>\n    .dataframe tbody tr th:only-of-type {\n        vertical-align: middle;\n    }\n\n    .dataframe tbody tr th {\n        vertical-align: top;\n    }\n\n    .dataframe thead th {\n        text-align: right;\n    }\n</style>\n<table border=\"1\" class=\"dataframe\">\n  <thead>\n    <tr style=\"text-align: right;\">\n      <th></th>\n      <th>type</th>\n      <th>title</th>\n      <th>director</th>\n      <th>cast</th>\n      <th>country</th>\n      <th>date_added</th>\n      <th>release_year</th>\n      <th>rating</th>\n      <th>duration</th>\n      <th>listed_in</th>\n      <th>description</th>\n    </tr>\n    <tr>\n      <th>show_id</th>\n      <th></th>\n      <th></th>\n      <th></th>\n      <th></th>\n      <th></th>\n      <th></th>\n      <th></th>\n      <th></th>\n      <th></th>\n      <th></th>\n      <th></th>\n    </tr>\n  </thead>\n  <tbody>\n    <tr>\n      <th>80988062</th>\n      <td>Movie</td>\n      <td>Black Mirror: Bandersnatch</td>\n      <td>NaN</td>\n      <td>Fionn Whitehead, Will Poulter, Craig Parkinson...</td>\n      <td>United States</td>\n      <td>December 28, 2018</td>\n      <td>1925</td>\n      <td>TV-MA</td>\n      <td>312 min</td>\n      <td>Dramas, International Movies, Sci-Fi &amp; Fantasy</td>\n      <td>In 1984, a young programmer begins to question...</td>\n    </tr>\n    <tr>\n      <th>60002818</th>\n      <td>Movie</td>\n      <td>Sangam</td>\n      <td>Raj Kapoor</td>\n      <td>Raj Kapoor, Vyjayanthimala, Rajendra Kumar, La...</td>\n      <td>India</td>\n      <td>December 31, 2019</td>\n      <td>1925</td>\n      <td>TV-14</td>\n      <td>228 min</td>\n      <td>Classic Movies, Dramas, International Movies</td>\n      <td>Returning home from war after being assumed de...</td>\n    </tr>\n    <tr>\n      <th>60020906</th>\n      <td>Movie</td>\n      <td>Lagaan</td>\n      <td>Ashutosh Gowariker</td>\n      <td>Aamir Khan, Gracy Singh, Rachel Shelley, Paul ...</td>\n      <td>India</td>\n      <td>December 8, 2017</td>\n      <td>1925</td>\n      <td>PG</td>\n      <td>224 min</td>\n      <td>Dramas, International Movies, Music &amp; Musicals</td>\n      <td>In 1890s India, an arrogant British commander ...</td>\n    </tr>\n    <tr>\n      <th>70090035</th>\n      <td>Movie</td>\n      <td>Jodhaa Akbar</td>\n      <td>Ashutosh Gowariker</td>\n      <td>Hrithik Roshan, Aishwarya Rai Bachchan, Sonu S...</td>\n      <td>India</td>\n      <td>October 1, 2018</td>\n      <td>1925</td>\n      <td>TV-14</td>\n      <td>214 min</td>\n      <td>Action &amp; Adventure, Dramas, International Movies</td>\n      <td>In 16th-century India, what begins as a strate...</td>\n    </tr>\n    <tr>\n      <th>80175798</th>\n      <td>Movie</td>\n      <td>The Irishman</td>\n      <td>Martin Scorsese</td>\n      <td>Robert De Niro, Al Pacino, Joe Pesci, Harvey K...</td>\n      <td>United States</td>\n      <td>November 27, 2019</td>\n      <td>1925</td>\n      <td>R</td>\n      <td>209 min</td>\n      <td>Dramas</td>\n      <td>Hit man Frank Sheeran looks back at the secret...</td>\n    </tr>\n  </tbody>\n</table>\n</div>"
     },
     "metadata": {},
     "execution_count": 210
    }
   ],
   "source": [
    "data.reindex(data_duree.index).head(n=5)"
   ]
  },
  {
   "cell_type": "code",
   "execution_count": 212,
   "metadata": {},
   "outputs": [
    {
     "output_type": "execute_result",
     "data": {
      "text/plain": "show_id\n81145628    Children & Family Movies, Comedies\n80117401                       Stand-Up Comedy\n70234439                              Kids' TV\n80058654                              Kids' TV\n80125979                              Comedies\nName: listed_in, dtype: object"
     },
     "metadata": {},
     "execution_count": 212
    }
   ],
   "source": [
    "# 11. Étudier les catégories avec le plus de contenu\n",
    "\n",
    "data[\"listed_in\"].head()"
   ]
  },
  {
   "cell_type": "code",
   "execution_count": 222,
   "metadata": {},
   "outputs": [
    {
     "output_type": "execute_result",
     "data": {
      "text/plain": "International Movies      1927\nDramas                    1623\nComedies                  1113\nInternational TV Shows    1001\nDocumentaries              668\ndtype: int64"
     },
     "metadata": {},
     "execution_count": 222
    }
   ],
   "source": [
    "categories=pd.Series(\", \".join(data[\"listed_in\"].dropna()).split(\", \"))\n",
    "\n",
    "categories.value_counts().head()"
   ]
  },
  {
   "cell_type": "code",
   "execution_count": 225,
   "metadata": {},
   "outputs": [
    {
     "output_type": "execute_result",
     "data": {
      "text/plain": "Anupam Kher         33\nShah Rukh Khan      30\nNaseeruddin Shah    27\nOm Puri             27\nYuki Kaji           26\ndtype: int64"
     },
     "metadata": {},
     "execution_count": 225
    }
   ],
   "source": [
    "cast=pd.Series(\", \".join(data[\"cast\"].dropna()).split(\", \"))\n",
    "cast.value_counts().head()"
   ]
  },
  {
   "cell_type": "code",
   "execution_count": 227,
   "metadata": {},
   "outputs": [
    {
     "output_type": "execute_result",
     "data": {
      "text/plain": "Jan Suter       21\nRaúl Campos     19\nJay Karas       14\nMarcus Raboy    14\nJay Chapman     12\ndtype: int64"
     },
     "metadata": {},
     "execution_count": 227
    }
   ],
   "source": [
    "director=pd.Series(\", \".join(data[\"director\"].dropna()).split(\", \"))\n",
    "\n",
    "director.value_counts().head()\n"
   ]
  }
 ]
}