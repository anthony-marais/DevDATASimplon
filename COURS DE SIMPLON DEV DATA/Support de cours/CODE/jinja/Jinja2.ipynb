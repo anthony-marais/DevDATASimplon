{
 "cells": [
  {
   "cell_type": "code",
   "execution_count": 1,
   "metadata": {},
   "outputs": [],
   "source": [
    "from jinja2 import Template"
   ]
  },
  {
   "cell_type": "code",
   "execution_count": 2,
   "metadata": {},
   "outputs": [
    {
     "name": "stdin",
     "output_type": "stream",
     "text": [
      "Votre nom :  anthony\n"
     ]
    }
   ],
   "source": [
    "reponse = input('Votre nom : ')\n",
    "tm = Template(\"Bonjour {{ nom }}\")\n",
    "texte = tm.render(nom=reponse)"
   ]
  },
  {
   "cell_type": "code",
   "execution_count": 3,
   "metadata": {},
   "outputs": [
    {
     "name": "stdout",
     "output_type": "stream",
     "text": [
      "Bonjour anthony\n"
     ]
    }
   ],
   "source": [
    "print(texte)"
   ]
  },
  {
   "cell_type": "code",
   "execution_count": null,
   "metadata": {},
   "outputs": [],
   "source": []
  },
  {
   "cell_type": "code",
   "execution_count": 8,
   "metadata": {},
   "outputs": [
    {
     "name": "stdin",
     "output_type": "stream",
     "text": [
      "Votre nom :  Anthony\n"
     ]
    },
    {
     "name": "stdout",
     "output_type": "stream",
     "text": [
      "<!doctype html>\n",
      "<html lang=\"fr\">\n",
      "\n",
      "<head>\n",
      "\t<title>Titre de la page</title>\n",
      "</head>\n",
      "\n",
      "<body>\n",
      "    <h1>Le nom entré est : Anthony</h1>\n",
      "\t<footer> \n",
      "\t09/15/20 11:51:30\n",
      "\t</footer> \n",
      "\n",
      "</body>\n",
      "</html>\n",
      "\n",
      "\n"
     ]
    }
   ],
   "source": [
    "from jinja2 import Environment , FileSystemLoader\n",
    "\n",
    "## pour les dates en Francais\n",
    "\n",
    "import datetime\n",
    "\n",
    "TMPL_DIR = \"/home/virus/Documents/jinja/\"\n",
    "fichier = \"base.jinja\"\n",
    "\n",
    "reponse = input(\"Votre nom : \")\n",
    "\n",
    "templateLoader = FileSystemLoader(searchpath=TMPL_DIR)\n",
    "templateEnv = Environment(loader=templateLoader)\n",
    "template = templateEnv.get_template(fichier)\n",
    "\n",
    "data={\n",
    "        'nom':reponse,\n",
    "        'time_stamp': datetime.datetime.now().strftime(\"%x %X\")\n",
    "    }\n",
    "\n",
    "print( template.render(data))"
   ]
  },
  {
   "cell_type": "code",
   "execution_count": 9,
   "metadata": {},
   "outputs": [],
   "source": [
    "outputText = template.render(data)\n",
    "html_file = open('jinja.html' , 'w')\n",
    "html_file.write(outputText)\n",
    "html_file.close()"
   ]
  },
  {
   "cell_type": "code",
   "execution_count": null,
   "metadata": {},
   "outputs": [],
   "source": []
  }
 ],
 "metadata": {
  "kernelspec": {
   "display_name": "Python 3",
   "language": "python",
   "name": "python3"
  },
  "language_info": {
   "codemirror_mode": {
    "name": "ipython",
    "version": 3
   },
   "file_extension": ".py",
   "mimetype": "text/x-python",
   "name": "python",
   "nbconvert_exporter": "python",
   "pygments_lexer": "ipython3",
   "version": "3.8.3"
  }
 },
 "nbformat": 4,
 "nbformat_minor": 4
}
