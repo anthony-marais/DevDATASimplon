{
 "metadata": {
  "language_info": {
   "codemirror_mode": {
    "name": "ipython",
    "version": 3
   },
   "file_extension": ".py",
   "mimetype": "text/x-python",
   "name": "python",
   "nbconvert_exporter": "python",
   "pygments_lexer": "ipython3",
   "version": 3
  },
  "orig_nbformat": 2
 },
 "nbformat": 4,
 "nbformat_minor": 2,
 "cells": [
  {
   "cell_type": "code",
   "execution_count": null,
   "metadata": {},
   "outputs": [],
   "source": [
    "show_listed_in_test = data_Q20.loc[data_Q20[\"listed_in\"].notna()][['show_id', 'listed_in']]\n",
    "show_listed_in = pd.DataFrame(columns = ['show_id', 'listed_in'])\n",
    "\n",
    "for i in show_listed_in_test.index:\n",
    "    listed_in = show_listed_in_test[\"listed_in\"][i].split(\", \")\n",
    "    show_id = [show_listed_in_test[\"show_id\"][i]] * len(listed_in)\n",
    "    df = pd.DataFrame({'show_id': show_id,'listed_in': listed_in}, columns = ['show_id','listed_in'])\n",
    "    show_listed_in = show_listed_in.append(df, ignore_index=True)\n",
    "show_listed_in"
   ]
  },
  {
   "cell_type": "code",
   "execution_count": null,
   "metadata": {},
   "outputs": [],
   "source": [
    "listed_in = show_listed_in.drop_duplicates(\"listed_in\")\n",
    "\n",
    "listed_in = listed_in.drop(columns=[\"show_id\"])\n",
    "listed_in = listed_in.reset_index()\n",
    "listed_in = listed_in.drop(columns=[\"index\"])\n",
    "listed_in = listed_in.reset_index()\n",
    "listed_in = listed_in.rename(columns={\"index\":\"listed_in_id\"})\n",
    "listed_in = listed_in.drop_duplicates(\"listed_in\")\n",
    "listed_in = listed_in.drop_duplicates(\"listed_in_id\")\n",
    "listed_in"
   ]
  },
  {
   "cell_type": "code",
   "execution_count": null,
   "metadata": {},
   "outputs": [],
   "source": [
    "show_listed_in = show_listed_in.merge(listed_in)\n",
    "show_listed_in = show_listed_in.drop(columns=[\"listed_in\"])\n",
    "show_listed_in"
   ]
  }
 ]
}