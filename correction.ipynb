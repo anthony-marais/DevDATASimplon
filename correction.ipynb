{
 "metadata": {
  "language_info": {
   "codemirror_mode": {
    "name": "ipython",
    "version": 3
   },
   "file_extension": ".py",
   "mimetype": "text/x-python",
   "name": "python",
   "nbconvert_exporter": "python",
   "pygments_lexer": "ipython3",
   "version": 3
  },
  "orig_nbformat": 2
 },
 "nbformat": 4,
 "nbformat_minor": 2,
 "cells": [
  {
   "cell_type": "code",
   "execution_count": null,
   "metadata": {},
   "outputs": [],
   "source": [
    "import mysql.connector\n",
    "from json import load\n",
    "\n",
    "fichierConfig = \"config.json\"\n",
    "nomProcedure = \"checkDirector\"\n",
    "nomRealisateur = \"Alain Deloin\"\n",
    "\n",
    "with open(fichierConfig) as fichier:\n",
    "    config = load(fichier)[\"mysql\"]\n",
    "\n",
    "try:\n",
    "    connection = mysql.connector.connect(host=config[\"host\"],\n",
    "                                         database=config[\"bdd\"],\n",
    "                                         user=config[\"user\"],\n",
    "                                         password=config[\"password\"])\n",
    "    cursor = connection.cursor()\n",
    "    cursor.callproc(nomProcedure, [nomRealisateur, ])\n",
    "\n",
    "except mysql.connector.Error as error:\n",
    "    print(\"Problème avec l'exécution de la procédure stockée: {}\".format(error))\n",
    "finally:\n",
    "    if (connection.is_connected()):\n",
    "        cursor.close()\n",
    "        connection.close()"
   ]
  }
 ]
}