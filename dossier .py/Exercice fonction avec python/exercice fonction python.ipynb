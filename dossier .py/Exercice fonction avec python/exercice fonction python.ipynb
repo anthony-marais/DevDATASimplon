{
 "metadata": {
  "language_info": {
   "codemirror_mode": {
    "name": "ipython",
    "version": 3
   },
   "file_extension": ".py",
   "mimetype": "text/x-python",
   "name": "python",
   "nbconvert_exporter": "python",
   "pygments_lexer": "ipython3",
   "version": "3.8.3-final"
  },
  "orig_nbformat": 2,
  "kernelspec": {
   "name": "python3",
   "display_name": "Python 3"
  }
 },
 "nbformat": 4,
 "nbformat_minor": 2,
 "cells": [
  {
   "cell_type": "code",
   "execution_count": 2,
   "metadata": {
    "tags": []
   },
   "outputs": [
    {
     "output_type": "stream",
     "name": "stdout",
     "text": [
      "['TOI', 'mon', 'TOI']\n['TOI', 'TOI']\n"
     ]
    }
   ],
   "source": [
    "#1. Ecrire une fonction hascap(s) qui renvoie tout les mots de la chaînes commençant par une majuscule.\n",
    "#Pour ce faire utiliser la fonction ord() pour obtenir le code ASCII des lettres\n",
    "#(Les lettres majuscule ont un code allant de 65 à 90)\n",
    "\n",
    "def hascaps(s):\n",
    "    \n",
    "    L1 = []\n",
    "    s1 = s.split()\n",
    "    print(s1)\n",
    "    \n",
    "    for mot in s1:\n",
    "        ascii = ord(mot[0])\n",
    "        if ascii > 65 and ascii < 90:\n",
    "            L1.append(mot)\n",
    "\n",
    "    return L1\n",
    "\n",
    "resultat = hascaps(input())\n",
    "print(resultat)"
   ]
  },
  {
   "cell_type": "code",
   "execution_count": 87,
   "metadata": {
    "tags": []
   },
   "outputs": [
    {
     "output_type": "stream",
     "name": "stdout",
     "text": "['Le', 'prix', 'est', 'de', '32', 'euros']\nLe prix est de 64 euros\n"
    }
   ],
   "source": [
    "#2. Proposer une fonction inflation(s) qui va doubler la valeur de tout les nombre dans la chaine s. Exemple : « Le prix est de 27 euros » devient « Le prix est de 54 euros ».\n",
    "#Utiliser la fonction enumerate() pour lancer une boucle for (Taper dans Google « enumerate boucle for ».)\n",
    "Liste = \"Le prix est de 32 euros\"\n",
    "def inflation(s):\n",
    "    \n",
    "    Liste1 = Liste.split()\n",
    "    print(Liste1)\n",
    "\n",
    "    for position,mot in enumerate(Liste1):\n",
    "        \n",
    "        if mot.isnumeric():\n",
    "            double = str(int(mot)*2)\n",
    "            \n",
    "    \n",
    "    print(\"Le prix est de {} euros\".format(double))\n",
    "\n",
    "inflation(Liste)\n",
    "\n",
    "\n"
   ]
  },
  {
   "cell_type": "code",
   "execution_count": 90,
   "metadata": {
    "tags": []
   },
   "outputs": [
    {
     "output_type": "stream",
     "name": "stdout",
     "text": "['Le', 'prix', 'est', 'de', '27', 'euros']\nLe prix est de 54 euros\n"
    }
   ],
   "source": [
    "s = \"Le prix est de 27 euros\" \n",
    "def inflation(s):\n",
    "\n",
    "    split_s = s.split()\n",
    "    print(split_s)\n",
    "    for i,j in enumerate(split_s):\n",
    "        if j.isnumeric():\n",
    "            split_s[i] = str(int(j)*2)\n",
    "    result = \" \".join(split_s)\n",
    "    return print(result)\n",
    "\n",
    "inflation(s)\n"
   ]
  },
  {
   "cell_type": "code",
   "execution_count": 6,
   "metadata": {
    "tags": []
   },
   "outputs": [
    {
     "output_type": "stream",
     "name": "stdout",
     "text": "['Le', 'prix', 'est', 'de', '27', 'euros']\n"
    }
   ],
   "source": [
    "Liste = \"Le prix est de 27 euros\"\n",
    "Liste1 = Liste.split()\n",
    "print(Liste1)"
   ]
  },
  {
   "cell_type": "code",
   "execution_count": 81,
   "metadata": {
    "tags": []
   },
   "outputs": [
    {
     "output_type": "stream",
     "name": "stdout",
     "text": "['Onze ans déjà que cela ', 'passe vite Vous vous ', 'étiez servis simplement ', 'de vos armes la mort ', 'n‘éblouit pas les yeux ', 'des partisans Vous aviez ', 'vos portraits sur les ', 'murs de nos villes ']\n"
    }
   ],
   "source": [
    "#3. Proposer une fonction lignes qui à partir d’une long chaîne s (>100caractères) renvoie une liste de chaîne de caractères contenant chacun 24 caractères maximum et terminant par un espace.\n",
    "\n",
    "\n",
    "\n",
    "#Voici un exemple de chaîne sur le quel vous pouvez travailler :\n",
    "#s =\"Onze ans déjà que cela passe vite Vous \"\n",
    "#s +=\"vous étiez servis simplement de vos armes la \"\n",
    "#s +=\"mort n‘éblouit pas les yeux des partisans Vous \"\n",
    "#s +=\"aviez vos portraits sur les murs de nos villes \"\n",
    "\n",
    "# Onze ans déjà que cela passe vite Vous vous étiez servis simplement de vos armes la   mort n‘éblouit pas les yeux des partisans Vous aviez vos portraits sur les murs de nos villes\n",
    "\n",
    "\n",
    "\n",
    "Liste = \"Onze ans déjà que cela passe vite Vous vous étiez servis simplement de vos armes la   mort n‘éblouit pas les yeux des partisans Vous aviez vos portraits sur les murs de nos villes\"\n",
    "\n",
    "def lignes(L):\n",
    "    Liste1 = L.split()\n",
    "    Liste_splite = []\n",
    "    Liste_temp = \"\"\n",
    "    \n",
    "    for mot in Liste1:\n",
    "\n",
    "        if len(mot) + len(Liste_temp) > 24:\n",
    "            Liste_splite.append(Liste_temp)\n",
    "            Liste_temp = mot+\" \"\n",
    "        else:\n",
    "            Liste_temp+=mot+\" \"\n",
    "    Liste_splite.append(Liste_temp)\n",
    "    return Liste_splite\n",
    "\n",
    "print(lignes(Liste))\n",
    "\n"
   ]
  },
  {
   "cell_type": "code",
   "execution_count": 123,
   "metadata": {
    "tags": []
   },
   "outputs": [
    {
     "output_type": "stream",
     "name": "stdout",
     "text": "['2', '6.50']\n"
    }
   ],
   "source": [
    "#4. Proposer un programme qui renvoie la liste de tout les nombres (y compris décimaux et négatifs) d’une chaîne de caractères.\n",
    "#A tester sur la chaîne : « Les 2 maquereaux valent 6.50 euros ».\n",
    "from re import findall\n",
    "\n",
    "Liste = \"Les 2 maquereaux valent 6.50 euros\"\n",
    "\n",
    "def checknum(L):\n",
    "    motif = (r\"[\\d.,]*\\d+\")\n",
    "    Liste_findall = findall(motif,Liste)\n",
    "    return Liste_findall\n",
    "print(checknum(Liste))\n",
    "\n"
   ]
  },
  {
   "cell_type": "code",
   "execution_count": 129,
   "metadata": {
    "tags": []
   },
   "outputs": [
    {
     "output_type": "stream",
     "name": "stdout",
     "text": "2 -6\n"
    }
   ],
   "source": [
    "# 5. Proposer une fonction arrondi(s) qui dans la chaîne s troncature tout les nombre décimaux. On autorise les nombres négatifs.\n",
    "# Pour ce faire, vous avez la possibilité d’utiliser :\n",
    "# des () pour désigner des blocs de données dans l’expression rationnelle.\n",
    "# pour remplacer chacun des blocs l’expression est r’\\1_\\2_’.\n",
    "from re import sub\n",
    "\n",
    "s = \"2.6 -6.89\"\n",
    "\n",
    "def arrondi(s):\n",
    "    motif = '[\\.\\,]+[0-9]+'\n",
    "    s1 = sub(motif,\"\",s)\n",
    "    return s1\n",
    "\n",
    "print(arrondi(s))\n",
    "\n",
    "\n",
    "\n",
    "\n",
    "\n"
   ]
  },
  {
   "cell_type": "code",
   "execution_count": 4,
   "metadata": {
    "tags": []
   },
   "outputs": [
    {
     "output_type": "stream",
     "name": "stdout",
     "text": [
      "il a 4.25 euros sur son compte 5.98\n"
     ]
    }
   ],
   "source": [
    "import re \n",
    "\n",
    "p = \"il a 4.25 euros sur son compte 5.98\"\n",
    "\n",
    "def test(s):\n",
    "    s= re.sub(\"\\[.,][0-9]+\", \"\",s)\n",
    "    print(s)\n",
    "\n",
    "\n",
    "test(p)"
   ]
  },
  {
   "cell_type": "code",
   "execution_count": 3,
   "metadata": {
    "tags": []
   },
   "outputs": [
    {
     "output_type": "stream",
     "name": "stdout",
     "text": [
      "il a 4 euros sur son compte 5\n"
     ]
    }
   ],
   "source": [
    "from re import *\n",
    "\n",
    "def tronc(s):\n",
    "    motif = r\"(-?)([0-9]+)[,.]?[0-9]+\"\n",
    "    return sub(motif, r\"\\1\\2\",s)\n",
    "s = \"il a 4.25 euros sur son compte 5.98\"\n",
    "print(tronc(s))"
   ]
  },
  {
   "cell_type": "code",
   "execution_count": null,
   "metadata": {},
   "outputs": [],
   "source": []
  }
 ]
}