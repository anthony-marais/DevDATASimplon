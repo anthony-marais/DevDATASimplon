{
 "cells": [
  {
   "cell_type": "code",
   "execution_count": 1,
   "metadata": {
    "scrolled": true
   },
   "outputs": [
    {
     "ename": "SyntaxError",
     "evalue": "unexpected EOF while parsing (<ipython-input-1-6f73f429370c>, line 6)",
     "output_type": "error",
     "traceback": [
      "\u001b[0;36m  File \u001b[0;32m\"<ipython-input-1-6f73f429370c>\"\u001b[0;36m, line \u001b[0;32m6\u001b[0m\n\u001b[0;31m    print(i+1,(noms[i])\u001b[0m\n\u001b[0m                       ^\u001b[0m\n\u001b[0;31mSyntaxError\u001b[0m\u001b[0;31m:\u001b[0m unexpected EOF while parsing\n"
     ]
    }
   ],
   "source": [
    "import random;\n",
    "\n",
    "noms = [\"Bayet Davy\",\"Beuil Alexandre\",\"Bouazza Nedra\",\"Boubaker Samy\",\"Bouharaoui Tarek\",\"Cancian Hadrien\",\"Clave Lukas\",\"Deleage Lucas\",\"Djerfi Souad\",\"El Majdoub Chourouk\",\"Fernandes Stéphane\",\"Fratani Karen\",\"Jacquemin Anthony\",\"Lesoeur Raphael\",\"Marais Anthony\",\"Moreau Jonathan\",\"Paul Debolina\",\"Pawtowski Wilfried\",\"Pelliccioli Luca\",\"Ramanitrarivo Niry\",\"Vidon Elodie\",\"Wathelet Florent\"]\n",
    "random.shuffle(noms)\n",
    "for i in range(len(noms)):\n",
    "    print(i+1,(noms[i])"
   ]
  },
  {
   "cell_type": "code",
   "execution_count": null,
   "metadata": {},
   "outputs": [],
   "source": []
  },
  {
   "cell_type": "code",
   "execution_count": null,
   "metadata": {},
   "outputs": [],
   "source": []
  },
  {
   "cell_type": "code",
   "execution_count": null,
   "metadata": {},
   "outputs": [],
   "source": []
  },
  {
   "cell_type": "code",
   "execution_count": null,
   "metadata": {},
   "outputs": [],
   "source": []
  },
  {
   "cell_type": "code",
   "execution_count": null,
   "metadata": {},
   "outputs": [],
   "source": []
  },
  {
   "cell_type": "code",
   "execution_count": null,
   "metadata": {},
   "outputs": [],
   "source": []
  },
  {
   "cell_type": "code",
   "execution_count": null,
   "metadata": {},
   "outputs": [],
   "source": []
  }
 ],
 "metadata": {
  "kernelspec": {
   "display_name": "Python 3",
   "language": "python",
   "name": "python3"
  },
  "language_info": {
   "codemirror_mode": {
    "name": "ipython",
    "version": 3
   },
   "file_extension": ".py",
   "mimetype": "text/x-python",
   "name": "python",
   "nbconvert_exporter": "python",
   "pygments_lexer": "ipython3",
   "version": "3.7.6"
  }
 },
 "nbformat": 4,
 "nbformat_minor": 4
}
