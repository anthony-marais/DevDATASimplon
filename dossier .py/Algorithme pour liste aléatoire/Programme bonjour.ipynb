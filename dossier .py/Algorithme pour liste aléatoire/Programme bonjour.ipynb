{
 "metadata": {
  "language_info": {
   "codemirror_mode": {
    "name": "ipython",
    "version": 3
   },
   "file_extension": ".py",
   "mimetype": "text/x-python",
   "name": "python",
   "nbconvert_exporter": "python",
   "pygments_lexer": "ipython3",
   "version": "3.8.3-final"
  },
  "orig_nbformat": 2,
  "kernelspec": {
   "name": "python3",
   "display_name": "Python 3"
  }
 },
 "nbformat": 4,
 "nbformat_minor": 2,
 "cells": [
  {
   "cell_type": "code",
   "execution_count": 34,
   "metadata": {},
   "outputs": [
    {
     "output_type": "stream",
     "name": "stdout",
     "text": [
      "Bonjour Bayet Davy\nBonjour Beuil Alexandre\nBonjour Bouazza Nedra\nBonjour Boubaker Samy\nBonjour Bouharaoui Tarek\nBonjour Cancian Hadrien\nBonjour Clave Lukas\nBonjour Deleage Lucas\nBonjour Djerfi Souad\nBonjour El Majdoub Chourouk\nBonjour Fernandes Stéphane\nBonjour Fratani Karen\nBonjour Jacquemin Anthony\nBonjour Lesoeur Raphael\nBonjour Moreau Jonathan\nBonjour Paul Debolina\nBonjour Pawtowski Wilfried\nBonjour Pelliccioli Luca\nBonjour Ramanitrarivo Niry\nBonjour Vidon Elodie\nBonjour Wathelet Florent\n"
     ]
    }
   ],
   "source": [
    "a = ('Bonjour')\n",
    "noms = [\"Bayet Davy\",\"Beuil Alexandre\",\"Bouazza Nedra\",\"Boubaker Samy\",\"Bouharaoui Tarek\",\"Cancian Hadrien\",\"Clave Lukas\",\"Deleage Lucas\",\"Djerfi Souad\",\"El Majdoub Chourouk\",\"Fernandes Stéphane\",\"Fratani Karen\",\"Jacquemin Anthony\",\"Lesoeur Raphael\",\"Moreau Jonathan\",\"Paul Debolina\",\"Pawtowski Wilfried\",\"Pelliccioli Luca\",\"Ramanitrarivo Niry\",\"Vidon Elodie\",\"Wathelet Florent\"]\n",
    "\n",
    "for i in range(len(noms)):\n",
    "    print(a,(noms[i]))"
   ]
  },
  {
   "cell_type": "code",
   "execution_count": null,
   "metadata": {},
   "outputs": [],
   "source": []
  }
 ]
}