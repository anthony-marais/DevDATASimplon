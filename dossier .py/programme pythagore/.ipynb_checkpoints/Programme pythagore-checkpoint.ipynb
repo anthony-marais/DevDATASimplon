{
 "cells": [
  {
   "cell_type": "code",
   "execution_count": 1,
   "metadata": {},
   "outputs": [
    {
     "name": "stdout",
     "output_type": "stream",
     "text": [
      "Programme vérification de triangle rectangle\n",
      "\n",
      " D'après le Théoreme de Pythagore\n",
      "\n",
      "veuillez isoler les côtés 'a','b','c' \n",
      "Entrez la valeur de votre A = 3\n",
      "Entrez la valeur de votre B = 5\n",
      "Entrez la valeur de votre C = 4\n",
      "Le triangle est rectangle\n"
     ]
    }
   ],
   "source": [
    "print (\"Programme vérification de triangle rectangle\\n\\n D'après le Théoreme de Pythagore\\n\\nveuillez isoler les côtés 'a','b','c' \")\n",
    "a = int(input('Entrez la valeur de votre A = '))\n",
    "b = int(input('Entrez la valeur de votre B = '))\n",
    "c = int(input('Entrez la valeur de votre C = '))\n",
    "if a**2 == (b**2)+(c**2):\n",
    "    print (\"Le triangle est rectangle\")\n",
    "elif b**2 == (a**2)+(c**2):\n",
    "    print (\"Le triangle est rectangle\")\n",
    "elif c**2 == (a**2)+(b**2):\n",
    "    print (\"Le triangle est rectangle\")\n",
    "else :\n",
    "    print (\"Le triangle n'est pas rectangle\")\n",
    "\n"
   ]
  },
  {
   "cell_type": "code",
   "execution_count": null,
   "metadata": {},
   "outputs": [],
   "source": []
  },
  {
   "cell_type": "code",
   "execution_count": null,
   "metadata": {},
   "outputs": [],
   "source": []
  }
 ],
 "metadata": {
  "kernelspec": {
   "display_name": "Python 3",
   "language": "python",
   "name": "python3"
  },
  "language_info": {
   "codemirror_mode": {
    "name": "ipython",
    "version": 3
   },
   "file_extension": ".py",
   "mimetype": "text/x-python",
   "name": "python",
   "nbconvert_exporter": "python",
   "pygments_lexer": "ipython3",
   "version": "3.7.6"
  }
 },
 "nbformat": 4,
 "nbformat_minor": 4
}
