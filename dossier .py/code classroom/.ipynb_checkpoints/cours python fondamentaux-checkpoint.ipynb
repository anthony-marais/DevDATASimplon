{
 "cells": [
  {
   "cell_type": "code",
   "execution_count": 1,
   "metadata": {},
   "outputs": [
    {
     "data": {
      "text/plain": [
       "False"
      ]
     },
     "execution_count": 1,
     "metadata": {},
     "output_type": "execute_result"
    }
   ],
   "source": [
    "1!=1"
   ]
  },
  {
   "cell_type": "code",
   "execution_count": 2,
   "metadata": {},
   "outputs": [
    {
     "data": {
      "text/plain": [
       "True"
      ]
     },
     "execution_count": 2,
     "metadata": {},
     "output_type": "execute_result"
    }
   ],
   "source": [
    "\"eleven\" != \"seven\""
   ]
  },
  {
   "cell_type": "code",
   "execution_count": 3,
   "metadata": {},
   "outputs": [
    {
     "data": {
      "text/plain": [
       "True"
      ]
     },
     "execution_count": 3,
     "metadata": {},
     "output_type": "execute_result"
    }
   ],
   "source": [
    "2 != 10"
   ]
  },
  {
   "cell_type": "code",
   "execution_count": 4,
   "metadata": {},
   "outputs": [
    {
     "data": {
      "text/plain": [
       "True"
      ]
     },
     "execution_count": 4,
     "metadata": {},
     "output_type": "execute_result"
    }
   ],
   "source": [
    "7 > 5"
   ]
  },
  {
   "cell_type": "code",
   "execution_count": 5,
   "metadata": {},
   "outputs": [
    {
     "data": {
      "text/plain": [
       "False"
      ]
     },
     "execution_count": 5,
     "metadata": {},
     "output_type": "execute_result"
    }
   ],
   "source": [
    "10 < 10"
   ]
  },
  {
   "cell_type": "code",
   "execution_count": 6,
   "metadata": {},
   "outputs": [
    {
     "data": {
      "text/plain": [
       "False"
      ]
     },
     "execution_count": 6,
     "metadata": {},
     "output_type": "execute_result"
    }
   ],
   "source": [
    "7 > 7.0"
   ]
  },
  {
   "cell_type": "code",
   "execution_count": 7,
   "metadata": {},
   "outputs": [
    {
     "data": {
      "text/plain": [
       "True"
      ]
     },
     "execution_count": 7,
     "metadata": {},
     "output_type": "execute_result"
    }
   ],
   "source": [
    "#Comparaison\n",
    "\n",
    "#Les opérateurs supérieur ou égal à et inférieur ou égal à sont> = et <=.\n",
    "#Ils sont identiques aux opérateurs stricts supérieur et inférieur à, sauf qu'ils renvoient True lors de la comparaison de nombres égaux.\n",
    "\n",
    "7 <= 8"
   ]
  },
  {
   "cell_type": "code",
   "execution_count": 9,
   "metadata": {},
   "outputs": [
    {
     "data": {
      "text/plain": [
       "(True, 0)"
      ]
     },
     "execution_count": 9,
     "metadata": {},
     "output_type": "execute_result"
    }
   ],
   "source": [
    "9 >= 9,0"
   ]
  },
  {
   "cell_type": "code",
   "execution_count": 10,
   "metadata": {},
   "outputs": [
    {
     "data": {
      "text/plain": [
       "(8, True, 70)"
      ]
     },
     "execution_count": 10,
     "metadata": {},
     "output_type": "execute_result"
    }
   ],
   "source": [
    "8,7 <= 8,70"
   ]
  },
  {
   "cell_type": "code",
   "execution_count": null,
   "metadata": {},
   "outputs": [],
   "source": [
    "#if Déclarations\n",
    "\n",
    "#Vous pouvez utiliser des instructions if pour exécuter du code si une certaine condition est satisfaite.\n",
    "#Si une expression a la valeur True , certaines instructions sont exécutées. Sinon, ils ne sont pas exécutés.\n",
    "#Une instruction if ressemble à ceci:\n",
    "\n",
    "#exemple :\n",
    "\n",
    "#if expression:\n",
    "#    instructions\n",
    "\n"
   ]
  },
  {
   "cell_type": "code",
   "execution_count": null,
   "metadata": {},
   "outputs": [],
   "source": [
    "# Quelle partie d'une instruction if doit être indentée?\n",
    "\n",
    "# Les déclarations qu'il contient"
   ]
  },
  {
   "cell_type": "code",
   "execution_count": 11,
   "metadata": {},
   "outputs": [
    {
     "name": "stdout",
     "output_type": "stream",
     "text": [
      "Program ended\n"
     ]
    }
   ],
   "source": [
    "#if Statements\n",
    "\n",
    "#Here is an example if statement:\n",
    "\n",
    "if 10 > 10:\n",
    "    print(\"10 greater than 5\")\n",
    "    \n",
    "print(\"Program ended\")\n",
    "\n"
   ]
  },
  {
   "cell_type": "code",
   "execution_count": null,
   "metadata": {},
   "outputs": [],
   "source": [
    "#L'expression détermine si 10 est supérieur à 5. Dans la mesure où c'est le cas, l'instruction indentée s'exécute et \"10 supérieur à 5\" est généré. Ensuite, l'instruction non indentée, qui ne fait pas partie de l' instruction if , est exécutée et «Programme terminé» s'affiche.\n",
    "\n",
    "#Notez les deux points à la fin de l'expression dans l' instruction if .\n",
    "\n",
    "#Lorsque le programme contient plusieurs lignes de code, vous devez le créer en tant que fichier séparé et l'exécuter."
   ]
  },
  {
   "cell_type": "code",
   "execution_count": 13,
   "metadata": {},
   "outputs": [
    {
     "name": "stdout",
     "output_type": "stream",
     "text": [
      "five\n"
     ]
    }
   ],
   "source": [
    "spam = 7\n",
    "\n",
    "if spam > 5:\n",
    "    print(\"five\")\n",
    "if spam > 8:\n",
    "    print(\"eight\")"
   ]
  },
  {
   "cell_type": "code",
   "execution_count": 14,
   "metadata": {},
   "outputs": [
    {
     "name": "stdout",
     "output_type": "stream",
     "text": [
      "Bigger than 5\n",
      "Between 5 and 47\n"
     ]
    }
   ],
   "source": [
    "#if Déclarations\n",
    "#Pour effectuer des vérifications plus complexes, si les instructions peuvent être imbriquées, les unes dans les autres.\n",
    "#Cela signifie que l' instruction if interne est la partie instruction de l'instruction externe. C'est une façon de voir si plusieurs conditions sont satisfaites.\n",
    "\n",
    "#exemple:\n",
    "\n",
    "num = 12\n",
    "\n",
    "if num > 5:\n",
    "    print(\"Bigger than 5\")\n",
    "    \n",
    "    if num <= 47:\n",
    "        print(\"Between 5 and 47\")\n",
    "        \n",
    "        \n",
    "# L'indentation est le seul moyen de déterminer le niveau d'imbrication .\n"
   ]
  },
  {
   "cell_type": "code",
   "execution_count": 15,
   "metadata": {},
   "outputs": [
    {
     "name": "stdout",
     "output_type": "stream",
     "text": [
      "3\n"
     ]
    }
   ],
   "source": [
    "num = 7\n",
    "\n",
    "if num > 3:\n",
    "    print(\"3\")\n",
    "    if num < 5:\n",
    "        print (\"5\")\n",
    "        if num ==7:\n",
    "            print(\"7\")\n",
    "    "
   ]
  },
  {
   "cell_type": "code",
   "execution_count": 16,
   "metadata": {},
   "outputs": [
    {
     "name": "stdout",
     "output_type": "stream",
     "text": [
      "3\n",
      "7\n"
     ]
    }
   ],
   "source": [
    "num = 7\n",
    "\n",
    "if num > 3:\n",
    "    print(\"3\")\n",
    "if num < 5:\n",
    "    print (\"5\")\n",
    "if num ==7:\n",
    "    print(\"7\")"
   ]
  },
  {
   "cell_type": "code",
   "execution_count": 18,
   "metadata": {},
   "outputs": [
    {
     "name": "stdout",
     "output_type": "stream",
     "text": [
      "No\n"
     ]
    }
   ],
   "source": [
    "# else Statements\n",
    "\n",
    "#Une instruction else suit une instruction if et contient du code qui est appelé lorsque l'instruction if est évaluée à False .\n",
    "#Comme pour les instructions if , le code à l'intérieur du bloc doit être indenté.\n",
    "\n",
    "x = 4\n",
    "\n",
    "if x ==5:\n",
    "    print(\"Yes\")\n",
    "\n",
    "else:\n",
    "    print(\"No\")\n",
    "    \n",
    "    \n",
    "#Lorsque l'instruction if est vraie, l'instruction else est échappée.\n"
   ]
  },
  {
   "cell_type": "code",
   "execution_count": 19,
   "metadata": {},
   "outputs": [
    {
     "name": "stdout",
     "output_type": "stream",
     "text": [
      "else\n"
     ]
    }
   ],
   "source": [
    "if 1 + 1 ==2:\n",
    "    if 2 * 2 ==8:\n",
    "        print(\"if\")\n",
    "    else:\n",
    "        print(\"else\")\n"
   ]
  },
  {
   "cell_type": "code",
   "execution_count": 22,
   "metadata": {},
   "outputs": [
    {
     "name": "stdout",
     "output_type": "stream",
     "text": [
      "Number is 7\n"
     ]
    }
   ],
   "source": [
    "# else Statements\n",
    "\n",
    "# Vous pouvez enchaîner les instructions if et else pour déterminer quelle option dans une série de possibilités est vraie.\n",
    "\n",
    "# exemple :\n",
    "\n",
    "num = 7\n",
    "if num == 5:\n",
    "    print(\"Number is 5\")\n",
    "else: \n",
    "    if num == 11:\n",
    "        print(\"Number is 11\")\n",
    "    else:\n",
    "        if num == 7:\n",
    "            print(\"Number is 7\")\n",
    "        else: \n",
    "            print(\"Number isn't 5, 11 or 7\")\n",
    "            \n",
    "# Chaque bloc de condition if ne peut avoir qu'une seule instruction else.\n",
    "\n"
   ]
  },
  {
   "cell_type": "code",
   "execution_count": 23,
   "metadata": {},
   "outputs": [
    {
     "name": "stdout",
     "output_type": "stream",
     "text": [
      "instruction else\n"
     ]
    }
   ],
   "source": [
    "x = 10\n",
    "y = 20\n",
    "\n",
    "if x>y:\n",
    "    print(\"if statement\")\n",
    "else:\n",
    "    print(\"instruction else\")"
   ]
  },
  {
   "cell_type": "code",
   "execution_count": 2,
   "metadata": {},
   "outputs": [
    {
     "name": "stdout",
     "output_type": "stream",
     "text": [
      "Number is 7\n"
     ]
    }
   ],
   "source": [
    "# Déclarations elif\n",
    "\n",
    "#L' instruction elif ( abréviation de else if) est un raccourci à utiliser lors du chaînage d' instructions if et else .\n",
    "#Une série de si Elif déclarations peuvent avoir une finale d' autre bloc, qui est appelé si aucun des cas ou Elif expressions est vrai.\n",
    "\n",
    "#exemple:\n",
    " \n",
    "num=7\n",
    "if num ==5:\n",
    "    print(\"Number is 5\")\n",
    "else:\n",
    "    if num == 11:\n",
    "        print(\"Number is 11\")\n",
    "    else:\n",
    "        if num ==7:\n",
    "            print(\"Number is 7\")\n",
    "        else:\n",
    "            print(\"Number isn't 5, 11 or 7\")"
   ]
  },
  {
   "cell_type": "code",
   "execution_count": null,
   "metadata": {},
   "outputs": [],
   "source": [
    "#Logique booléenne\n",
    "\n",
    "#La logique booléenne est utilisée pour créer des conditions plus compliquées pour les instructions if qui reposent sur plusieurs conditions. Les opérateurs booléens\n",
    "#de Python sont et , ou , et non . L'opérateur and prend deux arguments et prend la valeur True si, et seulement si, ses deux arguments sont True . Sinon, il prend la valeur False ."
   ]
  },
  {
   "cell_type": "code",
   "execution_count": 3,
   "metadata": {},
   "outputs": [
    {
     "data": {
      "text/plain": [
       "True"
      ]
     },
     "execution_count": 3,
     "metadata": {},
     "output_type": "execute_result"
    }
   ],
   "source": [
    "1==1 and 2==2"
   ]
  },
  {
   "cell_type": "code",
   "execution_count": 4,
   "metadata": {},
   "outputs": [
    {
     "data": {
      "text/plain": [
       "False"
      ]
     },
     "execution_count": 4,
     "metadata": {},
     "output_type": "execute_result"
    }
   ],
   "source": [
    "1==1 and 2==3"
   ]
  },
  {
   "cell_type": "code",
   "execution_count": 5,
   "metadata": {},
   "outputs": [
    {
     "data": {
      "text/plain": [
       "False"
      ]
     },
     "execution_count": 5,
     "metadata": {},
     "output_type": "execute_result"
    }
   ],
   "source": [
    "1!=1 and 2==2"
   ]
  },
  {
   "cell_type": "code",
   "execution_count": 6,
   "metadata": {},
   "outputs": [
    {
     "data": {
      "text/plain": [
       "False"
      ]
     },
     "execution_count": 6,
     "metadata": {},
     "output_type": "execute_result"
    }
   ],
   "source": [
    "2<1 and 3>6"
   ]
  },
  {
   "cell_type": "code",
   "execution_count": 7,
   "metadata": {},
   "outputs": [
    {
     "data": {
      "text/plain": [
       "False"
      ]
     },
     "execution_count": 7,
     "metadata": {},
     "output_type": "execute_result"
    }
   ],
   "source": [
    "2<1"
   ]
  },
  {
   "cell_type": "code",
   "execution_count": 8,
   "metadata": {},
   "outputs": [
    {
     "data": {
      "text/plain": [
       "False"
      ]
     },
     "execution_count": 8,
     "metadata": {},
     "output_type": "execute_result"
    }
   ],
   "source": [
    "3>6"
   ]
  },
  {
   "cell_type": "code",
   "execution_count": 9,
   "metadata": {},
   "outputs": [
    {
     "name": "stdout",
     "output_type": "stream",
     "text": [
      "True\n"
     ]
    }
   ],
   "source": [
    "if (1==1) and (2+2>3):\n",
    "    print(\"True\")\n",
    "else:\n",
    "    print(\"False\")"
   ]
  },
  {
   "cell_type": "code",
   "execution_count": null,
   "metadata": {},
   "outputs": [],
   "source": [
    "# Boolean Or\n",
    "\n",
    "#L' opérateur ou prend également deux arguments. Il prend la valeur True si l'un de ses arguments (ou les deux) est True et False si les deux arguments sont False .\n"
   ]
  },
  {
   "cell_type": "code",
   "execution_count": 10,
   "metadata": {},
   "outputs": [
    {
     "data": {
      "text/plain": [
       "True"
      ]
     },
     "execution_count": 10,
     "metadata": {},
     "output_type": "execute_result"
    }
   ],
   "source": [
    "1==1 or 2==2"
   ]
  },
  {
   "cell_type": "code",
   "execution_count": 11,
   "metadata": {},
   "outputs": [
    {
     "data": {
      "text/plain": [
       "True"
      ]
     },
     "execution_count": 11,
     "metadata": {},
     "output_type": "execute_result"
    }
   ],
   "source": [
    "1==1 or 2==3"
   ]
  },
  {
   "cell_type": "code",
   "execution_count": 12,
   "metadata": {},
   "outputs": [
    {
     "data": {
      "text/plain": [
       "False"
      ]
     },
     "execution_count": 12,
     "metadata": {},
     "output_type": "execute_result"
    }
   ],
   "source": [
    "2<1 or 3>6"
   ]
  },
  {
   "cell_type": "code",
   "execution_count": 15,
   "metadata": {},
   "outputs": [
    {
     "name": "stdout",
     "output_type": "stream",
     "text": [
      "Welcome\n"
     ]
    }
   ],
   "source": [
    "age = 15\n",
    "money = 500\n",
    "if age > 18 or money > 100:\n",
    "    print(\"Welcome\")"
   ]
  },
  {
   "cell_type": "code",
   "execution_count": null,
   "metadata": {},
   "outputs": [],
   "source": [
    "# Boolean Not\n",
    "\n",
    "# Contrairement aux autres opérateurs que nous avons vus jusqu'à présent, non seulement prend un argument et l'inverse.\n",
    "# Le résultat de not True est False et non False devient True ."
   ]
  },
  {
   "cell_type": "code",
   "execution_count": 16,
   "metadata": {},
   "outputs": [
    {
     "data": {
      "text/plain": [
       "False"
      ]
     },
     "execution_count": 16,
     "metadata": {},
     "output_type": "execute_result"
    }
   ],
   "source": [
    "not 1 == 1"
   ]
  },
  {
   "cell_type": "code",
   "execution_count": 17,
   "metadata": {},
   "outputs": [
    {
     "data": {
      "text/plain": [
       "True"
      ]
     },
     "execution_count": 17,
     "metadata": {},
     "output_type": "execute_result"
    }
   ],
   "source": [
    "not 1 > 7"
   ]
  },
  {
   "cell_type": "code",
   "execution_count": 18,
   "metadata": {},
   "outputs": [
    {
     "data": {
      "text/plain": [
       "True"
      ]
     },
     "execution_count": 18,
     "metadata": {},
     "output_type": "execute_result"
    }
   ],
   "source": [
    "1 == 1"
   ]
  },
  {
   "cell_type": "code",
   "execution_count": 19,
   "metadata": {},
   "outputs": [
    {
     "data": {
      "text/plain": [
       "False"
      ]
     },
     "execution_count": 19,
     "metadata": {},
     "output_type": "execute_result"
    }
   ],
   "source": [
    "1 > 7 "
   ]
  },
  {
   "cell_type": "code",
   "execution_count": null,
   "metadata": {},
   "outputs": [],
   "source": [
    "# Vous pouvez chaîner plusieurs instructions conditionnelles dans une instruction if à l'aide des opérateurs booléens ."
   ]
  },
  {
   "cell_type": "code",
   "execution_count": 20,
   "metadata": {},
   "outputs": [
    {
     "name": "stdout",
     "output_type": "stream",
     "text": [
      "2\n"
     ]
    }
   ],
   "source": [
    "if not True:\n",
    "    print(\"1\")\n",
    "elif not (1+1==3):\n",
    "    print(\"2\")\n",
    "else:\n",
    "    print(\"3\")"
   ]
  },
  {
   "cell_type": "code",
   "execution_count": null,
   "metadata": {},
   "outputs": [],
   "source": [
    "# Operator Precedence\n",
    "\n",
    "# La priorité des opérateurs est un concept très important dans la programmation. C'est une extension de l'idée mathématique d'ordre des opérations (multiplication effectuée avant l'addition, etc.) pour inclure d'autres opérateurs, comme ceux de la logique booléenne .\n",
    "\n",
    "# Le code ci-dessous montre que == a une priorité plus élevée que or :"
   ]
  },
  {
   "cell_type": "code",
   "execution_count": 21,
   "metadata": {},
   "outputs": [
    {
     "data": {
      "text/plain": [
       "True"
      ]
     },
     "execution_count": 21,
     "metadata": {},
     "output_type": "execute_result"
    }
   ],
   "source": [
    "False == False or True"
   ]
  },
  {
   "cell_type": "code",
   "execution_count": 22,
   "metadata": {},
   "outputs": [
    {
     "data": {
      "text/plain": [
       "False"
      ]
     },
     "execution_count": 22,
     "metadata": {},
     "output_type": "execute_result"
    }
   ],
   "source": [
    "False == (False or True)"
   ]
  },
  {
   "cell_type": "code",
   "execution_count": 23,
   "metadata": {},
   "outputs": [
    {
     "data": {
      "text/plain": [
       "True"
      ]
     },
     "execution_count": 23,
     "metadata": {},
     "output_type": "execute_result"
    }
   ],
   "source": [
    "(False == False) or True"
   ]
  },
  {
   "cell_type": "code",
   "execution_count": null,
   "metadata": {},
   "outputs": [],
   "source": [
    "# L'ordre des opérations de Python est le même que celui des mathématiques normales: les parenthèses d'abord, puis l' exponentiation , puis la multiplication / division, puis l'addition / soustraction."
   ]
  },
  {
   "cell_type": "code",
   "execution_count": 24,
   "metadata": {},
   "outputs": [
    {
     "name": "stdout",
     "output_type": "stream",
     "text": [
      "No\n"
     ]
    }
   ],
   "source": [
    "if 1 + 1 * 3 == 6:\n",
    "    print(\"Yes\")\n",
    "else:\n",
    "    print(\"No\")"
   ]
  },
  {
   "cell_type": "code",
   "execution_count": 25,
   "metadata": {},
   "outputs": [
    {
     "name": "stdout",
     "output_type": "stream",
     "text": [
      "Yes\n"
     ]
    }
   ],
   "source": [
    "if (1 + 1) * 3 == 6:\n",
    "    print(\"Yes\")\n",
    "else:\n",
    "    print(\"No\")"
   ]
  },
  {
   "cell_type": "code",
   "execution_count": 26,
   "metadata": {},
   "outputs": [
    {
     "name": "stdout",
     "output_type": "stream",
     "text": [
      "No\n"
     ]
    }
   ],
   "source": [
    "x=4\n",
    "y=2\n",
    "if not 1+1 == y or x==4 and 7==8:\n",
    "    print(\"Yes\")\n",
    "elif x>y:\n",
    "    print(\"No\")"
   ]
  },
  {
   "cell_type": "code",
   "execution_count": null,
   "metadata": {},
   "outputs": [],
   "source": [
    "# while Loops\n",
    "\n",
    "# Une instruction if est exécutée une fois si sa condition est évaluée à True , et jamais si elle est évaluée à False .\n",
    "# Une instruction while est similaire, sauf qu'elle peut être exécutée plusieurs fois. Les instructions qu'il contient sont exécutées à plusieurs reprises, tant que la condition est respectée. Une fois qu'il est évalué à False , la prochaine section de code est exécutée.\n",
    "# Ci - dessous une tandis que la boucle contenant une grandeur qui compte jusqu'à de 1 à 5, à quel point les termine en boucle."
   ]
  }
 ],
 "metadata": {
  "kernelspec": {
   "display_name": "Python 3",
   "language": "python",
   "name": "python3"
  },
  "language_info": {
   "codemirror_mode": {
    "name": "ipython",
    "version": 3
   },
   "file_extension": ".py",
   "mimetype": "text/x-python",
   "name": "python",
   "nbconvert_exporter": "python",
   "pygments_lexer": "ipython3",
   "version": "3.7.6"
  }
 },
 "nbformat": 4,
 "nbformat_minor": 4
}
