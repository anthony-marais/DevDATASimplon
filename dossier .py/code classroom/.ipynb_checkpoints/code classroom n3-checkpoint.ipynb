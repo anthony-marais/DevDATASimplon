{
 "cells": [
  {
   "cell_type": "code",
   "execution_count": 1,
   "metadata": {},
   "outputs": [
    {
     "name": "stdout",
     "output_type": "stream",
     "text": [
      " 1 * 7 = 7\n",
      " 2 * 7 = 14\n",
      " 3 * 7 = 21\n",
      " 4 * 7 = 28\n",
      " 5 * 7 = 35\n",
      " 6 * 7 = 42\n",
      " 7 * 7 = 49\n",
      " 8 * 7 = 56\n",
      " 9 * 7 = 63\n",
      "10 * 7 = 70\n"
     ]
    }
   ],
   "source": [
    "print(\" 1 * 7 =\", 1 * 7)\n",
    "print(\" 2 * 7 =\", 2 * 7)\n",
    "print(\" 3 * 7 =\", 3 * 7)\n",
    "print(\" 4 * 7 =\", 4 * 7)\n",
    "print(\" 5 * 7 =\", 5 * 7)\n",
    "print(\" 6 * 7 =\", 6 * 7)\n",
    "print(\" 7 * 7 =\", 7 * 7)\n",
    "print(\" 8 * 7 =\", 8 * 7)\n",
    "print(\" 9 * 7 =\", 9 * 7)\n",
    "print(\"10 * 7 =\", 10 * 7)"
   ]
  },
  {
   "cell_type": "code",
   "execution_count": 2,
   "metadata": {},
   "outputs": [
    {
     "name": "stdout",
     "output_type": "stream",
     "text": [
      " 1 * 7 = 7\n",
      " 2 * 7 = 14\n",
      " 3 * 7 = 21\n",
      " 4 * 7 = 28\n",
      " 5 * 7 = 35\n",
      " 6 * 7 = 42\n",
      " 7 * 7 = 49\n",
      " 8 * 7 = 56\n",
      " 9 * 7 = 63\n",
      "10 * 7 = 70\n"
     ]
    }
   ],
   "source": [
    "nb = 7\n",
    "print(\" 1 *\", nb, \"=\", 1 * nb)\n",
    "print(\" 2 *\", nb, \"=\", 2 * nb)\n",
    "print(\" 3 *\", nb, \"=\", 3 * nb)\n",
    "print(\" 4 *\", nb, \"=\", 4 * nb)\n",
    "print(\" 5 *\", nb, \"=\", 5 * nb)\n",
    "print(\" 6 *\", nb, \"=\", 6 * nb)\n",
    "print(\" 7 *\", nb, \"=\", 7 * nb)\n",
    "print(\" 8 *\", nb, \"=\", 8 * nb)\n",
    "print(\" 9 *\", nb, \"=\", 9 * nb)\n",
    "print(\"10 *\", nb, \"=\", 10 * nb)"
   ]
  },
  {
   "cell_type": "code",
   "execution_count": 3,
   "metadata": {},
   "outputs": [
    {
     "name": "stdout",
     "output_type": "stream",
     "text": [
      "0 * 5 = 0\n",
      "1 * 5 = 5\n",
      "2 * 5 = 10\n",
      "3 * 5 = 15\n",
      "4 * 5 = 20\n",
      "5 * 5 = 25\n",
      "6 * 5 = 30\n",
      "7 * 5 = 35\n",
      "8 * 5 = 40\n",
      "9 * 5 = 45\n",
      "10 * 5 = 50\n"
     ]
    }
   ],
   "source": [
    "nb = 5 # variable avec contenant le nombre multiplié\n",
    "i = -1 #\n",
    "\n",
    "while i < 10: # tant que le i est strictement inférieur à 10\n",
    "    print(i + 1, \"*\", nb, \"=\",(i+1)*nb)\n",
    "    i += 1 # on incrémente i de 1 à chaque tour de boucle"
   ]
  },
  {
   "cell_type": "code",
   "execution_count": 4,
   "metadata": {},
   "outputs": [
    {
     "name": "stdout",
     "output_type": "stream",
     "text": [
      "H\n",
      "e\n",
      "l\n",
      "l\n",
      "o\n",
      " \n",
      "W\n",
      "o\n",
      "r\n",
      "l\n",
      "d\n",
      " \n",
      "!\n"
     ]
    }
   ],
   "source": [
    "chaine = \"Hello World !\"\n",
    "for lettre in chaine:\n",
    "    print(lettre)"
   ]
  },
  {
   "cell_type": "code",
   "execution_count": 5,
   "metadata": {},
   "outputs": [
    {
     "name": "stdout",
     "output_type": "stream",
     "text": [
      "*\n",
      "e\n",
      "*\n",
      "*\n",
      "o\n",
      "*\n",
      "*\n",
      "o\n",
      "*\n",
      "*\n",
      "*\n",
      "*\n",
      "*\n"
     ]
    }
   ],
   "source": [
    "chaine = \"Hello World !\"\n",
    "for lettre in chaine:\n",
    "    if lettre in \"AEIOUYaeiouy\": # SI lettre est voyelle\n",
    "        print(lettre)\n",
    "    else: # sinon lettre est une consonne (n'est pas une voyelle)\n",
    "        print(\"*\")\n",
    "        "
   ]
  },
  {
   "cell_type": "code",
   "execution_count": null,
   "metadata": {},
   "outputs": [],
   "source": [
    "while 1: # 1 est toujours vrai = boucle infinie\n",
    "    lettre = input(\"Tapez 'Q' pour quitter :\")\n",
    "    if lettre == \"Q\":\n",
    "        print(\"Fin de la boucle\")\n",
    "        break"
   ]
  },
  {
   "cell_type": "code",
   "execution_count": 4,
   "metadata": {},
   "outputs": [
    {
     "name": "stdout",
     "output_type": "stream",
     "text": [
      "La variable u = 1\n",
      "La variable u = 2\n",
      "On incrémente u de 4. u est maintenant égale à 7\n",
      "La variable u = 7\n",
      "La variable u = 8\n",
      "On incrémente u de 4. u est maintenant égale à 13\n",
      "La variable u = 13\n",
      "La variable u = 14\n",
      "On incrémente u de 4. u est maintenant égale à 19\n",
      "La variable u = 19\n"
     ]
    }
   ],
   "source": [
    "u = 1\n",
    "while u < 20: # Tant que u est plus petit que 20\n",
    "    if u % 3 == 0:\n",
    "        u += 4 # On ajoute 4 a u\n",
    "        print(\"On incrémente u de 4. u est maintenant égale à\", u)\n",
    "        continue # On retourne au while sans exécuter les autres lignes\n",
    "    print(\"La variable u =\", u)\n",
    "    u += 1 # Dans le cas classique on ajoute juste 1 a u"
   ]
  }
 ],
 "metadata": {
  "kernelspec": {
   "display_name": "Python 3",
   "language": "python",
   "name": "python3"
  },
  "language_info": {
   "codemirror_mode": {
    "name": "ipython",
    "version": 3
   },
   "file_extension": ".py",
   "mimetype": "text/x-python",
   "name": "python",
   "nbconvert_exporter": "python",
   "pygments_lexer": "ipython3",
   "version": "3.7.6"
  }
 },
 "nbformat": 4,
 "nbformat_minor": 4
}
