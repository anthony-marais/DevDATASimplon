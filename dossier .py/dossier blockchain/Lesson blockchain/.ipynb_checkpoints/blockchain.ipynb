{
 "metadata": {
  "language_info": {
   "codemirror_mode": {
    "name": "ipython",
    "version": 3
   },
   "file_extension": ".py",
   "mimetype": "text/x-python",
   "name": "python",
   "nbconvert_exporter": "python",
   "pygments_lexer": "ipython3",
   "version": "3.8.3-final"
  },
  "orig_nbformat": 2,
  "kernelspec": {
   "name": "python38364bitbase551ecd6c82244bf6af01fcf12b5dc095",
   "display_name": "Python 3.8.3 64-bit ('base')"
  }
 },
 "nbformat": 4,
 "nbformat_minor": 2,
 "cells": [
  {
   "cell_type": "code",
   "execution_count": 8,
   "metadata": {},
   "outputs": [
    {
     "output_type": "stream",
     "name": "stdout",
     "text": [
      "Hello Anthony\n"
     ]
    }
   ],
   "source": [
    "def Hello():\n",
    "    name=input(\"What is your name ?\")\n",
    "    print(\"Hello \" + name)\n",
    "Hello()"
   ]
  },
  {
   "cell_type": "code",
   "execution_count": 5,
   "metadata": {},
   "outputs": [
    {
     "output_type": "stream",
     "name": "stdout",
     "text": [
      "Please choose\n",
      "1: Add a new transaction value\n",
      "2: Output the blockchain blocks\n",
      "q: Quit\n",
      "Choice registered!\n",
      "Please choose\n",
      "1: Add a new transaction value\n",
      "2: Output the blockchain blocks\n",
      "q: Quit\n",
      "Choice registered!\n",
      "Please choose\n",
      "1: Add a new transaction value\n",
      "2: Output the blockchain blocks\n",
      "q: Quit\n",
      "Outputting Block\n",
      "[[1], 10.0]\n",
      "Choice registered!\n",
      "Please choose\n",
      "1: Add a new transaction value\n",
      "2: Output the blockchain blocks\n",
      "q: Quit\n",
      "Done!\n"
     ]
    }
   ],
   "source": [
    "# Initializing our (empty) blockchain list\n",
    "\n",
    "blockchain = []\n",
    "\n",
    "\n",
    "def get_last_blockchain_value():\n",
    "\n",
    "    \"\"\" Returns the last value of the current blockchain. \"\"\"\n",
    "    if len(blockchain) <= 1:\n",
    "        return None\n",
    "    \n",
    "    return blockchain[-1]\n",
    "\n",
    "# This function accepts two arguments\n",
    "# One required one (transaction_amount) and one optional one (last_transaction)\n",
    "# The optional one is optional because it has a default value => [1]\n",
    "\n",
    "\n",
    "def add_transaction(transaction_amount, last_transaction=[1]):\n",
    "    \"\"\" Append a new value as well as the last blockchain value to the blockchain.       \n",
    "    Arguments:\n",
    "        :transaction_amount: The amount that should be added\n",
    "        :last_transaction: The last blockchain transaction (default [1]).\n",
    "\n",
    "    \"\"\"\n",
    "    if last_transaction == None:\n",
    "        last_transaction = [1]\n",
    "    blockchain.append([last_transaction, transaction_amount])\n",
    "    \n",
    "\n",
    "def get_transaction_value():\n",
    "    \"\"\" Returns the input of the user ( a new transaction amount) as a float. \"\"\"\n",
    "    # Get the user input, transform it from a string to a float an store it\n",
    "    user_input = float(input('Your transaction amount please: '))\n",
    "    return user_input\n",
    "\n",
    "def get_user_choice():\n",
    "    user_input = input('Your choice: ')\n",
    "    return user_input\n",
    "\n",
    "def print_blockchain_elements():\n",
    "    # Output the blockchain list to the console\n",
    "    for block in blockchain:\n",
    "        print('Outputting Block')\n",
    "        print(block)\n",
    "\n",
    "\n",
    "\n",
    "\n",
    "\n",
    "\n",
    "while True:\n",
    "    \n",
    "    print(\"Please choose\")\n",
    "    print(\"1: Add a new transaction value\")\n",
    "    print(\"2: Output the blockchain blocks\")\n",
    "    print(\"q: Quit\")\n",
    "    user_choice = get_user_choice()\n",
    "    \n",
    "    if user_choice == '1':\n",
    "        \n",
    "        tx_amount = get_transaction_value()\n",
    "        add_transaction(tx_amount , get_last_blockchain_value())\n",
    "\n",
    "    elif user_choice == \"2\":\n",
    "        print_blockchain_elements()\n",
    "    elif user_choice == \"q\":\n",
    "        break\n",
    "    \n",
    "    else:\n",
    "        print('Input was invalid, please pick a value from the list!')\n",
    "    print(\"Choice registered!\")\n",
    "print('Done!')"
   ]
  },
  {
   "cell_type": "code",
   "execution_count": null,
   "metadata": {},
   "outputs": [],
   "source": []
  }
 ]
}