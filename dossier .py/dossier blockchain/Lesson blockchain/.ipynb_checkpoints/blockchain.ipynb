{
 "metadata": {
  "language_info": {
   "codemirror_mode": {
    "name": "ipython",
    "version": 3
   },
   "file_extension": ".py",
   "mimetype": "text/x-python",
   "name": "python",
   "nbconvert_exporter": "python",
   "pygments_lexer": "ipython3",
   "version": "3.8.3-final"
  },
  "orig_nbformat": 2,
  "kernelspec": {
   "name": "python38364bitbase551ecd6c82244bf6af01fcf12b5dc095",
   "display_name": "Python 3.8.3 64-bit ('base')"
  }
 },
 "nbformat": 4,
 "nbformat_minor": 2,
 "cells": [
  {
   "cell_type": "code",
   "execution_count": 4,
   "metadata": {},
   "outputs": [
    {
     "output_type": "error",
     "ename": "SyntaxError",
     "evalue": "invalid syntax (<ipython-input-4-e467975d2657>, line 9)",
     "traceback": [
      "\u001b[0;36m  File \u001b[0;32m\"<ipython-input-4-e467975d2657>\"\u001b[0;36m, line \u001b[0;32m9\u001b[0m\n\u001b[0;31m    if len(blockchain) =< 1:\u001b[0m\n\u001b[0m                       ^\u001b[0m\n\u001b[0;31mSyntaxError\u001b[0m\u001b[0;31m:\u001b[0m invalid syntax\n"
     ]
    }
   ],
   "source": [
    "# Initializing our (empty) blockchain list\n",
    "\n",
    "blockchain = []\n",
    "\n",
    "\n",
    "def get_last_blockchain_value():\n",
    "\n",
    "    \"\"\" Returns the last value of the current blockchain. \"\"\"\n",
    "    if len(blockchain) <= 1:\n",
    "        return None\n",
    "    \n",
    "    return blockchain[-1]\n",
    "\n",
    "# This function accepts two arguments\n",
    "# One required one (transaction_amount) and one optional one (last_transaction)\n",
    "# The optional one is optional because it has a default value => [1]\n",
    "\n",
    "\n",
    "def add_transaction(transaction_amount, last_transaction=[1]):\n",
    "    \"\"\" Append a new value as well as the last blockchain value to the blockchain.       \n",
    "    Arguments:\n",
    "        :transaction_amount: The amount that should be added\n",
    "        :last_transaction: The last blockchain transaction (default [1]).\n",
    "\n",
    "    \"\"\"\n",
    "    if last_transaction == None:\n",
    "        last_transaction = [1]\n",
    "    blockchain.append([last_transaction, transaction_amount])\n",
    "    \n",
    "\n",
    "def get_transaction_value():\n",
    "    \"\"\" Returns the input of the user ( a new transaction amount) as a float. \"\"\"\n",
    "    # Get the user input, transform it from a string to a float an store it\n",
    "    user_input = float(input('Your transaction amount please: '))\n",
    "    return user_input\n",
    "\n",
    "def get_user_choice():\n",
    "    user_input = input('Your choice: ')\n",
    "    return user_input\n",
    "\n",
    "def print_blockchain_elements():\n",
    "    # Output the blockchain list to the console\n",
    "    for block in blockchain:\n",
    "        print('Outputting Block')\n",
    "        print(block)\n",
    "\n",
    "\n",
    "\n",
    "\n",
    "\n",
    "\n",
    "while True:\n",
    "    \n",
    "    print(\"Please choose\")\n",
    "    print(\"1: Add a new transaction value\")\n",
    "    print(\"2: Output the blockchain blocks\")\n",
    "    print(\"q: Quit\")\n",
    "    user_choice = get_user_choice()\n",
    "    \n",
    "    if user_choice == '1':\n",
    "        \n",
    "        tx_amount = get_transaction_value()\n",
    "        add_transaction(tx_amount , get_last_blockchain_value())\n",
    "\n",
    "    elif user_choice == \"2\":\n",
    "        print_blockchain_elements()\n",
    "    elif user_choice == \"q\":\n",
    "        break\n",
    "    \n",
    "    else:\n",
    "        print('Input was invalid, please pick a value from the list!')\n",
    "    print(\"Choice registered!\")\n",
    "print('Done!')"
   ]
  },
  {
   "cell_type": "code",
   "execution_count": 15,
   "metadata": {},
   "outputs": [
    {
     "output_type": "stream",
     "name": "stdout",
     "text": [
      "Hello Max\n"
     ]
    }
   ],
   "source": [
    "def greet(name):\n",
    "    print(\"Hello \" + name)\n",
    "\n",
    "greet('Max')"
   ]
  },
  {
   "cell_type": "code",
   "execution_count": null,
   "metadata": {},
   "outputs": [],
   "source": []
  }
 ]
}