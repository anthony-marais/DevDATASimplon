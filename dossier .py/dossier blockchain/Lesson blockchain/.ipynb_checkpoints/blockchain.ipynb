{
 "metadata": {
  "language_info": {
   "codemirror_mode": {
    "name": "ipython",
    "version": 3
   },
   "file_extension": ".py",
   "mimetype": "text/x-python",
   "name": "python",
   "nbconvert_exporter": "python",
   "pygments_lexer": "ipython3",
   "version": "3.8.3-final"
  },
  "orig_nbformat": 2,
  "kernelspec": {
   "name": "python38364bitbase551ecd6c82244bf6af01fcf12b5dc095",
   "display_name": "Python 3.8.3 64-bit ('base')"
  }
 },
 "nbformat": 4,
 "nbformat_minor": 2,
 "cells": [
  {
   "cell_type": "code",
   "execution_count": 19,
   "metadata": {},
   "outputs": [
    {
     "output_type": "error",
     "ename": "ValueError",
     "evalue": "could not convert string to float: ''",
     "traceback": [
      "\u001b[0;31m---------------------------------------------------------------------------\u001b[0m",
      "\u001b[0;31mValueError\u001b[0m                                Traceback (most recent call last)",
      "\u001b[0;32m<ipython-input-19-d03fba0c0bdb>\u001b[0m in \u001b[0;36m<module>\u001b[0;34m\u001b[0m\n\u001b[1;32m     33\u001b[0m \u001b[0;34m\u001b[0m\u001b[0m\n\u001b[1;32m     34\u001b[0m \u001b[0;31m# Get the first transaction and add the value to the blockchain\u001b[0m\u001b[0;34m\u001b[0m\u001b[0;34m\u001b[0m\u001b[0;34m\u001b[0m\u001b[0m\n\u001b[0;32m---> 35\u001b[0;31m \u001b[0mtx_amount\u001b[0m \u001b[0;34m=\u001b[0m \u001b[0mget_user_input\u001b[0m\u001b[0;34m(\u001b[0m\u001b[0;34m)\u001b[0m\u001b[0;34m\u001b[0m\u001b[0;34m\u001b[0m\u001b[0m\n\u001b[0m\u001b[1;32m     36\u001b[0m \u001b[0madd_value\u001b[0m\u001b[0;34m(\u001b[0m\u001b[0mtx_amount\u001b[0m\u001b[0;34m)\u001b[0m\u001b[0;34m\u001b[0m\u001b[0;34m\u001b[0m\u001b[0m\n\u001b[1;32m     37\u001b[0m \u001b[0;34m\u001b[0m\u001b[0m\n",
      "\u001b[0;32m<ipython-input-19-d03fba0c0bdb>\u001b[0m in \u001b[0;36mget_user_input\u001b[0;34m()\u001b[0m\n\u001b[1;32m     28\u001b[0m     \u001b[0;34m\"\"\" Returns the input of the user ( a new transaction amount) as a float. \"\"\"\u001b[0m\u001b[0;34m\u001b[0m\u001b[0;34m\u001b[0m\u001b[0m\n\u001b[1;32m     29\u001b[0m     \u001b[0;31m# Get the user input, transform it from a string to a float an store it\u001b[0m\u001b[0;34m\u001b[0m\u001b[0;34m\u001b[0m\u001b[0;34m\u001b[0m\u001b[0m\n\u001b[0;32m---> 30\u001b[0;31m     \u001b[0muser_input\u001b[0m \u001b[0;34m=\u001b[0m \u001b[0mfloat\u001b[0m\u001b[0;34m(\u001b[0m\u001b[0minput\u001b[0m\u001b[0;34m(\u001b[0m\u001b[0;34m'Your transaction amount please: '\u001b[0m\u001b[0;34m)\u001b[0m\u001b[0;34m)\u001b[0m\u001b[0;34m\u001b[0m\u001b[0;34m\u001b[0m\u001b[0m\n\u001b[0m\u001b[1;32m     31\u001b[0m     \u001b[0;32mreturn\u001b[0m \u001b[0muser_input\u001b[0m\u001b[0;34m\u001b[0m\u001b[0;34m\u001b[0m\u001b[0m\n\u001b[1;32m     32\u001b[0m \u001b[0;34m\u001b[0m\u001b[0m\n",
      "\u001b[0;31mValueError\u001b[0m: could not convert string to float: ''"
     ]
    }
   ],
   "source": [
    "# Initializing our (empty) blockchain list\n",
    "\n",
    "blockchain = []\n",
    "\n",
    "\n",
    "def get_last_blockchain_value():\n",
    "\n",
    "    \"\"\" Returns the last value of the current blockchain. \"\"\"\n",
    "    return blockchain[-1]\n",
    "\n",
    "# This function accepts two arguments\n",
    "# One required one (transaction_amount) and one optional one (last_transaction)\n",
    "# The optional one is optional because it has a default value => [1]\n",
    "\n",
    "\n",
    "def add_value(transaction_amount, last_transaction=[1]):\n",
    "    \"\"\" Append a new value as well as the elast blockchain value to the blockchain.       \n",
    "    Arguments:\n",
    "        :transaction_amount: The amount that should be added\n",
    "        :last_transaction: The last blockchain transaction (default [1]).\n",
    "\n",
    "    \"\"\"\n",
    "\n",
    "    blockchain.append([last_transaction, transaction_amount])\n",
    "    \n",
    "\n",
    "def get_user_input():\n",
    "    \"\"\" Returns the input of the user ( a new transaction amount) as a float. \"\"\"\n",
    "    # Get the user input, transform it from a string to a float an store it\n",
    "    user_input = float(input('Your transaction amount please: '))\n",
    "    return user_input\n",
    "\n",
    "\n",
    "# Get the first transaction and add the value to the blockchain\n",
    "tx_amount = get_user_input() \n",
    "add_value(tx_amount)\n",
    "\n",
    "\n",
    "while True:\n",
    "    tx_amount = get_user_input()\n",
    "    add_value(tx_amount , get_last_blockchain_value())\n",
    "\n",
    "    \n",
    "    # Output the blockchain list to the console\n",
    "    for block in blockchain:\n",
    "        print('Outputting Block')\n",
    "        print(block)\n",
    "\n",
    "\n",
    "print('Done!')"
   ]
  },
  {
   "cell_type": "code",
   "execution_count": 15,
   "metadata": {},
   "outputs": [
    {
     "output_type": "stream",
     "name": "stdout",
     "text": [
      "Hello Max\n"
     ]
    }
   ],
   "source": [
    "def greet(name):\n",
    "    print(\"Hello \" + name)\n",
    "\n",
    "greet('Max')"
   ]
  },
  {
   "cell_type": "code",
   "execution_count": null,
   "metadata": {},
   "outputs": [],
   "source": []
  }
 ]
}