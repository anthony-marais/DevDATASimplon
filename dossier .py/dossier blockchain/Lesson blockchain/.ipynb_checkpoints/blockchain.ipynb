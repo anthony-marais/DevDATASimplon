{
 "metadata": {
  "language_info": {
   "codemirror_mode": {
    "name": "ipython",
    "version": 3
   },
   "file_extension": ".py",
   "mimetype": "text/x-python",
   "name": "python",
   "nbconvert_exporter": "python",
   "pygments_lexer": "ipython3",
   "version": "3.8.3-final"
  },
  "orig_nbformat": 2,
  "kernelspec": {
   "name": "python38364bitbase551ecd6c82244bf6af01fcf12b5dc095",
   "display_name": "Python 3.8.3 64-bit ('base')"
  }
 },
 "nbformat": 4,
 "nbformat_minor": 2,
 "cells": [
  {
   "cell_type": "code",
   "execution_count": 11,
   "metadata": {},
   "outputs": [
    {
     "output_type": "stream",
     "name": "stdout",
     "text": [
      "[[[1], 100.0], [[[1], 100.0], 200.0], [[[[1], 100.0], 200.0], 300.0]]\n"
     ]
    }
   ],
   "source": [
    "# Initializing our blockchain list\n",
    "\n",
    "blockchain = []\n",
    "\n",
    "\n",
    "def get_last_blockchain_value():\n",
    "\n",
    "    \"\"\" Returns the last value of the current blockchain. \"\"\"\n",
    "    return blockchain[-1]\n",
    "\n",
    "\n",
    "\n",
    "def add_value(transaction_amount, last_transaction=[1]):\n",
    "    \"\"\" Append a new value as well as the elast blockchain value to the blockchain.       \n",
    "    Arguments:\n",
    "        :transaction_amount: The amount that should be added\n",
    "        :last_transaction: The last blockchain transaction (default [1]).\n",
    "\n",
    "    \"\"\"\n",
    "\n",
    "    blockchain.append([last_transaction, transaction_amount])\n",
    "    \n",
    "\n",
    "def get_user_input():\n",
    "    \"\"\" Returns the input of the user ( a new transaction amount) as a float. \"\"\"\n",
    "    \n",
    "    user_input = float(input('Your transaction amount please: '))\n",
    "    return user_input\n",
    "\n",
    "\n",
    "tx_amount = get_user_input() \n",
    "add_value(tx_amount)\n",
    "\n",
    "tx_amount = get_user_input() \n",
    "add_value(last_transaction=get_last_blockchain_value(),transaction_amount=tx_amount)\n",
    "\n",
    "tx_amount = get_user_input() \n",
    "add_value(tx_amount , get_last_blockchain_value())\n",
    "\n",
    "print(blockchain)"
   ]
  },
  {
   "cell_type": "code",
   "execution_count": 15,
   "metadata": {},
   "outputs": [
    {
     "output_type": "stream",
     "name": "stdout",
     "text": [
      "Hello Max\n"
     ]
    }
   ],
   "source": [
    "def greet(name):\n",
    "    print(\"Hello \" + name)\n",
    "\n",
    "greet('Max')"
   ]
  },
  {
   "cell_type": "code",
   "execution_count": null,
   "metadata": {},
   "outputs": [],
   "source": []
  }
 ]
}