{
 "metadata": {
  "language_info": {
   "codemirror_mode": {
    "name": "ipython",
    "version": 3
   },
   "file_extension": ".py",
   "mimetype": "text/x-python",
   "name": "python",
   "nbconvert_exporter": "python",
   "pygments_lexer": "ipython3",
   "version": "3.8.3-final"
  },
  "orig_nbformat": 2,
  "kernelspec": {
   "name": "python38364bitbase551ecd6c82244bf6af01fcf12b5dc095",
   "display_name": "Python 3.8.3 64-bit ('base')"
  }
 },
 "nbformat": 4,
 "nbformat_minor": 2,
 "cells": [
  {
   "cell_type": "code",
   "execution_count": 6,
   "metadata": {},
   "outputs": [
    {
     "output_type": "stream",
     "name": "stdout",
     "text": [
      "[[1], [[1], 100.0], [[[1], 100.0], 200.0], [[[[1], 100.0], 200.0], 300.0]]\n"
     ]
    }
   ],
   "source": [
    "blockchain = [[1]]\n",
    "\n",
    "\n",
    "def get_last_blockchain_value():\n",
    "    return blockchain[-1]\n",
    "\n",
    "\n",
    "\n",
    "def add_value(transaction_amount, last_transaction=[1]):\n",
    "    blockchain.append([last_transaction, transaction_amount])\n",
    "    \n",
    "\n",
    "def get_user_input():\n",
    "   return float(input('Your transaction amount please: '))\n",
    "\n",
    "\n",
    "\n",
    "tx_amount = get_user_input() \n",
    "add_value(tx_amount)\n",
    "\n",
    "tx_amount = get_user_input() \n",
    "add_value(last_transaction=get_last_blockchain_value(),transaction_amount=tx_amount)\n",
    "\n",
    "tx_amount = get_user_input() \n",
    "add_value(tx_amount , get_last_blockchain_value())\n",
    "\n",
    "print(blockchain)\n",
    "\n",
    "\n",
    "\n",
    "\n",
    "\n"
   ]
  },
  {
   "cell_type": "code",
   "execution_count": 15,
   "metadata": {},
   "outputs": [
    {
     "output_type": "stream",
     "name": "stdout",
     "text": [
      "Hello Max\n"
     ]
    }
   ],
   "source": [
    "def greet(name):\n",
    "    print(\"Hello \" + name)\n",
    "\n",
    "greet('Max')"
   ]
  },
  {
   "cell_type": "code",
   "execution_count": null,
   "metadata": {},
   "outputs": [],
   "source": []
  }
 ]
}