{
 "metadata": {
  "language_info": {
   "codemirror_mode": {
    "name": "ipython",
    "version": 3
   },
   "file_extension": ".py",
   "mimetype": "text/x-python",
   "name": "python",
   "nbconvert_exporter": "python",
   "pygments_lexer": "ipython3",
   "version": "3.8.3-final"
  },
  "orig_nbformat": 2,
  "kernelspec": {
   "name": "python3",
   "display_name": "Python 3"
  }
 },
 "nbformat": 4,
 "nbformat_minor": 2,
 "cells": [
  {
   "cell_type": "code",
   "execution_count": 25,
   "metadata": {},
   "outputs": [
    {
     "output_type": "error",
     "ename": "SyntaxError",
     "evalue": "invalid syntax (<ipython-input-25-0e8cabcea212>, line 1)",
     "traceback": [
      "\u001b[0;36m  File \u001b[0;32m\"<ipython-input-25-0e8cabcea212>\"\u001b[0;36m, line \u001b[0;32m1\u001b[0m\n\u001b[0;31m    https://www.pyscoop.com/building-a-simple-blockchain-in-python/\u001b[0m\n\u001b[0m          ^\u001b[0m\n\u001b[0;31mSyntaxError\u001b[0m\u001b[0;31m:\u001b[0m invalid syntax\n"
     ]
    }
   ],
   "source": [
    "https://www.pyscoop.com/building-a-simple-blockchain-in-python/\n",
    "\n",
    "https://www.pyscoop.com/building-a-simple-blockchain-in-python-part-2/"
   ]
  },
  {
   "cell_type": "code",
   "execution_count": 17,
   "metadata": {},
   "outputs": [],
   "source": [
    "## import librairies for client blockchains"
   ]
  },
  {
   "cell_type": "code",
   "execution_count": 27,
   "metadata": {},
   "outputs": [],
   "source": [
    "import time\n",
    "import hashlib\n",
    "\n",
    "\n",
    "class Block(object):\n",
    "\n",
    "    def __init__(self, index, proof, previous_hash, transactions, timestamp=None):\n",
    "        self.index = index\n",
    "        self.proof = proof\n",
    "        self.previous_hash = previous_hash\n",
    "        self.transactions = transactions\n",
    "        self.timestamp = timestamp or time.time()\n",
    "\n",
    "    @property\n",
    "    def get_block_hash(self):\n",
    "        block_string = \"{}{}{}{}{}\".format(self.index, self.proof, self.previous_hash, self.transactions, self.timestamp)\n",
    "        return hashlib.sha256(block_string.encode()).hexdigest()\n",
    "\n",
    "    def __repr__(self):\n",
    "        return \"{} - {} - {} - {} - {}\".format(self.index, self.proof, self.previous_hash, self.transactions, self.timestamp)\n",
    "\n",
    "\n",
    "class BlockChain(object):\n",
    "\n",
    "    def __init__(self):\n",
    "        self.chain = []\n",
    "        self.current_node_transactions = []\n",
    "        self.nodes = set()\n",
    "        self.create_genesis_block()\n",
    "\n",
    "    @property\n",
    "    def get_serialized_chain(self):\n",
    "        return [vars(block) for block in self.chain]\n",
    "\n",
    "    def create_genesis_block(self):\n",
    "        self.create_new_block(proof=0, previous_hash=0)\n",
    "\n",
    "    def create_new_block(self, proof, previous_hash):\n",
    "        block = Block(\n",
    "            index=len(self.chain),\n",
    "            proof=proof,\n",
    "            previous_hash=previous_hash,\n",
    "            transactions=self.current_node_transactions\n",
    "        )\n",
    "        self.current_node_transactions = []  # Reset the transaction list\n",
    "\n",
    "        self.chain.append(block)\n",
    "        return block\n",
    "\n",
    "    @staticmethod\n",
    "    def is_valid_block(block, previous_block):\n",
    "        if previous_block.index + 1 != block.index:\n",
    "            return False\n",
    "\n",
    "        elif previous_block.get_block_hash != block.previous_hash:\n",
    "            return False\n",
    "\n",
    "        elif not BlockChain.is_valid_proof(block.proof, previous_block.proof):\n",
    "            return False\n",
    "\n",
    "        elif block.timestamp <= previous_block.timestamp:\n",
    "            return False\n",
    "\n",
    "        return True\n",
    "\n",
    "    def create_new_transaction(self, sender, recipient, amount):\n",
    "        self.current_node_transactions.append({\n",
    "            'sender': sender,\n",
    "            'recipient': recipient,\n",
    "            'amount': amount\n",
    "        })\n",
    "        return True\n",
    "\n",
    "    @staticmethod\n",
    "    def is_valid_transaction():\n",
    "        # Not Implemented\n",
    "        pass\n",
    "\n",
    "    @staticmethod\n",
    "    def create_proof_of_work(previous_proof):\n",
    "        \"\"\"\n",
    "        Generate \"Proof Of Work\"\n",
    "        A very simple `Proof of Work` Algorithm -\n",
    "            - Find a number such that, sum of the number and previous POW number is divisible by 7\n",
    "        \"\"\"\n",
    "        proof = previous_proof + 1\n",
    "        while not BlockChain.is_valid_proof(proof, previous_proof):\n",
    "            proof += 1\n",
    "\n",
    "        return proof\n",
    "\n",
    "    @staticmethod\n",
    "    def is_valid_proof(proof, previous_proof):\n",
    "        return (proof + previous_proof) % 7 == 0\n",
    "\n",
    "    @property\n",
    "    def get_last_block(self):\n",
    "        return self.chain[-1]\n",
    "\n",
    "    def is_valid_chain(self):\n",
    "        \"\"\"\n",
    "        Check if given blockchain is valid\n",
    "        \"\"\"\n",
    "        previous_block = self.chain[0]\n",
    "        current_index = 1\n",
    "\n",
    "        while current_index < len(self.chain):\n",
    "\n",
    "            block = self.chain[current_index]\n",
    "\n",
    "            if not self.is_valid_block(block, previous_block):\n",
    "                return False\n",
    "\n",
    "            previous_block = block\n",
    "            current_index += 1\n",
    "\n",
    "        return True\n",
    "\n",
    "    def mine_block(self, miner_address):\n",
    "        # Sender \"0\" means that this node has mined a new block\n",
    "        # For mining the Block(or finding the proof), we must be awarded with some amount(in our case this is 1)\n",
    "        self.create_new_transaction(\n",
    "            sender=\"0\",\n",
    "            recipient=miner_address,\n",
    "            amount=1,\n",
    "        )\n",
    "\n",
    "        last_block = self.get_last_block\n",
    "\n",
    "        last_proof = last_block.proof\n",
    "        proof = self.create_proof_of_work(last_proof)\n",
    "\n",
    "        last_hash = last_block.get_block_hash\n",
    "        block = self.create_new_block(proof, last_hash)\n",
    "\n",
    "        return vars(block)  # Return a native Dict type object\n",
    "\n",
    "    def create_node(self, address):\n",
    "        self.nodes.add(address)\n",
    "        return True\n",
    "\n",
    "    @staticmethod\n",
    "    def get_block_object_from_block_data(block_data):\n",
    "        return Block(\n",
    "            block_data['index'],\n",
    "            block_data['proof'],\n",
    "            block_data['previous_hash'],\n",
    "            block_data['transactions'],\n",
    "            timestamp=block_data['timestamp']\n",
    "        )"
   ]
  },
  {
   "cell_type": "code",
   "execution_count": 28,
   "metadata": {},
   "outputs": [
    {
     "output_type": "stream",
     "name": "stdout",
     "text": [
      ">>>>> Before Mining...\n[0 - 0 - 0 - [] - 1603729935.6986682]\n>>>>> After Mining...\n[0 - 0 - 0 - [] - 1603729935.6986682, 1 - 7 - 820f6244498f9b501c6cf572da5f497a40c7f6662abf502bf646008cced21642 - [{'sender': '0', 'recipient': 'address_x', 'amount': 1}] - 1603729935.700188]\n"
     ]
    }
   ],
   "source": [
    "blockchain = BlockChain()  \n",
    "  \n",
    "print(\">>>>> Before Mining...\")  \n",
    "print(blockchain.chain)  \n",
    "  \n",
    "last_block = blockchain.get_last_block  \n",
    "last_proof = last_block.proof  \n",
    "proof = blockchain.create_proof_of_work(last_proof)  \n",
    "\n",
    "# Sender \"0\" means that this node has mined a new block  \n",
    "# For mining the Block(or finding the proof), we must be awarded with some amount(in our case this is 1)  \n",
    "\n",
    "blockchain.create_new_transaction(  \n",
    "    sender=\"0\",  \n",
    "    recipient=\"address_x\",  \n",
    "    amount=1,  \n",
    ")  \n",
    "\n",
    "last_hash = last_block.get_block_hash  \n",
    "block = blockchain.create_new_block(proof, last_hash)  \n",
    "  \n",
    "print(\">>>>> After Mining...\")  \n",
    "print(blockchain.chain)"
   ]
  },
  {
   "cell_type": "code",
   "execution_count": 29,
   "metadata": {},
   "outputs": [
    {
     "output_type": "stream",
     "name": "stdout",
     "text": [
      " * Serving Flask app \"__main__\" (lazy loading)\n",
      " * Environment: production\n",
      "\u001b[31m   WARNING: This is a development server. Do not use it in a production deployment.\u001b[0m\n",
      "\u001b[2m   Use a production WSGI server instead.\u001b[0m\n",
      " * Debug mode: on\n"
     ]
    },
    {
     "output_type": "error",
     "ename": "OSError",
     "evalue": "[Errno 98] Address already in use",
     "traceback": [
      "\u001b[0;31m---------------------------------------------------------------------------\u001b[0m",
      "\u001b[0;31mOSError\u001b[0m                                   Traceback (most recent call last)",
      "\u001b[0;32m<ipython-input-29-b7d09c4aec0d>\u001b[0m in \u001b[0;36m<module>\u001b[0;34m\u001b[0m\n\u001b[1;32m     16\u001b[0m     \u001b[0;32mpass\u001b[0m\u001b[0;34m\u001b[0m\u001b[0;34m\u001b[0m\u001b[0m\n\u001b[1;32m     17\u001b[0m \u001b[0;34m\u001b[0m\u001b[0m\n\u001b[0;32m---> 18\u001b[0;31m \u001b[0mapp\u001b[0m\u001b[0;34m.\u001b[0m\u001b[0mrun\u001b[0m\u001b[0;34m(\u001b[0m\u001b[0mdebug\u001b[0m\u001b[0;34m=\u001b[0m\u001b[0;32mTrue\u001b[0m\u001b[0;34m)\u001b[0m\u001b[0;34m\u001b[0m\u001b[0;34m\u001b[0m\u001b[0m\n\u001b[0m\u001b[1;32m     19\u001b[0m \u001b[0;34m\u001b[0m\u001b[0m\n\u001b[1;32m     20\u001b[0m \u001b[0;32mfrom\u001b[0m \u001b[0margparse\u001b[0m \u001b[0;32mimport\u001b[0m \u001b[0mArgumentParser\u001b[0m\u001b[0;34m\u001b[0m\u001b[0;34m\u001b[0m\u001b[0m\n",
      "\u001b[0;32m~/anaconda3/lib/python3.8/site-packages/flask/app.py\u001b[0m in \u001b[0;36mrun\u001b[0;34m(self, host, port, debug, load_dotenv, **options)\u001b[0m\n\u001b[1;32m    988\u001b[0m \u001b[0;34m\u001b[0m\u001b[0m\n\u001b[1;32m    989\u001b[0m         \u001b[0;32mtry\u001b[0m\u001b[0;34m:\u001b[0m\u001b[0;34m\u001b[0m\u001b[0;34m\u001b[0m\u001b[0m\n\u001b[0;32m--> 990\u001b[0;31m             \u001b[0mrun_simple\u001b[0m\u001b[0;34m(\u001b[0m\u001b[0mhost\u001b[0m\u001b[0;34m,\u001b[0m \u001b[0mport\u001b[0m\u001b[0;34m,\u001b[0m \u001b[0mself\u001b[0m\u001b[0;34m,\u001b[0m \u001b[0;34m**\u001b[0m\u001b[0moptions\u001b[0m\u001b[0;34m)\u001b[0m\u001b[0;34m\u001b[0m\u001b[0;34m\u001b[0m\u001b[0m\n\u001b[0m\u001b[1;32m    991\u001b[0m         \u001b[0;32mfinally\u001b[0m\u001b[0;34m:\u001b[0m\u001b[0;34m\u001b[0m\u001b[0;34m\u001b[0m\u001b[0m\n\u001b[1;32m    992\u001b[0m             \u001b[0;31m# reset the first request information if the development server\u001b[0m\u001b[0;34m\u001b[0m\u001b[0;34m\u001b[0m\u001b[0;34m\u001b[0m\u001b[0m\n",
      "\u001b[0;32m~/anaconda3/lib/python3.8/site-packages/werkzeug/serving.py\u001b[0m in \u001b[0;36mrun_simple\u001b[0;34m(hostname, port, application, use_reloader, use_debugger, use_evalex, extra_files, reloader_interval, reloader_type, threaded, processes, request_handler, static_files, passthrough_errors, ssl_context)\u001b[0m\n\u001b[1;32m   1028\u001b[0m             \u001b[0ms\u001b[0m \u001b[0;34m=\u001b[0m \u001b[0msocket\u001b[0m\u001b[0;34m.\u001b[0m\u001b[0msocket\u001b[0m\u001b[0;34m(\u001b[0m\u001b[0maddress_family\u001b[0m\u001b[0;34m,\u001b[0m \u001b[0msocket\u001b[0m\u001b[0;34m.\u001b[0m\u001b[0mSOCK_STREAM\u001b[0m\u001b[0;34m)\u001b[0m\u001b[0;34m\u001b[0m\u001b[0;34m\u001b[0m\u001b[0m\n\u001b[1;32m   1029\u001b[0m             \u001b[0ms\u001b[0m\u001b[0;34m.\u001b[0m\u001b[0msetsockopt\u001b[0m\u001b[0;34m(\u001b[0m\u001b[0msocket\u001b[0m\u001b[0;34m.\u001b[0m\u001b[0mSOL_SOCKET\u001b[0m\u001b[0;34m,\u001b[0m \u001b[0msocket\u001b[0m\u001b[0;34m.\u001b[0m\u001b[0mSO_REUSEADDR\u001b[0m\u001b[0;34m,\u001b[0m \u001b[0;36m1\u001b[0m\u001b[0;34m)\u001b[0m\u001b[0;34m\u001b[0m\u001b[0;34m\u001b[0m\u001b[0m\n\u001b[0;32m-> 1030\u001b[0;31m             \u001b[0ms\u001b[0m\u001b[0;34m.\u001b[0m\u001b[0mbind\u001b[0m\u001b[0;34m(\u001b[0m\u001b[0mserver_address\u001b[0m\u001b[0;34m)\u001b[0m\u001b[0;34m\u001b[0m\u001b[0;34m\u001b[0m\u001b[0m\n\u001b[0m\u001b[1;32m   1031\u001b[0m             \u001b[0;32mif\u001b[0m \u001b[0mhasattr\u001b[0m\u001b[0;34m(\u001b[0m\u001b[0ms\u001b[0m\u001b[0;34m,\u001b[0m \u001b[0;34m\"set_inheritable\"\u001b[0m\u001b[0;34m)\u001b[0m\u001b[0;34m:\u001b[0m\u001b[0;34m\u001b[0m\u001b[0;34m\u001b[0m\u001b[0m\n\u001b[1;32m   1032\u001b[0m                 \u001b[0ms\u001b[0m\u001b[0;34m.\u001b[0m\u001b[0mset_inheritable\u001b[0m\u001b[0;34m(\u001b[0m\u001b[0;32mTrue\u001b[0m\u001b[0;34m)\u001b[0m\u001b[0;34m\u001b[0m\u001b[0;34m\u001b[0m\u001b[0m\n",
      "\u001b[0;31mOSError\u001b[0m: [Errno 98] Address already in use"
     ]
    }
   ],
   "source": [
    "import time  \n",
    "import hashlib  \n",
    "  \n",
    "class Block(object):  \n",
    "    ...  \n",
    "  \n",
    "class BlockChain(object):  \n",
    "    ...  \n",
    "  \n",
    "from flask import Flask  \n",
    "  \n",
    "app = Flask(__name__)  \n",
    "  \n",
    "@app.route('/create-transaction', methods=['POST'])  \n",
    "def create_transaction():  \n",
    "    pass  \n",
    "  \n",
    "app.run(debug=True)\n",
    "\n",
    "from argparse import ArgumentParser  \n",
    "  \n",
    "parser = ArgumentParser()  \n",
    "parser.add_argument('-H', '--host', default='127.0.0.1')  \n",
    "parser.add_argument('-p', '--port', default=5000, type=int)  \n",
    "args = parser.parse_args()\n",
    "app.run(host=args.host, port=args.port, debug=True)\n"
   ]
  },
  {
   "cell_type": "code",
   "execution_count": 30,
   "metadata": {},
   "outputs": [
    {
     "output_type": "stream",
     "name": "stderr",
     "text": [
      "usage: ipykernel_launcher.py [-h] [-H HOST] [-p PORT]\nipykernel_launcher.py: error: unrecognized arguments: -f /home/virus/.local/share/jupyter/runtime/kernel-d9b347ec-0c2b-46a0-8be6-d5a04d4abec5.json\n"
     ]
    },
    {
     "output_type": "error",
     "ename": "SystemExit",
     "evalue": "2",
     "traceback": [
      "An exception has occurred, use %tb to see the full traceback.\n",
      "\u001b[0;31mSystemExit\u001b[0m\u001b[0;31m:\u001b[0m 2\n"
     ]
    }
   ],
   "source": [
    "from uuid import uuid4  \n",
    "from flask import Flask  \n",
    "  \n",
    "app = Flask(__name__)  \n",
    "  \n",
    "blockchain = BlockChain()  \n",
    "  \n",
    "node_address = uuid4().hex  # Unique address for current node  \n",
    "  \n",
    "@app.route('/create-transaction', methods=['POST'])  \n",
    "def create_transaction():  \n",
    "    pass  \n",
    "  \n",
    "@app.route('/mine', methods=['GET'])  \n",
    "def mine():  \n",
    "    pass  \n",
    "  \n",
    "@app.route('/chain', methods=['GET'])  \n",
    "def get_full_chain():  \n",
    "    pass  \n",
    "  \n",
    "  \n",
    "from argparse import ArgumentParser  \n",
    "parser = ArgumentParser()  \n",
    "parser.add_argument('-H', '--host', default='127.0.0.1')  \n",
    "parser.add_argument('-p', '--port', default=5000, type=int)  \n",
    "args = parser.parse_args()  \n",
    "  \n",
    "app.run(host=args.host, port=args.port, debug=True)"
   ]
  },
  {
   "cell_type": "code",
   "execution_count": 31,
   "metadata": {},
   "outputs": [
    {
     "output_type": "error",
     "ename": "SyntaxError",
     "evalue": "invalid syntax (<ipython-input-31-39968ac41cb0>, line 3)",
     "traceback": [
      "\u001b[0;36m  File \u001b[0;32m\"<ipython-input-31-39968ac41cb0>\"\u001b[0;36m, line \u001b[0;32m3\u001b[0m\n\u001b[0;31m    curl http://127.0.0.1:5000/chain\u001b[0m\n\u001b[0m         ^\u001b[0m\n\u001b[0;31mSyntaxError\u001b[0m\u001b[0;31m:\u001b[0m invalid syntax\n"
     ]
    }
   ],
   "source": [
    "from flask import Flask, jsonify\n",
    "\n",
    "curl http://127.0.0.1:5000/chain "
   ]
  },
  {
   "cell_type": "code",
   "execution_count": 32,
   "metadata": {},
   "outputs": [
    {
     "output_type": "error",
     "ename": "SyntaxError",
     "evalue": "invalid syntax (<ipython-input-32-53b2c6256975>, line 1)",
     "traceback": [
      "\u001b[0;36m  File \u001b[0;32m\"<ipython-input-32-53b2c6256975>\"\u001b[0;36m, line \u001b[0;32m1\u001b[0m\n\u001b[0;31m    curl -X POST -H \"Content-Type: application/json\" -d '{\"sender\": \"addr1\", \"recipient\": \"addr2\", \"amount\": 3}' \"http://127.0.0.1:5000/create-transaction\"\u001b[0m\n\u001b[0m            ^\u001b[0m\n\u001b[0;31mSyntaxError\u001b[0m\u001b[0;31m:\u001b[0m invalid syntax\n"
     ]
    }
   ],
   "source": [
    "curl -X POST -H \"Content-Type: application/json\" -d '{\"sender\": \"addr1\", \"recipient\": \"addr2\", \"amount\": 3}' \"http://127.0.0.1:5000/create-transaction\"  \n",
    "\n"
   ]
  },
  {
   "cell_type": "code",
   "execution_count": 33,
   "metadata": {},
   "outputs": [],
   "source": [
    "@app.route('/register-node', methods=['POST'])  \n",
    "def register_node():  \n",
    "    node_data = request.get_json()  \n",
    "    blockchain.create_node(node_data.get('address'))  \n",
    "    response = {  \n",
    "        'message': 'New node has been added',  \n",
    "        'node_count': len(blockchain.nodes),  \n",
    "        'nodes': list(blockchain.nodes),  \n",
    "    }  \n",
    "    return jsonify(response), 201"
   ]
  },
  {
   "cell_type": "code",
   "execution_count": 34,
   "metadata": {},
   "outputs": [],
   "source": [
    "def get_neighbour_chains():  \n",
    "    neighbour_chains = []  \n",
    "  \n",
    "    for node_address in blockchain.nodes:  \n",
    "        resp = requests.get(node_address + url_for('get_full_chain')).json()  \n",
    "        chain = resp['chain']  \n",
    "        neighbour_chains.append(chain)  \n",
    "  \n",
    "    return neighbour_chains"
   ]
  },
  {
   "cell_type": "code",
   "execution_count": 35,
   "metadata": {},
   "outputs": [
    {
     "output_type": "error",
     "ename": "NameError",
     "evalue": "name 'url_for' is not defined",
     "traceback": [
      "\u001b[0;31m---------------------------------------------------------------------------\u001b[0m",
      "\u001b[0;31mNameError\u001b[0m                                 Traceback (most recent call last)",
      "\u001b[0;32m<ipython-input-35-4b2fde97fb09>\u001b[0m in \u001b[0;36m<module>\u001b[0;34m\u001b[0m\n\u001b[0;32m----> 1\u001b[0;31m \u001b[0mnode_address\u001b[0m \u001b[0;34m+\u001b[0m \u001b[0murl_for\u001b[0m\u001b[0;34m(\u001b[0m\u001b[0;34m'get_full_chain'\u001b[0m\u001b[0;34m)\u001b[0m \u001b[0;31m# equals to 'http://127.0.0.1:5000 + '/chain'\u001b[0m\u001b[0;34m\u001b[0m\u001b[0;34m\u001b[0m\u001b[0m\n\u001b[0m",
      "\u001b[0;31mNameError\u001b[0m: name 'url_for' is not defined"
     ]
    }
   ],
   "source": [
    "node_address + url_for('get_full_chain') # equals to 'http://127.0.0.1:5000 + '/chain'\n"
   ]
  },
  {
   "cell_type": "code",
   "execution_count": 36,
   "metadata": {},
   "outputs": [],
   "source": [
    "@app.route('/sync-chain', methods=['GET'])\n",
    "def consensus():\n",
    "    neighbour_chains = get_neighbour_chains()\n",
    "    if not neighbour_chains:\n",
    "       return jsonify({'message': 'No neighbour chain is available'})\n",
    "    \n",
    "    longest_chain = max(neighbour_chains, key=len) # Get the longest chain\n",
    "\n",
    "    if len(blockchain.chain) >= len(longest_chain):  # If our chain is longest, then do nothing\n",
    "        response = {\n",
    "            'message': 'Chain is already up to date',\n",
    "            'chain': blockchain.get_serialized_chain\n",
    "        }\n",
    "    else:  # If our chain isn't longest, then we store the longest chain\n",
    "        blockchain.chain = [blockchain.get_block_object_from_block_data(block) for block in longest_chain]\n",
    "        response = {\n",
    "           'message': 'Chain was replaced',\n",
    "           'chain': blockchain.get_serialized_chain\n",
    "        }\n",
    "\n",
    "    return jsonify(response)"
   ]
  },
  {
   "cell_type": "code",
   "execution_count": 37,
   "metadata": {},
   "outputs": [
    {
     "output_type": "error",
     "ename": "NameError",
     "evalue": "name 'requests' is not defined",
     "traceback": [
      "\u001b[0;31m---------------------------------------------------------------------------\u001b[0m",
      "\u001b[0;31mNameError\u001b[0m                                 Traceback (most recent call last)",
      "\u001b[0;32m<ipython-input-37-b9d88666297a>\u001b[0m in \u001b[0;36m<module>\u001b[0;34m\u001b[0m\n\u001b[1;32m     27\u001b[0m \u001b[0mserver2\u001b[0m \u001b[0;34m=\u001b[0m \u001b[0;34m'http://127.0.0.1:5001'\u001b[0m\u001b[0;34m\u001b[0m\u001b[0;34m\u001b[0m\u001b[0m\n\u001b[1;32m     28\u001b[0m \u001b[0;34m\u001b[0m\u001b[0m\n\u001b[0;32m---> 29\u001b[0;31m \u001b[0mregister_node\u001b[0m\u001b[0;34m(\u001b[0m\u001b[0mserver2\u001b[0m\u001b[0;34m,\u001b[0m \u001b[0mserver1\u001b[0m\u001b[0;34m)\u001b[0m \u001b[0;31m# server2 node will be register inside server1\u001b[0m\u001b[0;34m\u001b[0m\u001b[0;34m\u001b[0m\u001b[0m\n\u001b[0m\u001b[1;32m     30\u001b[0m \u001b[0;34m\u001b[0m\u001b[0m\n\u001b[1;32m     31\u001b[0m \u001b[0mcreate_transaction\u001b[0m\u001b[0;34m(\u001b[0m\u001b[0mserver2\u001b[0m\u001b[0;34m,\u001b[0m \u001b[0;34m{\u001b[0m\u001b[0;34m'sender'\u001b[0m\u001b[0;34m:\u001b[0m \u001b[0;34m'I'\u001b[0m\u001b[0;34m,\u001b[0m \u001b[0;34m'recipient'\u001b[0m\u001b[0;34m:\u001b[0m \u001b[0;34m'you'\u001b[0m\u001b[0;34m,\u001b[0m \u001b[0;34m'amount'\u001b[0m\u001b[0;34m:\u001b[0m \u001b[0;36m3\u001b[0m\u001b[0;34m}\u001b[0m\u001b[0;34m)\u001b[0m\u001b[0;34m\u001b[0m\u001b[0;34m\u001b[0m\u001b[0m\n",
      "\u001b[0;32m<ipython-input-37-b9d88666297a>\u001b[0m in \u001b[0;36mregister_node\u001b[0;34m(node_addr, parent_server)\u001b[0m\n\u001b[1;32m      1\u001b[0m \u001b[0;32mdef\u001b[0m \u001b[0mregister_node\u001b[0m\u001b[0;34m(\u001b[0m\u001b[0mnode_addr\u001b[0m\u001b[0;34m,\u001b[0m \u001b[0mparent_server\u001b[0m\u001b[0;34m)\u001b[0m\u001b[0;34m:\u001b[0m\u001b[0;34m\u001b[0m\u001b[0;34m\u001b[0m\u001b[0m\n\u001b[0;32m----> 2\u001b[0;31m     \u001b[0mrequests\u001b[0m\u001b[0;34m.\u001b[0m\u001b[0mpost\u001b[0m\u001b[0;34m(\u001b[0m\u001b[0mparent_server\u001b[0m \u001b[0;34m+\u001b[0m \u001b[0;34m'/register-node'\u001b[0m\u001b[0;34m,\u001b[0m \u001b[0mjson\u001b[0m\u001b[0;34m=\u001b[0m\u001b[0;34m{\u001b[0m\u001b[0;34m'address'\u001b[0m\u001b[0;34m:\u001b[0m \u001b[0mnode_addr\u001b[0m\u001b[0;34m}\u001b[0m\u001b[0;34m)\u001b[0m\u001b[0;34m\u001b[0m\u001b[0;34m\u001b[0m\u001b[0m\n\u001b[0m\u001b[1;32m      3\u001b[0m     \u001b[0mprint\u001b[0m\u001b[0;34m(\u001b[0m\u001b[0;34m\"\\\\nOn Server {}: Node-{} has been registered successfully!\\\\n\"\u001b[0m\u001b[0;34m.\u001b[0m\u001b[0mformat\u001b[0m\u001b[0;34m(\u001b[0m\u001b[0mparent_server\u001b[0m\u001b[0;34m,\u001b[0m \u001b[0mnode_addr\u001b[0m\u001b[0;34m)\u001b[0m\u001b[0;34m)\u001b[0m\u001b[0;34m\u001b[0m\u001b[0;34m\u001b[0m\u001b[0m\n\u001b[1;32m      4\u001b[0m \u001b[0;34m\u001b[0m\u001b[0m\n\u001b[1;32m      5\u001b[0m \u001b[0;32mdef\u001b[0m \u001b[0mcreate_transaction\u001b[0m\u001b[0;34m(\u001b[0m\u001b[0mserver\u001b[0m\u001b[0;34m,\u001b[0m \u001b[0mdata\u001b[0m\u001b[0;34m)\u001b[0m\u001b[0;34m:\u001b[0m\u001b[0;34m\u001b[0m\u001b[0;34m\u001b[0m\u001b[0m\n",
      "\u001b[0;31mNameError\u001b[0m: name 'requests' is not defined"
     ]
    }
   ],
   "source": [
    "def register_node(node_addr, parent_server):  \n",
    "    requests.post(parent_server + '/register-node', json={'address': node_addr})  \n",
    "    print(\"\\\\nOn Server {}: Node-{} has been registered successfully!\\\\n\".format(parent_server, node_addr))  \n",
    "  \n",
    "def create_transaction(server, data):  \n",
    "    requests.post(server + '/create-transaction', json=data).json()  \n",
    "    print(\"On Server {}: Transaction has been processed!\\\\n\".format(server))  \n",
    "  \n",
    "def mine_block(server):  \n",
    "    requests.get(server + '/mine').json()  \n",
    "    print(\"On Server {}: Block has been mined successfully!\\\\n\".format(server))  \n",
    "  \n",
    "def get_server_chain(server):  \n",
    "    resp = requests.get(server + '/chain').json()  \n",
    "    print(\"On Server {}: Chain is-\\\\n{}\\\\n\".format(server, resp))  \n",
    "    return resp  \n",
    "  \n",
    "def sync_chain(server):  \n",
    "    print(\"On Server {}: Started Syncing Chain . . .\".format(server))  \n",
    "    resp = requests.get(server + '/sync-chain')  \n",
    "    print(\"On Server {}: Chain synced!\\\\n\".format(server))  \n",
    "  \n",
    "  \n",
    "# two servers are running on 5000 and 5001 port  \n",
    "  \n",
    "server1 = 'http://127.0.0.1:5000'  \n",
    "server2 = 'http://127.0.0.1:5001'  \n",
    "  \n",
    "register_node(server2, server1) # server2 node will be register inside server1  \n",
    "  \n",
    "create_transaction(server2, {'sender': 'I', 'recipient': 'you', 'amount': 3})  \n",
    "  \n",
    "mine_block(server2) # Mined a new block on server2  \n",
    "  \n",
    "get_server_chain(server1) # server1's chain  \n",
    "get_server_chain(server2) # server2's chain  \n",
    "  \n",
    "sync_chain(server1) # updating server1's chain with neighbour node's chain  \n",
    "  \n",
    "get_server_chain(server1) # server1's chain after syncing"
   ]
  },
  {
   "cell_type": "code",
   "execution_count": null,
   "metadata": {},
   "outputs": [],
   "source": []
  },
  {
   "cell_type": "code",
   "execution_count": null,
   "metadata": {},
   "outputs": [],
   "source": []
  }
 ]
}