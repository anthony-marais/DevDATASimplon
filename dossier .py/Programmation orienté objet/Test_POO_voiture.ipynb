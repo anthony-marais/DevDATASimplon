{
 "metadata": {
  "language_info": {
   "codemirror_mode": {
    "name": "ipython",
    "version": 3
   },
   "file_extension": ".py",
   "mimetype": "text/x-python",
   "name": "python",
   "nbconvert_exporter": "python",
   "pygments_lexer": "ipython3",
   "version": "3.8.3-final"
  },
  "orig_nbformat": 2,
  "kernelspec": {
   "name": "python38364bitbase551ecd6c82244bf6af01fcf12b5dc095",
   "display_name": "Python 3.8.3 64-bit ('base')"
  }
 },
 "nbformat": 4,
 "nbformat_minor": 2,
 "cells": [
  {
   "cell_type": "code",
   "execution_count": 51,
   "metadata": {},
   "outputs": [],
   "source": [
    "#class d'un coté et les instances \n",
    "\n",
    "\n",
    "class voiture:\n",
    "\n",
    "    roues = 4 \n",
    "    volant = 1\n",
    "\n",
    "    def __init__(self, puissance, nom, poids):  #fonction constructeur \n",
    "\n",
    "        self.puissance = puissance\n",
    "        self.nom = nom\n",
    "        self.poids = poids\n",
    "        self.poid_puissance = self._poid_puissance() \n",
    "\n",
    "    def __str__(self):  #fonction qui te retrourn une valeur à l'appel de l'instance \n",
    "        return self.nom + \" \" + str(self.puissance)\n",
    "\n",
    "    def _avancer(self):\n",
    "        print(\"vroom\", self.nom)\n",
    "\n",
    "    def _poid_puissance(self):\n",
    "        rapport = self.poids / self.puissance\n",
    "        return rapport\n",
    "\n",
    "\n",
    "    def _changePuissance(self, nouvellePuissance):\n",
    "        self.puissance = nouvellePuissance\n",
    "\n",
    "    def _getPuissance(self):\n",
    "        return self.puissance"
   ]
  },
  {
   "cell_type": "code",
   "execution_count": 52,
   "metadata": {},
   "outputs": [
    {
     "output_type": "stream",
     "name": "stdout",
     "text": [
      "polo 200\n400\n"
     ]
    }
   ],
   "source": [
    "c3 = voiture(200, \"polo\", 1400)\n",
    "print(c3)\n",
    "c3.nouvellePuissance = 400\n",
    "print(c3.nouvellePuissance)\n",
    "c3.poids = 500"
   ]
  },
  {
   "cell_type": "code",
   "execution_count": 55,
   "metadata": {},
   "outputs": [
    {
     "output_type": "stream",
     "name": "stdout",
     "text": [
      "200\n"
     ]
    }
   ],
   "source": [
    "print(c3._getPuissance())"
   ]
  },
  {
   "cell_type": "code",
   "execution_count": 61,
   "metadata": {},
   "outputs": [
    {
     "output_type": "stream",
     "name": "stdout",
     "text": [
      "<__main__.suv object at 0x7f41e8f5ab80>\n"
     ]
    }
   ],
   "source": [
    "\n",
    "class voiture:\n",
    "\n",
    "    roues = 4 \n",
    "    volant = 1\n",
    "    antenne = 1\n",
    "\n",
    "    def _avancer(self):\n",
    "        print('vroom')\n",
    "\n",
    "    def _reculer(self):\n",
    "        print('ziiip')\n",
    "\n",
    "\n",
    "class suv(voiture):\n",
    "\n",
    "    def __init__(self, roueMotrices, puissance, gardeBoue):\n",
    "        self.roueMotrices = roueMotrices\n",
    "        self.puissance = puissance\n",
    "        self.gardeBoue = gardeBoue\n",
    "\n",
    "\n",
    "\n",
    "class sportive(voiture):\n",
    "    \n",
    "    def __init__(self, nombrePots, finition):\n",
    "        \n",
    "        self.nombrePots = nombrePots\n",
    "        self.finition = finition\n",
    "        \n",
    "\n",
    "troisMille_8 = suv(4, 400 , 1)\n",
    "print(troisMille_8)"
   ]
  },
  {
   "cell_type": "code",
   "execution_count": null,
   "metadata": {},
   "outputs": [],
   "source": [
    "#def infinite_sevens():\n",
    "  #while True:\n",
    "    #yield 7\n",
    "        \n",
    "#for i in infinite_sevens():\n",
    "  #print(i)"
   ]
  },
  {
   "cell_type": "code",
   "execution_count": null,
   "metadata": {},
   "outputs": [],
   "source": [
    "\n",
    " \n",
    "def\n",
    " \n",
    " get_primes():\n",
    "  num = 2\n",
    "  while True:\n",
    "    if is_prime(num):\n",
    "      \n",
    " \n",
    "yield\n",
    " \n",
    " num\n",
    "    num += 1"
   ]
  }
 ]
}