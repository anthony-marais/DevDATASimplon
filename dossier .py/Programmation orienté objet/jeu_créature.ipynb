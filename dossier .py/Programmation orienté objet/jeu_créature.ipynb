{
 "metadata": {
  "language_info": {
   "codemirror_mode": {
    "name": "ipython",
    "version": 3
   },
   "file_extension": ".py",
   "mimetype": "text/x-python",
   "name": "python",
   "nbconvert_exporter": "python",
   "pygments_lexer": "ipython3",
   "version": "3.8.3-final"
  },
  "orig_nbformat": 2,
  "kernelspec": {
   "name": "python38364bitbase551ecd6c82244bf6af01fcf12b5dc095",
   "display_name": "Python 3.8.3 64-bit ('base')"
  }
 },
 "nbformat": 4,
 "nbformat_minor": 2,
 "cells": [
  {
   "cell_type": "code",
   "execution_count": 18,
   "metadata": {},
   "outputs": [],
   "source": [
    "\n",
    "\n",
    "class Case:\n",
    "    def __init__(self, x, y):\n",
    "        self.x = x\n",
    "        self.y = y\n",
    "\n",
    "    #def adjacentes(jeu):\n",
    "\n",
    "\n",
    "\n",
    "\n",
    "class Créature:\n",
    "    def __init__(self, nom, position):\n",
    "        self.nom = nom\n",
    "        self.position = position\n",
    "\n",
    "    #def choisirCible(jeu):\n",
    "\n",
    "\n",
    "\n",
    "\n",
    "class jeu:\n",
    "    def __init__(self, listesDesCases, listeDesCreatures, tour, actif):\n",
    "        self.listesDesCases = listesDesCases\n",
    "        self.listeDesCreatures = listesDesCreatures\n",
    "        self.tour = tour\n",
    "        self.actif = actif\n",
    "\n",
    "    def estOccupee(Case):\n",
    "        for (self.x, self.y) in Case:\n",
    "            if self.x and self.y != 0:\n",
    "                print(\"La case est occupé\")\n",
    "                return False\n",
    "            else:\n",
    "                print(\"La case n'est pas occupé\")\n",
    "                return True\n",
    "\n",
    "\n",
    "    #def deplacer(Créature, Case):\n"
   ]
  },
  {
   "cell_type": "code",
   "execution_count": 1,
   "metadata": {},
   "outputs": [],
   "source": [
    "class Point :\n",
    "    def __init__(self,x,y) :\n",
    "        self.x=x\n",
    "        self.y=y\n",
    " \n",
    "    def affiche(self) :\n",
    "        print(\"Point(\",self.x,',',self.y,\")\")"
   ]
  },
  {
   "cell_type": "code",
   "execution_count": 2,
   "metadata": {},
   "outputs": [
    {
     "output_type": "stream",
     "name": "stdout",
     "text": [
      "Point( 2 , 3 )\n"
     ]
    }
   ],
   "source": [
    "p=Point(2,3)\n",
    "p.affiche()\n"
   ]
  },
  {
   "cell_type": "code",
   "execution_count": null,
   "metadata": {},
   "outputs": [],
   "source": []
  }
 ]
}