{
 "metadata": {
  "language_info": {
   "codemirror_mode": {
    "name": "ipython",
    "version": 3
   },
   "file_extension": ".py",
   "mimetype": "text/x-python",
   "name": "python",
   "nbconvert_exporter": "python",
   "pygments_lexer": "ipython3",
   "version": "3.8.3-final"
  },
  "orig_nbformat": 2,
  "kernelspec": {
   "name": "python38364bitbase551ecd6c82244bf6af01fcf12b5dc095",
   "display_name": "Python 3.8.3 64-bit ('base')"
  }
 },
 "nbformat": 4,
 "nbformat_minor": 2,
 "cells": [
  {
   "cell_type": "code",
   "execution_count": 19,
   "metadata": {},
   "outputs": [],
   "source": [
    "from random import randint, randrange\n",
    "\n",
    "\n",
    "\n",
    "class Case:\n",
    "   \n",
    "   def __init__(self, x, y):\n",
    "        self.x = x\n",
    "        self.y = y\n",
    "   def __str__(self):\n",
    "       return \"Case(x=\"+str(self.x)+\", y =\"+str(self.y)+\")\"\n",
    "\n",
    "\n",
    "\n",
    "\n",
    "\n",
    "   def adjacentes(self, jeu):\n",
    "       return case.x + 1 and case.y + 1 and case.x - 1 and case.y - 1 and case.x + 1 and case.y - 1 and case.x - 1 and case.y + 1     \n",
    "\n",
    "\n",
    "\n",
    "\n",
    "\n",
    "\n",
    "class Creature:\n",
    "\n",
    "    def __init__(self, nom, position):\n",
    "        self.nom = nom\n",
    "        self.position = position\n",
    "\n",
    "    def __str__(self):\n",
    "        return self.nom+ \" : \" + str(self.position)\n",
    "\n",
    "    #def choisirCible(jeu):\n",
    "\n",
    "\n",
    "\n",
    "class Jeu:\n",
    "    \n",
    "    def __init__(self, listesDesCases, listeDesCreatures):\n",
    "        self.listesDesCases = listesDesCases\n",
    "        self.listeDesCreatures = listeDesCreatures\n",
    "        self.tour = 1\n",
    "        self.actif = listeDesCreatures[0]\n",
    "    \n",
    "    def __str__(self):\n",
    "        s = \"Tour\"+str(self.tour)+\" \"\n",
    "        for c in self.listeDesCreatures:\n",
    "            s +=str(c)+ \" \" \n",
    "        s += \"actif = \" + str(self.actif.nom)\n",
    "        return s\n",
    "\n",
    "\n",
    "\n",
    "## comparer la case actif ou non active a la case des créatures \n",
    "\n",
    "## self case pour savoir si la case est occuper \n",
    "\n",
    "## return true false pour \n",
    "\n",
    "\n",
    "    def estOccupee(self, case):\n",
    "        for creature in self.listeDesCreatures:\n",
    "            if creature.position.x == case.x and creature.position.y == case.y:\n",
    "                return True\n",
    "        return False\n",
    "\n",
    "    ###     #def estOccupee(self, case):\n",
    "        #return any(b.position == case for b in self.listeCreatures)\n",
    "    ##def est_occupee(self,case):\n",
    "        ##return case in [i.position for i in self.listedescreatures]\n",
    "\n",
    "\n",
    "    ## def estOccupe(self, position):\n",
    "    ##  return next((True for creature in self.listeDesCreatures if creature.nom != self.actif.nom and creature.position == position), False)\n",
    "\n",
    "\n",
    "\n",
    "\n",
    "    #def deplacer(Créature, Case):\n"
   ]
  },
  {
   "cell_type": "code",
   "execution_count": 21,
   "metadata": {},
   "outputs": [
    {
     "output_type": "stream",
     "name": "stdout",
     "text": [
      "True\n"
     ]
    }
   ],
   "source": [
    "case = Case(1,2)\n",
    "alien = Creature(\"Alien\", Case(1,2))\n",
    "essaiJeu = Jeu([Case(1,2)], [alien])\n",
    "print(essaiJeu.estOccupee(case))"
   ]
  },
  {
   "cell_type": "code",
   "execution_count": 24,
   "metadata": {},
   "outputs": [
    {
     "output_type": "stream",
     "name": "stdout",
     "text": [
      "False\n"
     ]
    }
   ],
   "source": [
    "case = Case(1,2)\n",
    "alien = Creature(\"Alien\", case)\n",
    "essaiJeu = Jeu([Case(1,2),Case(3,4)], [alien])\n",
    "print(essaiJeu.estOccupee(Case(3,4)))"
   ]
  },
  {
   "cell_type": "code",
   "execution_count": null,
   "metadata": {},
   "outputs": [],
   "source": []
  }
 ]
}