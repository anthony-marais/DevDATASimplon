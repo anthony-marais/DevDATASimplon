{
 "metadata": {
  "language_info": {
   "codemirror_mode": {
    "name": "ipython",
    "version": 3
   },
   "file_extension": ".py",
   "mimetype": "text/x-python",
   "name": "python",
   "nbconvert_exporter": "python",
   "pygments_lexer": "ipython3",
   "version": "3.8.3-final"
  },
  "orig_nbformat": 2,
  "kernelspec": {
   "name": "python38364bitbase551ecd6c82244bf6af01fcf12b5dc095",
   "display_name": "Python 3.8.3 64-bit ('base')"
  }
 },
 "nbformat": 4,
 "nbformat_minor": 2,
 "cells": [
  {
   "cell_type": "code",
   "execution_count": 4,
   "metadata": {},
   "outputs": [],
   "source": [
    "from random import randint\n",
    "\n",
    "\n",
    "\n",
    "class Case:\n",
    "    ##x = [i for i in range(1, 5)]\n",
    "    ##y = [i for i in range(1, 5)]\n",
    "\n",
    "    def __init__(self, x, y):\n",
    "        self.x = x\n",
    "        self.y = y\n",
    "        self.position = (randint(1, x), randint(1, y)) ## position créature\n",
    "\n",
    "    def _is samePos()\n",
    "\n",
    "\n",
    "    def __str__(self):\n",
    "        return {'x':self.x, 'y':self.y}\n",
    "\n",
    "\n",
    "    #def adjacentes(jeu):\n",
    "\n",
    "\n",
    "class Créature:\n",
    "\n",
    "    nom = ''\n",
    "    prenom = ''\n",
    "\n",
    "\n",
    "    def __init__(self, nom, position):\n",
    "        self.nom = nom\n",
    "        self.position = position\n",
    "\n",
    "    def __str__(self):\n",
    "        return {'nom':self.nom , 'position':self.position}\n",
    "\n",
    "\n",
    "    #def choisirCible(jeu):\n",
    "\n",
    "\n",
    "\n",
    "\n",
    "class jeu:\n",
    "    def __init__(self, listesDesCases, listeDesCreatures, tour, actif):\n",
    "        self.listesDesCases = listesDesCases\n",
    "        self.listeDesCreatures = listesDesCreatures\n",
    "        self.tour = tour\n",
    "        self.actif = actif\n",
    "\n",
    "    def estOccupee(Case):\n",
    "        for (self.x, self.y) in Case:\n",
    "            if self.x and self.y != 0:\n",
    "                print(\"La case est occupé\")\n",
    "                return False\n",
    "            else:\n",
    "                print(\"La case n'est pas occupé\")\n",
    "                return True\n",
    "\n",
    "\n",
    "    #def deplacer(Créature, Case):\n"
   ]
  },
  {
   "cell_type": "code",
   "execution_count": 6,
   "metadata": {},
   "outputs": [
    {
     "output_type": "execute_result",
     "data": {
      "text/plain": [
       "\"('gollum', (1, 1))\""
      ]
     },
     "metadata": {},
     "execution_count": 6
    }
   ],
   "source": [
    "case1 = (1, 1)\n",
    "case1.__str__()\n",
    "\n",
    "\n",
    "creature = ('gollum', case1)\n",
    "creature.__str__()"
   ]
  },
  {
   "cell_type": "code",
   "execution_count": 7,
   "metadata": {},
   "outputs": [
    {
     "output_type": "execute_result",
     "data": {
      "text/plain": [
       "'(1, 1)'"
      ]
     },
     "metadata": {},
     "execution_count": 7
    }
   ],
   "source": [
    "case1 = (1, 1)\n",
    "case1.__str__()\n"
   ]
  },
  {
   "cell_type": "code",
   "execution_count": null,
   "metadata": {},
   "outputs": [],
   "source": []
  }
 ]
}