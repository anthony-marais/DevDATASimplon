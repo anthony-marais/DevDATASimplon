{
 "metadata": {
  "language_info": {
   "codemirror_mode": {
    "name": "ipython",
    "version": 3
   },
   "file_extension": ".py",
   "mimetype": "text/x-python",
   "name": "python",
   "nbconvert_exporter": "python",
   "pygments_lexer": "ipython3",
   "version": "3.8.3-final"
  },
  "orig_nbformat": 2,
  "kernelspec": {
   "name": "python38364bitbase551ecd6c82244bf6af01fcf12b5dc095",
   "display_name": "Python 3.8.3 64-bit ('base')"
  }
 },
 "nbformat": 4,
 "nbformat_minor": 2,
 "cells": [
  {
   "cell_type": "code",
   "execution_count": null,
   "metadata": {},
   "outputs": [],
   "source": [
    "from random import randrange  ## importation module génère nombre aléatoire\n",
    "\n",
    "\n",
    "class carte:\n",
    "    def __init__(self, couleurs, valeurs):\n",
    "        \n",
    "        self.couleurs = couleurs\n",
    "        self.valeurs = valeurs\n",
    "\n",
    "\n",
    "\n",
    "\n",
    "couleurs = [i for i in range(1 , 5)]\n",
    "valeurs = [i for i in range(1, 11)]\n",
    "    \n",
    "paquet = [(v, c) for v in valeurs for c in couleurs]\n",
    "nbTours = 7\n",
    "main1, main2 = [], []\n",
    "def piocher(paquet,nbTours):\n",
    "    #main1, main2 = [], []\n",
    "    for i in range (nbTours):\n",
    "        # Le joueur 1 tire une carte aléatoirement dans le paquet\n",
    "        x = paquet[randrange(len(paquet))]\n",
    "        # La carte est ajouté à la main du joueur 1\n",
    "        main1.append(x)\n",
    "        # La carte tiré est supprimé du paquet\n",
    "        paquet.remove(x)\n",
    "        # Idem pour le joueur 2\n",
    "        y = paquet[randrange(len(paquet))]\n",
    "        main2.append(y)\n",
    "        paquet.remove(y)\n",
    "    return main1\n",
    "\n",
    "\n",
    "def plusGrandQue():\n",
    "    return main1[1][0] > main2[i][0] or (main1[i][0] == main2[i][0] and main1[i][1] > main2[i][1])\n",
    "\n",
    "\n",
    "\n",
    "\"\"\" La class partie aura pour argument d'entré tours, couleurs et valeurs. \n",
    "    Il faut lui mettre une méthode jouer qui va créer les mains des deux joueurs en utilisant la fonction piocher,\n",
    "    comparer chacune des cartes pioché et retourner le score final.\"\"\"\n",
    "\n",
    "print(\"Vainqueur : \" + (\"Joueur 1\" if main > 0 else \"Joueur 2\"))\n"
   ]
  },
  {
   "cell_type": "code",
   "execution_count": null,
   "metadata": {},
   "outputs": [],
   "source": []
  }
 ]
}