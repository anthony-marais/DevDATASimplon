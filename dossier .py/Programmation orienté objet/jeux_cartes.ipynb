{
 "metadata": {
  "language_info": {
   "codemirror_mode": {
    "name": "ipython",
    "version": 3
   },
   "file_extension": ".py",
   "mimetype": "text/x-python",
   "name": "python",
   "nbconvert_exporter": "python",
   "pygments_lexer": "ipython3",
   "version": "3.8.3-final"
  },
  "orig_nbformat": 2,
  "kernelspec": {
   "name": "python38364bitbase551ecd6c82244bf6af01fcf12b5dc095",
   "display_name": "Python 3.8.3 64-bit ('base')"
  }
 },
 "nbformat": 4,
 "nbformat_minor": 2,
 "cells": [
  {
   "cell_type": "code",
   "execution_count": 17,
   "metadata": {},
   "outputs": [],
   "source": [
    "from random import randrange  ## importation module génère nombre aléatoire\n",
    "\n",
    "\n",
    "class carte:\n",
    "    def __init__(self, couleurs, valeurs):\n",
    "        \n",
    "        self.couleurs = couleurs\n",
    "        self.valeurs = valeurs\n",
    "\n",
    "\n",
    "couleurs = [i for i in range(1 , 5)]\n",
    "valeurs = [i for i in range(1, 11)]\n",
    "paquet = [(v, c) for v in valeurs for c in couleurs]\n",
    "nbTours = 7\n",
    "main1, main2 = [], []\n",
    "\n",
    "\n",
    "def piocher(paquet,nbTours):\n",
    "    main1, main2 = [], []\n",
    "    for i in range (nbTours):\n",
    "        # Le joueur 1 tire une carte aléatoirement dans le paquet\n",
    "        x = paquet[randrange(len(paquet))]\n",
    "        # La carte est ajouté à la main du joueur 1\n",
    "        main1.append(x)\n",
    "        # La carte tiré est supprimé du paquet\n",
    "        paquet.remove(x)\n",
    "        # Idem pour le joueur 2\n",
    "        y = paquet[randrange(len(paquet))]\n",
    "        main2.append(y)\n",
    "        paquet.remove(y)\n",
    "    return main1\n",
    "\n",
    "\n",
    "def plusGrandQue():\n",
    "    for i in range(nbTours):\n",
    "        score = 0\n",
    "        if main1[i][0] > main2[i][0] or (main1[i][0] == main2[i][0] and main1[i][1] > main2[i][1]):\n",
    "            score += 1\n",
    "        else:\n",
    "            score -=1\n",
    "        return score \n",
    "    \n",
    "def __str__(self):  #annonce le vainqueur à l'affichage de l'instance \n",
    "        score = self.plusGrandQue()\n",
    "        return \"vainqueur : \" + (\"joueur 1\" if score > 0 else \"joueur 2\") + \", le score est de : \" + str(score)\n"
   ]
  },
  {
   "cell_type": "code",
   "execution_count": 18,
   "metadata": {},
   "outputs": [
    {
     "output_type": "error",
     "ename": "TypeError",
     "evalue": "piocher() missing 2 required positional arguments: 'paquet' and 'nbTours'",
     "traceback": [
      "\u001b[0;31m---------------------------------------------------------------------------\u001b[0m",
      "\u001b[0;31mTypeError\u001b[0m                                 Traceback (most recent call last)",
      "\u001b[0;32m<ipython-input-18-02a9e4716405>\u001b[0m in \u001b[0;36m<module>\u001b[0;34m\u001b[0m\n\u001b[0;32m----> 1\u001b[0;31m \u001b[0mprint\u001b[0m\u001b[0;34m(\u001b[0m\u001b[0mpiocher\u001b[0m\u001b[0;34m(\u001b[0m\u001b[0;34m)\u001b[0m\u001b[0;34m)\u001b[0m\u001b[0;34m\u001b[0m\u001b[0;34m\u001b[0m\u001b[0m\n\u001b[0m",
      "\u001b[0;31mTypeError\u001b[0m: piocher() missing 2 required positional arguments: 'paquet' and 'nbTours'"
     ]
    }
   ],
   "source": [
    "print(piocher())"
   ]
  },
  {
   "cell_type": "code",
   "execution_count": null,
   "metadata": {},
   "outputs": [],
   "source": []
  }
 ]
}