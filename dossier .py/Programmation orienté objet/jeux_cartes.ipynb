{
 "metadata": {
  "language_info": {
   "codemirror_mode": {
    "name": "ipython",
    "version": 3
   },
   "file_extension": ".py",
   "mimetype": "text/x-python",
   "name": "python",
   "nbconvert_exporter": "python",
   "pygments_lexer": "ipython3",
   "version": "3.8.3-final"
  },
  "orig_nbformat": 2,
  "kernelspec": {
   "name": "python38364bitbase551ecd6c82244bf6af01fcf12b5dc095",
   "display_name": "Python 3.8.3 64-bit ('base')"
  }
 },
 "nbformat": 4,
 "nbformat_minor": 2,
 "cells": [
  {
   "cell_type": "code",
   "execution_count": 20,
   "metadata": {},
   "outputs": [],
   "source": [
    "########## Creation jeu de carte en POO\n",
    "\n",
    "from random import randrange\n",
    "\n",
    "valeur = [i for i in range(1, 11)]\n",
    "couleur = [i for i in range(1, 5)]\n",
    "# Création de la classe carte\n",
    "\n",
    "class carte :\n",
    "    def __init__(self, couleur, valeur):\n",
    "        self.couleur = couleur\n",
    "        self.valeur = valeur\n",
    "    # la fonction repr renvoie un objet(ici en liste)\n",
    "    def __repr__(self):\n",
    "        return repr([self.valeur,self.couleur])\n",
    "\n",
    "\n",
    "    \n",
    "# on crée la fonction piocher\n",
    "        \n",
    "paquet = [carte(v, c) for v in valeur for c in couleur]\n",
    "    \n",
    "def piocher(nbTours, paquet):\n",
    "    main1 = []\n",
    "    main2 = []\n",
    "    for i in range(nbTours):\n",
    "        x = paquet[randrange(len(paquet))]\n",
    "        main1.append(x)\n",
    "        paquet.remove(x)\n",
    "        y = paquet[randrange(len(paquet))]\n",
    "        main2.append(y)\n",
    "        paquet.remove(y)\n",
    "        return main1, main2\n",
    "\n",
    "# On modifie la fonction plusGrandQue \n",
    "        \n",
    "    def plusGrandQue(carte1, carte2):\n",
    "        print(\"La carte du joueur 1 est\", carte1, \"La carte du joueur 2 est\", carte2)\n",
    "        # On compare les attributs de la classe carte\n",
    "        return carte1.valeur > carte2.valeur or (\n",
    "                carte1.valeur == carte2.valeur and carte1.couleur > carte2.couleur)\n",
    "    "
   ]
  },
  {
   "cell_type": "code",
   "execution_count": null,
   "metadata": {},
   "outputs": [],
   "source": []
  }
 ]
}