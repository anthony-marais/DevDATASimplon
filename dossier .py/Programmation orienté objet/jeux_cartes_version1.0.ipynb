{
 "metadata": {
  "language_info": {
   "codemirror_mode": {
    "name": "ipython",
    "version": 3
   },
   "file_extension": ".py",
   "mimetype": "text/x-python",
   "name": "python",
   "nbconvert_exporter": "python",
   "pygments_lexer": "ipython3",
   "version": "3.8.3-final"
  },
  "orig_nbformat": 2,
  "kernelspec": {
   "name": "python38364bitbase551ecd6c82244bf6af01fcf12b5dc095",
   "display_name": "Python 3.8.3 64-bit ('base')"
  }
 },
 "nbformat": 4,
 "nbformat_minor": 2,
 "cells": [
  {
   "cell_type": "code",
   "execution_count": 11,
   "metadata": {},
   "outputs": [],
   "source": [
    "from random import randrange\n",
    "\n",
    "class Partie:\n",
    "    \n",
    "    def __init__(self, nbTours, nbCartes, nbCouleurs):  #initialisation attribut de ma classe partie \n",
    "        self.nbTours = nbTours\n",
    "        self.nbCartes = nbCartes\n",
    "        self.nbCouleurs = nbCouleurs\n",
    "        self.paquet =  [(v,c) for v in range(1, self.nbCartes + 1) for c in range(1, self.nbCouleurs + 1)] #génération du paquet avec les attributs choisis dans mon instance(nbcartes et nbtours) \n",
    "    \n",
    "    def piocher(self):   #création de la fonction pioche\n",
    "        main = []\n",
    "        for i in range(self.nbTours):  #nombre d'itération dépendra du nombre de tours en attribut\n",
    "            x = self.paquet[randrange(len(self.paquet))] \n",
    "            main.append(x)\n",
    "            self.paquet.remove(x)\n",
    "            return main    #fonction prend la valeurs de mon tuple \n",
    "    def plusGrandQue(self):   #fonction qui va déterminer le score \n",
    "        main1 = self.piocher()   #appel de ma fonction pioche\n",
    "        main2 = self.piocher()\n",
    "        for i in range(self.nbTours):  #itération sur le nombre de tours \n",
    "            score = 0\n",
    "            if main1[i][0] > main2[i][0] or (main1[i][0] == main2[i][0] and main1[i][1] > main2[i][1]):\n",
    "                score += 1\n",
    "            else:\n",
    "                score -=1\n",
    "                return score   #renvoi le score (positif ou négatif)\n",
    "    def __str__(self):  #annonce le vainqueur à l'affichage de l'instance \n",
    "        score = self.plusGrandQue()\n",
    "        return \"vainqueur : \" + (\"joueur 1\" if score > 0 else \"joueur 2\") + \", le score est de : \" + str(score)"
   ]
  },
  {
   "cell_type": "code",
   "execution_count": 12,
   "metadata": {},
   "outputs": [
    {
     "output_type": "stream",
     "name": "stdout",
     "text": [
      "vainqueur : joueur 2, le score est de : -1\n"
     ]
    }
   ],
   "source": [
    "partie1 = Partie(7, 10, 4)\n",
    "print(partie1)"
   ]
  },
  {
   "cell_type": "code",
   "execution_count": null,
   "metadata": {},
   "outputs": [],
   "source": [
    "Partie(7, 10, 4)"
   ]
  }
 ]
}