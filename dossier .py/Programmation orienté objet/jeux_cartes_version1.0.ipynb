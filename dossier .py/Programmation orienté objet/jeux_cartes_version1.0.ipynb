{
 "metadata": {
  "language_info": {
   "codemirror_mode": {
    "name": "ipython",
    "version": 3
   },
   "file_extension": ".py",
   "mimetype": "text/x-python",
   "name": "python",
   "nbconvert_exporter": "python",
   "pygments_lexer": "ipython3",
   "version": "3.8.3-final"
  },
  "orig_nbformat": 2,
  "kernelspec": {
   "name": "python38364bitbase551ecd6c82244bf6af01fcf12b5dc095",
   "display_name": "Python 3.8.3 64-bit ('base')"
  }
 },
 "nbformat": 4,
 "nbformat_minor": 2,
 "cells": [
  {
   "cell_type": "code",
   "execution_count": null,
   "metadata": {},
   "outputs": [],
   "source": [
    "from random import randrange\n",
    "\n",
    "## on initialise toutes les valeurs et couleurs\n",
    "## que peuvent prendre les cartes\n",
    "\n",
    "valeurs = [i for i in range(1, 11)]\n",
    "couleurs = [i for i in range (1,5)]\n",
    "\n",
    "## On choisi le nombre de tour que va durée la partie\n",
    "## et on initialise le score à 0.dj\n",
    "nbTours = 7\n",
    "score = 0\n",
    "\n",
    "## Enfin on crée une liste de tuple\n",
    "## pour représenter le paquet de cartes\n",
    "\n",
    "paquet = [(v, c) for v in valeurs for c in couleurs]\n",
    "main1, main2 = [], []\n",
    "\n",
    "\n",
    "for i in range (nbTours):\n",
    "    # Le joueur 1 tire une crte aléatoirement dans le paquet\n",
    "    x = paquet[randrange(len(paquet))]\n",
    "    # La carte est ajouté à la main du joueur 1\n",
    "    main1.append(x)\n",
    "    # La carte tiré est supprimé du paquet\n",
    "    paquet.remove(x)\n",
    "    # Idem pour le joueur 2\n",
    "    y = paquet[randrange(len(paquet))]\n",
    "    main2.append(y)\n",
    "    paquet.remove(y)\n",
    "\n",
    "\n",
    "for i in range(nbTours):\n",
    "    if main1[1][0] > main2[i][0] or (main1[i][0] == main2[i][0] and main1[i][1] > main2[i][1]):\n",
    "        score += 1\n",
    "    else:\n",
    "        score -= 1\n",
    "            \n",
    "\n",
    "print(\"Vainqueur : \" + (\"Joueur 1\" if score > 0 else \"Joueur 2\"))"
   ]
  },
  {
   "cell_type": "code",
   "execution_count": null,
   "metadata": {},
   "outputs": [],
   "source": [
    "########## Creation jeu de carte en POO\n",
    "\n",
    "from random import randrange\n",
    "\n",
    "valeur = [i for i in range(1, 11)]\n",
    "couleur = [i for i in range(1, 5)]\n",
    "# Création de la classe carte\n",
    "\n",
    "class carte :\n",
    "    def __init__(self, couleur, valeur):\n",
    "        self.couleur = couleur\n",
    "        self.valeur = valeur\n",
    "    # la fonction repr renvoie un objet(ici en liste)\n",
    "    def __repr__(self):\n",
    "        return repr([self.valeur,self.couleur])\n",
    "\n",
    "\n",
    "    \n",
    "# on crée la fonction piocher\n",
    "        \n",
    "paquet = [carte(v, c) for v in valeur for c in couleur]\n",
    "    \n",
    "def piocher(nbTours, paquet):\n",
    "    main1 = []\n",
    "    main2 = []\n",
    "    for i in range(nbTours):\n",
    "        x = paquet[randrange(len(paquet))]\n",
    "        main1.append(x)\n",
    "        paquet.remove(x)\n",
    "        y = paquet[randrange(len(paquet))]\n",
    "        main2.append(y)\n",
    "        paquet.remove(y)\n",
    "        return main1, main2\n",
    "\n",
    "# On modifie la fonction plusGrandQue \n",
    "        \n",
    "    def plusGrandQue(carte1, carte2):\n",
    "        print(\"La carte du joueur 1 est\", carte1, \"La carte du joueur 2 est\", carte2)\n",
    "        # On compare les attributs de la classe carte\n",
    "        return carte1.valeur > carte2.valeur or (\n",
    "                carte1.valeur == carte2.valeur and carte1.couleur > carte2.couleur)\n",
    "    "
   ]
  },
  {
   "cell_type": "code",
   "execution_count": 58,
   "metadata": {},
   "outputs": [],
   "source": [
    "from random import randrange\n",
    "\n",
    "class Partie:\n",
    "    \n",
    "    def __init__(self, nbTours, nbCartes, nbCouleurs):  #initialisation attribut de ma classe partie \n",
    "        self.nbTours = nbTours\n",
    "        self.nbCartes = nbCartes\n",
    "        self.nbCouleurs = nbCouleurs\n",
    "        self.paquet =  [(v,c) for v in range(1, self.nbCartes + 1) for c in range(1, self.nbCouleurs + 1)] #génération du paquet avec les attributs choisis dans mon instance(nbcartes et nbtours) \n",
    "    \n",
    "    def piocher(self):   #création de la fonction pioche\n",
    "        main = []\n",
    "        for i in range(self.nbTours):  #nombre d'itération dépendra du nombre de tours en attribut\n",
    "            x = self.paquet[randrange(len(self.paquet))] \n",
    "            main.append(x)\n",
    "            self.paquet.remove(x)\n",
    "            return main    #fonction prend la valeurs de mon tuple \n",
    "    \n",
    "    def plusGrandQue(self):   #fonction qui va déterminer le score \n",
    "        main1 = self.piocher()   #appel de ma fonction pioche\n",
    "        main2 = self.piocher()\n",
    "        for i in range(self.nbTours):  #itération sur le nombre de tours \n",
    "            score = 0\n",
    "            if main1[i][0] > main2[i][0] or (main1[i][0] == main2[i][0] and main1[i][1] > main2[i][1]):\n",
    "                score += 1\n",
    "            else:\n",
    "                score -=1\n",
    "            return score   #renvoi le score (positif ou négatif)\n",
    "    \n",
    "    \n",
    "    def __str__(self):  #annonce le vainqueur à l'affichage de l'instance \n",
    "        score = self.plusGrandQue()\n",
    "        return \"vainqueur : \" + (\"joueur 1\" if score > 0 else \"joueur 2\") + \", le score est de : \" + str(score)"
   ]
  },
  {
   "cell_type": "code",
   "execution_count": 59,
   "metadata": {},
   "outputs": [
    {
     "output_type": "stream",
     "name": "stdout",
     "text": [
      "vainqueur : joueur 1, le score est de : 1\n"
     ]
    }
   ],
   "source": [
    "partie1 = Partie(7, 10, 4)\n",
    "print(partie1)"
   ]
  },
  {
   "cell_type": "code",
   "execution_count": null,
   "metadata": {},
   "outputs": [],
   "source": [
    "Partie(7, 10, 4)"
   ]
  },
  {
   "cell_type": "code",
   "execution_count": 98,
   "metadata": {},
   "outputs": [],
   "source": [
    "from random import randrange\n",
    "\n",
    "nbTours = 7\n",
    "score = 0\n",
    "\n",
    "class Carte:\n",
    "    def __init__(self, couleur, valeur):\n",
    "        self.couleur = couleur\n",
    "        self.valeur = valeur\n",
    "\n",
    "\n",
    "class Partie:\n",
    "    def __init__(self, tours, couleurs, valeurs):\n",
    "        self.score = 0\n",
    "        self.nbTours = tours\n",
    "        self.paquet = [Carte(v , c) for v in range(valeurs + 1) for c in range(couleurs + 1)]\n",
    "\n",
    "    def jouer(self):\n",
    "        self.main1 = piocher(self.paquet, self.nbTours)\n",
    "        self.main2 = piocher(self.paquet, self.nbTours)\n",
    "        for i in range(self.nbTours):\n",
    "            self.score += (1 if plusGrandQue(\n",
    "            self.main1[i], self.main2[i]) else -1)\n",
    "        print(\"Vainqueur :\" +\n",
    "                (\"joueur 1\" if self.score > 0 else \"joueur 2 \"))\n",
    "\n",
    "\n",
    "\n",
    "def piocher(paquet, nb):\n",
    "    main = []\n",
    "    for i in range(nb):\n",
    "        x = paquet[randrange(len(paquet))]\n",
    "        main.append(x)\n",
    "        paquet.remove(x)\n",
    "    return main\n",
    "\n",
    "\n",
    "def plusGrandQue(carte1,carte2):\n",
    "    return carte1.valeur > carte2.valeur or ( carte1.valeur == carte2.valeur and carte1.couleur > carte2.couleur)\n",
    "\n",
    "\n",
    "\n"
   ]
  },
  {
   "cell_type": "code",
   "execution_count": 99,
   "metadata": {},
   "outputs": [
    {
     "output_type": "stream",
     "name": "stdout",
     "text": [
      "Vainqueur :joueur 1\n"
     ]
    }
   ],
   "source": [
    "partie = Partie(couleurs=4, valeurs=7, tours=7)\n",
    "\n",
    "partie.jouer()"
   ]
  },
  {
   "cell_type": "code",
   "execution_count": null,
   "metadata": {},
   "outputs": [],
   "source": []
  }
 ]
}