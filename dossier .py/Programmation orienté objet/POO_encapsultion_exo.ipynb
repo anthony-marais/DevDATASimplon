{
 "metadata": {
  "language_info": {
   "codemirror_mode": {
    "name": "ipython",
    "version": 3
   },
   "file_extension": ".py",
   "mimetype": "text/x-python",
   "name": "python",
   "nbconvert_exporter": "python",
   "pygments_lexer": "ipython3",
   "version": "3.8.3-final"
  },
  "orig_nbformat": 2,
  "kernelspec": {
   "name": "python38364bitbase551ecd6c82244bf6af01fcf12b5dc095",
   "display_name": "Python 3.8.3 64-bit ('base')"
  }
 },
 "nbformat": 4,
 "nbformat_minor": 2,
 "cells": [
  {
   "source": [
    "### Mdification de la méthode _get_naissance()"
   ],
   "cell_type": "markdown",
   "metadata": {}
  },
  {
   "source": [
    "### 1. le \"ad =\" appel la fonction formulaire init, puis qui ecrit l'année au travers de la fonction \"ecriture\" _set_naissance\n",
    "### 2. le \"print(ad.age())\" appel la fonction age, puis lis au travers de la fonction \"lecture\" _get_naissance\n",
    "### 3. il y a 2 print, car tu as un 1er print dans la fonction _get_naissance qui est appelé(au point 2.) nativement lors de l'utilisation de la fonction age() puis qui lui même est print lors de son appel via \"print(ad.age())\""
   ],
   "cell_type": "markdown",
   "metadata": {}
  },
  {
   "cell_type": "code",
   "execution_count": 77,
   "metadata": {},
   "outputs": [],
   "source": [
    "class formulaire:\n",
    "    def __init__(self, nom, prenom, naissance):\n",
    "        self.nom = nom.upper()\n",
    "        self.prenom = prenom.upper()\n",
    "        self.naissance = naissance\n",
    "    \n",
    "    def _set_naissance(self, naissance):\n",
    "        if type(naissance) is list:\n",
    "            na = \"\".join([str(chiffre) for chiffre in naissance])\n",
    "        else:\n",
    "            na = str(naissance)\n",
    "        if na.isnumeric():\n",
    "            self._naissance = int(na)\n",
    "        else:\n",
    "            self._naissance = 1900\n",
    "\n",
    "    def _get_naissance(self):\n",
    "        print(self._naissance)      ## provoque un affichage supplémentaire\n",
    "        return self._naissance\n",
    "    naissance = property(_get_naissance, _set_naissance)\n",
    "    def age(self):\n",
    "        return 2020 - self.naissance\n",
    "    def majeur(self):\n",
    "        return self.age >= 18\n",
    "    def memeFamille(self, formulaire):\n",
    "        return self.nom == formulaire.nom"
   ]
  },
  {
   "cell_type": "code",
   "execution_count": 78,
   "metadata": {},
   "outputs": [
    {
     "output_type": "stream",
     "name": "stdout",
     "text": [
      "1900\n"
     ]
    },
    {
     "output_type": "execute_result",
     "data": {
      "text/plain": [
       "120"
      ]
     },
     "metadata": {},
     "execution_count": 78
    }
   ],
   "source": [
    "ad = formulaire(\"Doe\", \"Alice\", [1,2,3,4])\n",
    "ad.age()"
   ]
  },
  {
   "cell_type": "code",
   "execution_count": null,
   "metadata": {},
   "outputs": [],
   "source": [
    "## Correction"
   ]
  },
  {
   "cell_type": "code",
   "execution_count": 74,
   "metadata": {},
   "outputs": [],
   "source": [
    "def _set_naissance(self, naissance):\n",
    "        if str(type(naissance)) == \"<class 'list'>\":\n",
    "            naissance = \"\".join((str(s) for s in naissance))\n",
    "        if (str(type(naissance)) == \"<class 'str'>\"\n",
    "               and naissance.isnumeric()):\n",
    "            naissance = int(naissance)\n",
    "        if str(type(naissance)) == \"<class 'int'>\":\n",
    "            self._naissance = naissance"
   ]
  },
  {
   "cell_type": "code",
   "execution_count": null,
   "metadata": {},
   "outputs": [],
   "source": [
    "def _set_naissance(self, naissance):\n",
    "        if type(naissance) is list:\n",
    "            na = \"\".join([str(chiffre) for chiffre in naissance])\n",
    "        else:\n",
    "            na = str(naissance)\n",
    "        if na.isnumeric():\n",
    "            self._naissance = int(na)\n",
    "        else:\n",
    "            self._naissance = 1900"
   ]
  },
  {
   "cell_type": "code",
   "execution_count": null,
   "metadata": {},
   "outputs": [],
   "source": []
  },
  {
   "cell_type": "code",
   "execution_count": 88,
   "metadata": {},
   "outputs": [],
   "source": [
    "class formulaire:\n",
    "    def __init__(self, nom, prenom, naissance):\n",
    "        self.nom = nom\n",
    "        self.prenom = prenom\n",
    "        self.naissance = naissance\n",
    "    \n",
    "    def _set_nom(self, nom):\n",
    "        self._nom = str(nom).upper()\n",
    "        \n",
    "    def _set_prenom(self, prenom):\n",
    "        self._prenom = str(prenom).upper()\n",
    "    \n",
    "    def _set_naissance(self, naissance):\n",
    "        self._naissance = 1900\n",
    "        if str(type(naissance)) == \"<class 'list'>\":\n",
    "            naissance = \"\".join((str(s) for s in naissance))\n",
    "        if (str(type(naissance)) == \"<class 'str'>\"\n",
    "               and naissance.isnumeric()):\n",
    "            naissance = int(naissance)\n",
    "        if str(type(naissance) == \"<class 'int'>\"):\n",
    "            self._naissance = naissance\n",
    "            \n",
    "    def _get_nom(self):\n",
    "        return self._nom\n",
    "    \n",
    "    def _get_prenom(self):\n",
    "        return self._prenom\n",
    "    \n",
    "    def _get_naissance(self):\n",
    "        print(\"valeur de naissance : \"\n",
    "             + str(self._naissance))\n",
    "        return self._naissance\n",
    "    \n",
    "    nom = property(_get_nom, _set_nom)\n",
    "    prenom = property(_get_prenom, _set_prenom)\n",
    "    naissance = property(_get_naissance, _set_naissance)\n",
    "    \n",
    "    \n",
    "    def age(self):\n",
    "        return 2020 - self._naissance\n",
    "    def majeur(self):\n",
    "        return self.age() >= 18"
   ]
  },
  {
   "cell_type": "code",
   "execution_count": 89,
   "metadata": {},
   "outputs": [
    {
     "output_type": "stream",
     "name": "stdout",
     "text": [
      "DOE\n"
     ]
    }
   ],
   "source": [
    "ad = formulaire(\"Doe\", \"Alice\", [1,2,3,4])\n",
    "ad.age()\n",
    "print(ad.nom)"
   ]
  },
  {
   "cell_type": "code",
   "execution_count": 90,
   "metadata": {},
   "outputs": [
    {
     "output_type": "execute_result",
     "data": {
      "text/plain": [
       "'ALICE'"
      ]
     },
     "metadata": {},
     "execution_count": 90
    }
   ],
   "source": [
    "ad.prenom"
   ]
  },
  {
   "cell_type": "code",
   "execution_count": null,
   "metadata": {},
   "outputs": [],
   "source": []
  }
 ]
}