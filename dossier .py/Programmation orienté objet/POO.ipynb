{
 "metadata": {
  "language_info": {
   "codemirror_mode": {
    "name": "ipython",
    "version": 3
   },
   "file_extension": ".py",
   "mimetype": "text/x-python",
   "name": "python",
   "nbconvert_exporter": "python",
   "pygments_lexer": "ipython3",
   "version": "3.8.3-final"
  },
  "orig_nbformat": 2,
  "kernelspec": {
   "name": "python38364bitbase551ecd6c82244bf6af01fcf12b5dc095",
   "display_name": "Python 3.8.3 64-bit ('base')"
  }
 },
 "nbformat": 4,
 "nbformat_minor": 2,
 "cells": [
  {
   "cell_type": "code",
   "execution_count": 482,
   "metadata": {},
   "outputs": [
    {
     "output_type": "stream",
     "name": "stdout",
     "text": [
      "['2', 'a', '7', '5']\n"
     ]
    }
   ],
   "source": [
    "x = ['2','a','7']\n",
    "y = ['8', 'k', 't']\n",
    "\n",
    "x.append('5')\n",
    "print(x)"
   ]
  },
  {
   "cell_type": "code",
   "execution_count": 483,
   "metadata": {},
   "outputs": [
    {
     "output_type": "stream",
     "name": "stdout",
     "text": [
      "['8', 'k', 't', '5']\n"
     ]
    }
   ],
   "source": [
    "y.append('5')\n",
    "print(y)"
   ]
  },
  {
   "cell_type": "code",
   "execution_count": 484,
   "metadata": {},
   "outputs": [
    {
     "output_type": "error",
     "ename": "AttributeError",
     "evalue": "'str' object has no attribute 'append'",
     "traceback": [
      "\u001b[0;31m---------------------------------------------------------------------------\u001b[0m",
      "\u001b[0;31mAttributeError\u001b[0m                            Traceback (most recent call last)",
      "\u001b[0;32m<ipython-input-484-073b47ad48d1>\u001b[0m in \u001b[0;36m<module>\u001b[0;34m\u001b[0m\n\u001b[1;32m      1\u001b[0m \u001b[0mz\u001b[0m \u001b[0;34m=\u001b[0m \u001b[0;34m\"8kt\"\u001b[0m\u001b[0;34m\u001b[0m\u001b[0;34m\u001b[0m\u001b[0m\n\u001b[0;32m----> 2\u001b[0;31m \u001b[0mz\u001b[0m\u001b[0;34m.\u001b[0m\u001b[0mappend\u001b[0m\u001b[0;34m(\u001b[0m\u001b[0;34m'5'\u001b[0m\u001b[0;34m)\u001b[0m\u001b[0;34m\u001b[0m\u001b[0;34m\u001b[0m\u001b[0m\n\u001b[0m\u001b[1;32m      3\u001b[0m \u001b[0mprint\u001b[0m\u001b[0;34m(\u001b[0m\u001b[0mz\u001b[0m\u001b[0;34m)\u001b[0m\u001b[0;34m\u001b[0m\u001b[0;34m\u001b[0m\u001b[0m\n",
      "\u001b[0;31mAttributeError\u001b[0m: 'str' object has no attribute 'append'"
     ]
    }
   ],
   "source": [
    "z = \"8kt\"\n",
    "z.append('5')\n",
    "print(z)"
   ]
  },
  {
   "cell_type": "code",
   "execution_count": 103,
   "metadata": {},
   "outputs": [],
   "source": [
    "class superstring :\n",
    "    def __init__(self, chaine):\n",
    "        self.ch = chaine\n",
    "    def ajoute(self, char):\n",
    "        self.ch += char\n",
    "    def insert(self, char, i):\n",
    "        self.ch = self.ch[:i] + char + self.ch[i:]\n",
    "    def upper(self):\n",
    "        self.ch = self.ch.upper()\n",
    "    def capsdown(self):\n",
    "        self.ch = self.ch.lower()\n",
    "    def tri(self):\n",
    "        self.ch = sorted(self.ch.split())\n",
    "        self.ch = \" \".join(self.ch)\n",
    "    def __str__(self):\n",
    "        return \"type : superstring, content:{}\".format(self.ch)"
   ]
  },
  {
   "cell_type": "code",
   "execution_count": 106,
   "metadata": {},
   "outputs": [
    {
     "output_type": "stream",
     "name": "stdout",
     "text": [
      "type : superstring, content:ECOUTEZ BIEN C'EST TRÈS IMPORTANT CE QUE JE DIS !\n"
     ]
    }
   ],
   "source": [
    "print(s1)"
   ]
  },
  {
   "cell_type": "code",
   "execution_count": 105,
   "metadata": {},
   "outputs": [
    {
     "output_type": "stream",
     "name": "stdout",
     "text": [
      "type : superstring, content:ECOUTEZ BIEN C'EST TRÈS IMPORTANT CE QUE JE DIS !\n"
     ]
    }
   ],
   "source": [
    "s1 = superstring(\"Ecoutez bien c'est important\")\n",
    "s1.ajoute(\" ce que je dis !\")\n",
    "s1.insert(\" très\", 18)\n",
    "s1.upper()\n",
    "print(s1)"
   ]
  },
  {
   "cell_type": "code",
   "execution_count": 48,
   "metadata": {},
   "outputs": [
    {
     "output_type": "stream",
     "name": "stdout",
     "text": [
      "ecoutez bien c'est très important ce que je dis !\n"
     ]
    }
   ],
   "source": [
    "s1.capsdown()\n",
    "print(s1)"
   ]
  },
  {
   "cell_type": "code",
   "execution_count": 92,
   "metadata": {},
   "outputs": [
    {
     "output_type": "stream",
     "name": "stdout",
     "text": [
      "['!', 'BIEN', \"C'EST\", 'CE', 'DIS', 'ECOUTEZ', 'IMPORTANT', 'JE', 'QUE', 'TRÈS']\n! BIEN C'EST CE DIS ECOUTEZ IMPORTANT JE QUE TRÈS\n"
     ]
    }
   ],
   "source": [
    "#text = str(\"ECOUTEZ BIEN C'EST TRÈS IMPORTANT CE QUE JE DIS !\")\n",
    "#test = sorted(text.split())\n",
    "# Splits at space \n",
    "#print(test)\n",
    "#test_2 = \" \".join(test)\n",
    "#test_2 = str(test_2)\n",
    "#print(test_2)"
   ]
  },
  {
   "cell_type": "code",
   "execution_count": 107,
   "metadata": {},
   "outputs": [
    {
     "output_type": "stream",
     "name": "stdout",
     "text": [
      "type : superstring, content:! BIEN C'EST CE DIS ECOUTEZ IMPORTANT JE QUE TRÈS\n"
     ]
    }
   ],
   "source": [
    "s1.tri()\n",
    "print(s1)"
   ]
  },
  {
   "cell_type": "code",
   "execution_count": 98,
   "metadata": {},
   "outputs": [
    {
     "output_type": "execute_result",
     "data": {
      "text/plain": [
       "__main__.superstring"
      ]
     },
     "metadata": {},
     "execution_count": 98
    }
   ],
   "source": [
    "type(s1)"
   ]
  },
  {
   "cell_type": "code",
   "execution_count": null,
   "metadata": {},
   "outputs": [],
   "source": []
  },
  {
   "cell_type": "code",
   "execution_count": 363,
   "metadata": {},
   "outputs": [],
   "source": [
    "class formulaire:\n",
    "    def __init__(self, nom, prenom, anneeNaissance):\n",
    "        self.nom = nom.upper()\n",
    "        self.prenom = prenom.upper()\n",
    "        self.anneeNaissance = anneeNaissance\n",
    "    def age(self):\n",
    "        return 2020 - self.anneeNaissance\n",
    "    def majeur(self):\n",
    "        return self.age() >= 18\n",
    "    def memeFamille(self, formulaire):\n",
    "        return self.nom == formulaire.nom\n",
    "    def memePersonne(self, formulaire):\n",
    "        return self.nom == formulaire.nom and self.prenom == formulaire.prenom and self.anneeNaissance == formulaire.anneeNaissance\n",
    "\n",
    "    def memePersonne_2(self, formulaire):\n",
    "        return all([self.nom == formulaire.nom, self.prenom == formulaire.prenom, self.anneeNaissance == formulaire.anneeNaissance])\n",
    "\n",
    "    def __str__(self):\n",
    "      s = self.nom + \", \" + self.prenom + \", \"\n",
    "      return s+ str(self.anneeNaissance)\n",
    "        \n",
    "    \n",
    "    \n",
    "        \n",
    "           \n",
    "\n"
   ]
  },
  {
   "cell_type": "code",
   "execution_count": 364,
   "metadata": {},
   "outputs": [
    {
     "output_type": "stream",
     "name": "stdout",
     "text": [
      "False\nTrue\nTrue\n"
     ]
    }
   ],
   "source": [
    "jd = formulaire('Doe', 'John', 2005)\n",
    "ad = formulaire('doe', 'Alice', 2000)\n",
    "dj = formulaire('Doe', 'John', 2005)\n",
    "am = formulaire('Tony', 'Marais', 1997)\n",
    "\n",
    "\n",
    "print(jd.majeur())\n",
    "print(ad.majeur())\n",
    "print(jd.memeFamille(ad))"
   ]
  },
  {
   "cell_type": "code",
   "execution_count": 365,
   "metadata": {},
   "outputs": [
    {
     "output_type": "stream",
     "name": "stdout",
     "text": [
      "False\nTrue\nFalse\nTrue\n"
     ]
    }
   ],
   "source": [
    "print(jd.memePersonne(ad))\n",
    "print(dj.memePersonne(jd))\n",
    "print(jd.memePersonne_2(ad))\n",
    "print(dj.memePersonne_2(jd))\n",
    "\n"
   ]
  },
  {
   "cell_type": "code",
   "execution_count": 367,
   "metadata": {},
   "outputs": [
    {
     "output_type": "stream",
     "name": "stdout",
     "text": [
      "TONY, MARAIS, 1997\nDOE, ALICE, 2000\nDOE, JOHN, 2005\nDOE, JOHN, 2005\n"
     ]
    }
   ],
   "source": [
    "liste = [jd, ad, dj,am]\n",
    "\n",
    "liste.sort(key = lambda x:x.anneeNaissance)\n",
    "for i in liste:\n",
    "    print(i)"
   ]
  },
  {
   "cell_type": "code",
   "execution_count": null,
   "metadata": {},
   "outputs": [],
   "source": []
  },
  {
   "cell_type": "code",
   "execution_count": 35,
   "metadata": {},
   "outputs": [
    {
     "output_type": "stream",
     "name": "stdout",
     "text": [
      "Vainqueur : Joueur 2\n"
     ]
    }
   ],
   "source": [
    "from random import randrange\n",
    "\n",
    "## on initialise toutes les valeurs et couleurs\n",
    "## que peuvent prendre les cartes\n",
    "\n",
    "valeurs = [i for i in range(1, 11)]\n",
    "couleurs = [i for i in range (1,5)]\n",
    "\n",
    "## On choisi le nombre de tour que va durée la partie\n",
    "## et on initialise le score à 0.dj\n",
    "nbTours = 7\n",
    "score = 0\n",
    "\n",
    "## Enfin on crée une liste de tuple\n",
    "## pour représenter le paquet de cartes\n",
    "\n",
    "paquet = [(v, c) for v in valeurs for c in couleurs]\n",
    "main1, main2 = [], []\n",
    "\n",
    "\n",
    "for i in range (nbTours):\n",
    "    # Le joueur 1 tire une crte aléatoirement dans le paquet\n",
    "    x = paquet[randrange(len(paquet))]\n",
    "    # La carte est ajouté à la main du joueur 1\n",
    "    main1.append(x)\n",
    "    # La carte tiré est supprimé du paquet\n",
    "    paquet.remove(x)\n",
    "    # Idem pour le joueur 2\n",
    "    y = paquet[randrange(len(paquet))]\n",
    "    main2.append(y)\n",
    "    paquet.remove(y)\n",
    "\n",
    "for i in range(nbTours):\n",
    "    if main1[1][0] > main2[i][0] or (main1[i][0] == main2[i][0] and main1[i][1] > main2[i][1]):\n",
    "        score += 1\n",
    "\n",
    "    else:\n",
    "        score -= 1\n",
    "\n",
    "\n",
    "print(\"Vainqueur : \" + (\"Joueur 1\" if score > 0 else \"Joueur 2\"))\n"
   ]
  },
  {
   "cell_type": "code",
   "execution_count": 420,
   "metadata": {},
   "outputs": [
    {
     "output_type": "stream",
     "name": "stdout",
     "text": [
      "[1, 2, 3, 4, 5, 6, 7, 8, 9, 10]\n[1, 2, 3, 4]\n[(1, 1), (1, 2), (1, 4), (2, 1), (2, 3), (2, 4), (3, 3), (4, 2), (4, 4), (5, 1), (5, 2), (5, 3), (6, 2), (6, 3), (6, 4), (7, 1), (7, 2), (7, 3), (7, 4), (8, 4), (9, 3), (9, 4), (10, 1), (10, 2), (10, 3), (10, 4)]\n[(9, 1), (8, 3), (4, 1), (3, 1), (9, 2), (5, 4), (3, 4)]\n[(8, 1), (1, 3), (8, 2), (2, 2), (3, 2), (4, 3), (6, 1)]\n7\n3\n"
     ]
    }
   ],
   "source": [
    "print(valeurs)\n",
    "print(couleurs)\n",
    "print(paquet)\n",
    "print(main1)\n",
    "print(main2)\n",
    "print(nbTours)\n",
    "print(score)"
   ]
  },
  {
   "cell_type": "code",
   "execution_count": 56,
   "metadata": {},
   "outputs": [
    {
     "output_type": "stream",
     "name": "stdout",
     "text": [
      "Vainqueur : Joueur 2\n"
     ]
    }
   ],
   "source": [
    "from random import randrange\n",
    "\n",
    "## on initialise toutes les valeurs et couleurs\n",
    "## que peuvent prendre les cartes\n",
    "\n",
    "valeurs = [i for i in range(1, 11)]\n",
    "couleurs = [i for i in range (1,5)]\n",
    "\n",
    "## On choisi le nombre de tour que va durée la partie\n",
    "## et on initialise le score à 0.dj\n",
    "nbTours = 7\n",
    "score = 0\n",
    "\n",
    "## Enfin on crée une liste de tuple\n",
    "## pour représenter le paquet de cartes\n",
    "\n",
    "paquet = [(v, c) for v in valeurs for c in couleurs]\n",
    "main1, main2 = [], []\n",
    "\n",
    "\n",
    "for i in range (nbTours):\n",
    "    # Le joueur 1 tire une crte aléatoirement dans le paquet\n",
    "    x = paquet[randrange(len(paquet))]\n",
    "    # La carte est ajouté à la main du joueur 1\n",
    "    main1.append(x)\n",
    "    # La carte tiré est supprimé du paquet\n",
    "    paquet.remove(x)\n",
    "    # Idem pour le joueur 2\n",
    "    y = paquet[randrange(len(paquet))]\n",
    "    main2.append(y)\n",
    "    paquet.remove(y)\n",
    "\n",
    "\n",
    "for i in range(nbTours):\n",
    "    if main1[1][0] > main2[i][0] or (main1[i][0] == main2[i][0] and main1[i][1] > main2[i][1]):\n",
    "        score += 1\n",
    "    else:\n",
    "        score -= 1\n",
    "            \n",
    "\n",
    "print(\"Vainqueur : \" + (\"Joueur 1\" if score > 0 else \"Joueur 2\"))"
   ]
  },
  {
   "cell_type": "code",
   "execution_count": null,
   "metadata": {},
   "outputs": [],
   "source": []
  },
  {
   "cell_type": "code",
   "execution_count": null,
   "metadata": {},
   "outputs": [],
   "source": []
  },
  {
   "cell_type": "code",
   "execution_count": 56,
   "metadata": {},
   "outputs": [
    {
     "output_type": "stream",
     "name": "stdout",
     "text": [
      "vainqueur : joueur 2\n"
     ]
    }
   ],
   "source": [
    "from random import randrange\n",
    "\n",
    "class Partie:\n",
    "    \n",
    "    def __init__(self, nbTours, nbCartes, nbCouleurs):  \n",
    "        self.nbTours = nbTours\n",
    "        self.nbCartes = nbCartes\n",
    "        self.nbCouleurs = nbCouleurs\n",
    "        self.paquet =  [(v,c) for v in range(1, self.nbCartes + 1) for c in range(1, self.nbCouleurs + 1)] \n",
    "    \n",
    "    def piocher(self):  \n",
    "        main = []\n",
    "        for i in range(self.nbTours):  \n",
    "            x = self.paquet[randrange(len(self.paquet))] \n",
    "            main.append(x)\n",
    "            self.paquet.remove(x)\n",
    "            return main   \n",
    "    def plusGrandQue(self): \n",
    "        main1 = self.piocher()   \n",
    "        main2 = self.piocher()\n",
    "        for i in range(self.nbTours): \n",
    "            score = 0\n",
    "            if main1[i][0] > main2[i][0] or (main1[i][0] == main2[i][0] and main1[i][1] > main2[i][1]):\n",
    "                score += 1\n",
    "            else:\n",
    "                score -=1\n",
    "            return score   \n",
    "    def __str__(self):   \n",
    "        score = self.plusGrandQue()\n",
    "        return \"vainqueur : \" + (\"joueur 1\" if score > 0 else \"joueur 2\") #+ \", le score est de : \" + str(score)\n",
    "\n",
    "partie1 = Partie(7, 10, 4)\n",
    "print(partie1)"
   ]
  },
  {
   "cell_type": "code",
   "execution_count": 52,
   "metadata": {},
   "outputs": [
    {
     "output_type": "stream",
     "name": "stdout",
     "text": [
      "vainqueur : joueur 1\n"
     ]
    }
   ],
   "source": [
    "partie1 = Partie(7, 10, 4)\n",
    "print(partie1)"
   ]
  },
  {
   "cell_type": "code",
   "execution_count": null,
   "metadata": {},
   "outputs": [],
   "source": []
  }
 ]
}