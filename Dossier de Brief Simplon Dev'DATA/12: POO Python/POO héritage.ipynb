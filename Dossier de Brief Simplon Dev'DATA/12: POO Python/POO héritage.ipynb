{
 "metadata": {
  "language_info": {
   "codemirror_mode": {
    "name": "ipython",
    "version": 3
   },
   "file_extension": ".py",
   "mimetype": "text/x-python",
   "name": "python",
   "nbconvert_exporter": "python",
   "pygments_lexer": "ipython3",
   "version": "3.8.3-final"
  },
  "orig_nbformat": 2,
  "kernelspec": {
   "name": "python38364bitbase551ecd6c82244bf6af01fcf12b5dc095",
   "display_name": "Python 3.8.3 64-bit ('base')"
  }
 },
 "nbformat": 4,
 "nbformat_minor": 2,
 "cells": [
  {
   "cell_type": "code",
   "execution_count": 140,
   "metadata": {},
   "outputs": [],
   "source": [
    "class formulaire:\n",
    "    def __init__(self, nom, prenom, naissance):\n",
    "        self.nom = nom\n",
    "        self.prenom = prenom\n",
    "        self.naissance = naissance\n",
    "    \n",
    "    def _set_nom(self, nom):\n",
    "        self._nom = str(nom).upper()\n",
    "        \n",
    "    def _set_prenom(self, prenom):\n",
    "        self._prenom = str(prenom).upper()\n",
    "    \n",
    "    def _set_naissance(self, naissance):\n",
    "        self._naissance = 1900\n",
    "        if str(type(naissance)) == \"<class 'list'>\":\n",
    "            naissance = \"\".join((str(s) for s in naissance))\n",
    "        if (str(type(naissance)) == \"<class 'str'>\"\n",
    "               and naissance.isnumeric()):\n",
    "            naissance = int(naissance)\n",
    "        if str(type(naissance) == \"<class 'int'>\"):\n",
    "            self._naissance = naissance\n",
    "            \n",
    "    def _get_nom(self):\n",
    "        return self._nom\n",
    "    \n",
    "    def _get_prenom(self):\n",
    "        return self._prenom\n",
    "    \n",
    "    def _get_naissance(self):\n",
    "        print(\"valeur de naissance : \"\n",
    "             + str(self._naissance))\n",
    "        return self._naissance\n",
    "    \n",
    "    nom = property(_get_nom, _set_nom)\n",
    "    prenom = property(_get_prenom, _set_prenom)\n",
    "    naissance = property(_get_naissance, _set_naissance)\n",
    "    \n",
    "    \n",
    "    def age(self):\n",
    "        return 2020 - self._naissance\n",
    "    def majeur(self):\n",
    "        return self.age() >= 18\n",
    "\n",
    "class data(formulaire):\n",
    "    def __init__(self, nom, prenom, naissance):\n",
    "        formulaire.__init__(self, nom, prenom, naissance)\n",
    "    def buildID(self):\n",
    "        self.id = self.nom[:2]\n",
    "        self.id += self.prenom[:2]\n",
    "        self.id += str(self.age())\n",
    "\n",
    "class recenssement:\n",
    "    def __init__(self, l1, l2, l3):\n",
    "        self.f2020 = l3\n",
    "        self.f2019 = l2\n",
    "        self.f2018 = l1\n",
    "    def permanents(self):\n",
    "        return [f for f in self.f2020 if f in self.f2019 and f in self.f2018]\n",
    "\n",
    "\n",
    "class listeelectorale(recenssement):\n",
    "    def __init__(self, l1, l2, l3):\n",
    "        recenssement.__init__(self, l1, l2, l3)\n",
    "        \n",
    "    def inscrits(self):\n",
    "        return [f for f in self.permanents() if\n",
    "                f.majeur()]\n",
    "    \n"
   ]
  },
  {
   "cell_type": "code",
   "execution_count": 145,
   "metadata": {},
   "outputs": [],
   "source": [
    "jd = formulaire('Doe', 'John', 1987)\n",
    "ad = formulaire('doe', 'Alice', 1996)\n",
    "ma = formulaire('Mouhammed', 'Ali', 2004)\n",
    "cc = formulaire('Coco', 'Chanel', 1883)"
   ]
  },
  {
   "cell_type": "code",
   "execution_count": 146,
   "metadata": {},
   "outputs": [
    {
     "output_type": "stream",
     "name": "stdout",
     "text": [
      "<__main__.formulaire object at 0x7f048c88a190>\n<__main__.formulaire object at 0x7f048c88a9d0>\n"
     ]
    }
   ],
   "source": [
    "l = listeelectorale([jd, ad, cc],\n",
    "                    [jd, ad, ma, cc], [ad, ma, cc])\n",
    "\n",
    "for f in l.inscrits():\n",
    "    print(f)"
   ]
  },
  {
   "cell_type": "code",
   "execution_count": 131,
   "metadata": {},
   "outputs": [
    {
     "output_type": "stream",
     "name": "stdout",
     "text": [
      "ALICE\n"
     ]
    }
   ],
   "source": [
    "print(ad.prenom)"
   ]
  },
  {
   "cell_type": "code",
   "execution_count": 147,
   "metadata": {},
   "outputs": [
    {
     "output_type": "stream",
     "name": "stdout",
     "text": [
      "None\n"
     ]
    }
   ],
   "source": [
    "ad = data('doe', 'Alice', 1996)\n",
    "\n",
    "print(ad.buildID())\n"
   ]
  },
  {
   "cell_type": "code",
   "execution_count": 41,
   "metadata": {},
   "outputs": [],
   "source": [
    "ad = (\"Doe\", \"Alice\", [1,2,3,4])"
   ]
  },
  {
   "cell_type": "code",
   "execution_count": 111,
   "metadata": {},
   "outputs": [],
   "source": [
    "## correction "
   ]
  },
  {
   "cell_type": "code",
   "execution_count": 112,
   "metadata": {},
   "outputs": [],
   "source": [
    "class data(formulaire):\n",
    "     def __init__(self,nom,prenom,naissance):\n",
    "         formulaire.__init__(self,nom, prenom, naissance)\n",
    "     def buildID(self):\n",
    "         i  = 0\n",
    "         y = 1\n",
    "         self.id = self.nom[i]+self.nom[y]+self.prenom[i]+self.prenom[y]+str(self.age())\n",
    "         return self.id"
   ]
  },
  {
   "cell_type": "code",
   "execution_count": null,
   "metadata": {},
   "outputs": [],
   "source": [
    "class data(formulaire):\n",
    "     def __init__(self,nom,prenom,naissance):\n",
    "         formulaire.__init__(self,nom, prenom, naissance)\n",
    "     def buildID(self):        \n",
    "         self.id = self.nom[:2]+self.prenom[:2]+str(self.age())\n",
    "         return self.id"
   ]
  },
  {
   "cell_type": "code",
   "execution_count": 135,
   "metadata": {},
   "outputs": [
    {
     "output_type": "stream",
     "name": "stdout",
     "text": [
      "Demande age\nDemande age\nDOJH21\nDOAL29\n"
     ]
    }
   ],
   "source": [
    "class data(formulaire):\n",
    "    def __init__(self, nom, prenom, naissance):\n",
    "        formulaire.__init__(self, nom, prenom, naissance)\n",
    "    def buildID(self):\n",
    "        self.id = self.nom[:2]\n",
    "        self.id += self.prenom[:2]\n",
    "        self.id += str(self.age())\n",
    "jd = data('Doe', 'Jhon', 1999)\n",
    "ad = data('Doe', 'Alice', 1991)\n",
    "\n",
    "jd.buildID()\n",
    "ad.buildID()\n",
    "print(jd.id)\n",
    "print(ad.id)"
   ]
  },
  {
   "cell_type": "code",
   "execution_count": null,
   "metadata": {},
   "outputs": [],
   "source": []
  }
 ]
}