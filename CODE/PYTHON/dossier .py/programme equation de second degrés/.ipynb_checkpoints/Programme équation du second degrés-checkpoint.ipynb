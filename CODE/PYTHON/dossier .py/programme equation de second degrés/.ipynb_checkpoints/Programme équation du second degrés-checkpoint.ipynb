{
 "cells": [
  {
   "cell_type": "code",
   "execution_count": 2,
   "metadata": {
    "scrolled": false
   },
   "outputs": [
    {
     "name": "stdout",
     "output_type": "stream",
     "text": [
      "Programme équation de second degrés\n",
      "\n",
      "Nous allons éxecuter ensemble la formule Mathématique Δ=b²-4*a*c\n",
      "\n",
      "veuillez isoler votre \"a\",\"b\",\"c\"\n",
      "Entrez la valeur de votre A = 3\n",
      "Entrez la valeur de votre B = -7\n",
      "Entrez la valeur de votre C = -23\n",
      "\n",
      "Le resultat de vôtre Delta (Δ) est = 325\n",
      "\n",
      "Nous allons calculer la valeurs de x1 via ce calcul: x1=-b-√Δ/2*a\n",
      "\n",
      "Le resultat de x1 est = -1.837959396219991\n",
      "\n",
      "Nous allons calculer la valeurs de x2 via ce calcul: x1=-b+√Δ/2*a\n",
      "\n",
      "Le resultat de x2 est = 4.171292729553325\n"
     ]
    }
   ],
   "source": [
    "print ('Programme équation de second degrés\\n\\nNous allons éxecuter ensemble la formule Mathématique Δ=b²-4*a*c\\n\\nveuillez isoler votre \"a\",\"b\",\"c\"' )\n",
    "from math import sqrt\n",
    "a = int(input('Entrez la valeur de votre A = '))\n",
    "b = int(input('Entrez la valeur de votre B = '))\n",
    "c = int(input('Entrez la valeur de votre C = '))\n",
    "Δ = ((b**2)-4*a*c)\n",
    "print ('')\n",
    "print('Le resultat de vôtre Delta (Δ) est =',Δ)\n",
    "print('')\n",
    "r = (sqrt(Δ))\n",
    "print ('Nous allons calculer la valeurs de x1 via ce calcul: x1=-b-√Δ/2*a')\n",
    "x1 = (-b-r)/(2*a)\n",
    "print(\"\")\n",
    "print (\"Le resultat de x1 est =\" ,x1)\n",
    "print(\"\")\n",
    "print ('Nous allons calculer la valeurs de x2 via ce calcul: x1=-b+√Δ/2*a')\n",
    "x2 = (-b+r)/(2*a)\n",
    "print(\"\")\n",
    "print (\"Le resultat de x2 est =\" ,x2)\n"
   ]
  },
  {
   "cell_type": "code",
   "execution_count": null,
   "metadata": {},
   "outputs": [],
   "source": []
  },
  {
   "cell_type": "code",
   "execution_count": null,
   "metadata": {},
   "outputs": [],
   "source": []
  },
  {
   "cell_type": "code",
   "execution_count": null,
   "metadata": {},
   "outputs": [],
   "source": []
  }
 ],
 "metadata": {
  "kernelspec": {
   "display_name": "Python 3",
   "language": "python",
   "name": "python3"
  },
  "language_info": {
   "codemirror_mode": {
    "name": "ipython",
    "version": 3
   },
   "file_extension": ".py",
   "mimetype": "text/x-python",
   "name": "python",
   "nbconvert_exporter": "python",
   "pygments_lexer": "ipython3",
   "version": "3.7.6"
  }
 },
 "nbformat": 4,
 "nbformat_minor": 4
}
